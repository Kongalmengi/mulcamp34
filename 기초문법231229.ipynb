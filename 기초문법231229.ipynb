{
  "nbformat": 4,
  "nbformat_minor": 0,
  "metadata": {
    "colab": {
      "provenance": [],
      "toc_visible": true,
      "authorship_tag": "ABX9TyO1F4BVULA0t60Iw3W6BCOs",
      "include_colab_link": true
    },
    "kernelspec": {
      "name": "python3",
      "display_name": "Python 3"
    },
    "language_info": {
      "name": "python"
    }
  },
  "cells": [
    {
      "cell_type": "markdown",
      "metadata": {
        "id": "view-in-github",
        "colab_type": "text"
      },
      "source": [
        "<a href=\"https://colab.research.google.com/github/Kongalmengi/mulcamp34/blob/main/%EA%B8%B0%EC%B4%88%EB%AC%B8%EB%B2%95231229.ipynb\" target=\"_parent\"><img src=\"https://colab.research.google.com/assets/colab-badge.svg\" alt=\"Open In Colab\"/></a>"
      ]
    },
    {
      "cell_type": "markdown",
      "source": [
        "# 딕셔너리\n",
        "- Dictionary : 영어 및 국어 사전\n",
        "- 구성 : key-value, keyword(=key), 결과값(=value)\n",
        "  + 문자열, 리스트, tuple : 데이터 조회시, 인덱싱 또는 슬라이싱\n",
        "  + 딕셔너리에서 값을 조회하는 방법은 key 값을 조회\n",
        "  + key값은 이름, 학년, 나이 따위, value값은 해당 key값에 대응하는 데이터값."
      ],
      "metadata": {
        "id": "61YhHLvk635y"
      }
    },
    {
      "cell_type": "code",
      "execution_count": null,
      "metadata": {
        "colab": {
          "base_uri": "https://localhost:8080/"
        },
        "id": "A5lve_GN38t9",
        "outputId": "6ed64e1c-7646-4f28-eb2a-884a8ec31ad5"
      },
      "outputs": [
        {
          "output_type": "execute_result",
          "data": {
            "text/plain": [
              "{'대한민국': '서울', '독일': '베를린', '영국': '런던', '프랑스': '파리'}"
            ]
          },
          "metadata": {},
          "execution_count": 2
        }
      ],
      "source": [
        "# 나라 - 수도 이름\n",
        "country_capital = {\n",
        "    \"대한민국\" : \"서울\",\n",
        "    \"독일\" : \"베를린\",\n",
        "    \"영국\" : \"런던\",\n",
        "    \"프랑스\" : \"파리\"\n",
        "}\n",
        "\n",
        "country_capital"
      ]
    },
    {
      "cell_type": "code",
      "source": [
        "# 딕셔너리에서 value값을 조회하는 방법은 key값을 통해 조회\n",
        "country_capital[\"대한민국\"]"
      ],
      "metadata": {
        "colab": {
          "base_uri": "https://localhost:8080/",
          "height": 35
        },
        "id": "BLyvuuEr9wX6",
        "outputId": "074dbd15-b212-4ca2-dff5-244b826e9e1f"
      },
      "execution_count": null,
      "outputs": [
        {
          "output_type": "execute_result",
          "data": {
            "text/plain": [
              "'서울'"
            ],
            "application/vnd.google.colaboratory.intrinsic+json": {
              "type": "string"
            }
          },
          "metadata": {},
          "execution_count": 3
        }
      ]
    },
    {
      "cell_type": "code",
      "source": [
        "country_capital[\"한국\"] # 이렇게 하면 에러가 뜬다. 당연히 해당 값은 없으니까.\n",
        "# 추가로, key값은 중복으로 만들 수 없다."
      ],
      "metadata": {
        "colab": {
          "base_uri": "https://localhost:8080/",
          "height": 184
        },
        "id": "z8WDXlMN-Ad5",
        "outputId": "23173a32-73bd-4ff5-929d-a58d4013f1b8"
      },
      "execution_count": null,
      "outputs": [
        {
          "output_type": "error",
          "ename": "KeyError",
          "evalue": "ignored",
          "traceback": [
            "\u001b[0;31m---------------------------------------------------------------------------\u001b[0m",
            "\u001b[0;31mKeyError\u001b[0m                                  Traceback (most recent call last)",
            "\u001b[0;32m<ipython-input-4-04f88ec5a105>\u001b[0m in \u001b[0;36m<cell line: 1>\u001b[0;34m()\u001b[0m\n\u001b[0;32m----> 1\u001b[0;31m \u001b[0mcountry_capital\u001b[0m\u001b[0;34m[\u001b[0m\u001b[0;34m\"한국\"\u001b[0m\u001b[0;34m]\u001b[0m\u001b[0;34m\u001b[0m\u001b[0;34m\u001b[0m\u001b[0m\n\u001b[0m",
            "\u001b[0;31mKeyError\u001b[0m: '한국'"
          ]
        }
      ]
    },
    {
      "cell_type": "code",
      "source": [
        "data = {1:'버스', 3:'비행기'}\n",
        "data[1] # 여기서 숫자1은 인덱스 번호와는 다르다. 정보가 부여된 값임."
      ],
      "metadata": {
        "colab": {
          "base_uri": "https://localhost:8080/",
          "height": 35
        },
        "id": "gCvL8bV8-RlB",
        "outputId": "02b8d67f-4d5a-4993-bb7f-087dba4ab105"
      },
      "execution_count": null,
      "outputs": [
        {
          "output_type": "execute_result",
          "data": {
            "text/plain": [
              "'버스'"
            ],
            "application/vnd.google.colaboratory.intrinsic+json": {
              "type": "string"
            }
          },
          "metadata": {},
          "execution_count": 6
        }
      ]
    },
    {
      "cell_type": "code",
      "source": [
        "data2 = {'list1' : [1, 2, 3], 'list2' : [4, 5, 6]}\n",
        "data2"
      ],
      "metadata": {
        "colab": {
          "base_uri": "https://localhost:8080/"
        },
        "id": "gZAmtJ5W_AxL",
        "outputId": "47de03af-05d8-4875-f331-2c86aacd8401"
      },
      "execution_count": null,
      "outputs": [
        {
          "output_type": "execute_result",
          "data": {
            "text/plain": [
              "{'list1': [1, 2, 3], 'list2': [4, 5, 6]}"
            ]
          },
          "metadata": {},
          "execution_count": 7
        }
      ]
    },
    {
      "cell_type": "code",
      "source": [
        "data3 = {'list1' : [1, 2, 3], 'list2' : [4, 5, 6], 1 : '테스트', 2 : 100}\n",
        "data3 # 여러 자료형이 이렇게 섞여서 들어가는 것도 가능하다."
      ],
      "metadata": {
        "colab": {
          "base_uri": "https://localhost:8080/"
        },
        "id": "0eAbUGPC_eza",
        "outputId": "9b86ff8e-4a5f-4110-cee9-6e8dc3d4264f"
      },
      "execution_count": null,
      "outputs": [
        {
          "output_type": "execute_result",
          "data": {
            "text/plain": [
              "{'list1': [1, 2, 3], 'list2': [4, 5, 6], 1: '테스트', 2: 100}"
            ]
          },
          "metadata": {},
          "execution_count": 9
        }
      ]
    },
    {
      "cell_type": "markdown",
      "source": [
        "## 딕셔너리 사용처\n",
        "- 데이터 분석 : 엑셀 테이블\n",
        "  + 1억개, 데이터 가공 (최소 1-2시간 가공작업)\n",
        "  + 임시테이블을 만들기도 한다 함.\n",
        "\n",
        "- HTML, CSS, 인터넷 자료형 중, JSON 데이터 포맷\n",
        "- JSON 데이터 포맷 >> 딕셔너리와 동일\n",
        "  + API 데이터 크롤링, 기본 자료형(JSON) >> 딕셔너리 변환, 변환 후 데이터 가공"
      ],
      "metadata": {
        "id": "jSdkR2L6_7Zi"
      }
    },
    {
      "cell_type": "markdown",
      "source": [
        "# 이하 외출 후에 받은 내용"
      ],
      "metadata": {
        "id": "GpXFajjUUOYk"
      }
    },
    {
      "cell_type": "code",
      "source": [
        "import pandas as pd\n",
        "\n",
        "# 이 데이터가 있음\n",
        "data = {\n",
        "    'A' : [1, 2, 3],\n",
        "    'B' : [4, 5, 6]\n",
        "}\n",
        "\n",
        "df = pd.DataFrame(data)\n",
        "\n",
        "# 데이터 가공 연습 ==> 1억개 데이터 적용\n",
        "df"
      ],
      "metadata": {
        "colab": {
          "base_uri": "https://localhost:8080/",
          "height": 143
        },
        "id": "a4Td2UqKApsG",
        "outputId": "73c5264c-ad0b-4b42-ab87-bea44720c05b"
      },
      "execution_count": null,
      "outputs": [
        {
          "output_type": "execute_result",
          "data": {
            "text/plain": [
              "   A  B\n",
              "0  1  4\n",
              "1  2  5\n",
              "2  3  6"
            ],
            "text/html": [
              "\n",
              "  <div id=\"df-314b82d8-310c-4b2e-9c3f-e3da14eeb703\" class=\"colab-df-container\">\n",
              "    <div>\n",
              "<style scoped>\n",
              "    .dataframe tbody tr th:only-of-type {\n",
              "        vertical-align: middle;\n",
              "    }\n",
              "\n",
              "    .dataframe tbody tr th {\n",
              "        vertical-align: top;\n",
              "    }\n",
              "\n",
              "    .dataframe thead th {\n",
              "        text-align: right;\n",
              "    }\n",
              "</style>\n",
              "<table border=\"1\" class=\"dataframe\">\n",
              "  <thead>\n",
              "    <tr style=\"text-align: right;\">\n",
              "      <th></th>\n",
              "      <th>A</th>\n",
              "      <th>B</th>\n",
              "    </tr>\n",
              "  </thead>\n",
              "  <tbody>\n",
              "    <tr>\n",
              "      <th>0</th>\n",
              "      <td>1</td>\n",
              "      <td>4</td>\n",
              "    </tr>\n",
              "    <tr>\n",
              "      <th>1</th>\n",
              "      <td>2</td>\n",
              "      <td>5</td>\n",
              "    </tr>\n",
              "    <tr>\n",
              "      <th>2</th>\n",
              "      <td>3</td>\n",
              "      <td>6</td>\n",
              "    </tr>\n",
              "  </tbody>\n",
              "</table>\n",
              "</div>\n",
              "    <div class=\"colab-df-buttons\">\n",
              "\n",
              "  <div class=\"colab-df-container\">\n",
              "    <button class=\"colab-df-convert\" onclick=\"convertToInteractive('df-314b82d8-310c-4b2e-9c3f-e3da14eeb703')\"\n",
              "            title=\"Convert this dataframe to an interactive table.\"\n",
              "            style=\"display:none;\">\n",
              "\n",
              "  <svg xmlns=\"http://www.w3.org/2000/svg\" height=\"24px\" viewBox=\"0 -960 960 960\">\n",
              "    <path d=\"M120-120v-720h720v720H120Zm60-500h600v-160H180v160Zm220 220h160v-160H400v160Zm0 220h160v-160H400v160ZM180-400h160v-160H180v160Zm440 0h160v-160H620v160ZM180-180h160v-160H180v160Zm440 0h160v-160H620v160Z\"/>\n",
              "  </svg>\n",
              "    </button>\n",
              "\n",
              "  <style>\n",
              "    .colab-df-container {\n",
              "      display:flex;\n",
              "      gap: 12px;\n",
              "    }\n",
              "\n",
              "    .colab-df-convert {\n",
              "      background-color: #E8F0FE;\n",
              "      border: none;\n",
              "      border-radius: 50%;\n",
              "      cursor: pointer;\n",
              "      display: none;\n",
              "      fill: #1967D2;\n",
              "      height: 32px;\n",
              "      padding: 0 0 0 0;\n",
              "      width: 32px;\n",
              "    }\n",
              "\n",
              "    .colab-df-convert:hover {\n",
              "      background-color: #E2EBFA;\n",
              "      box-shadow: 0px 1px 2px rgba(60, 64, 67, 0.3), 0px 1px 3px 1px rgba(60, 64, 67, 0.15);\n",
              "      fill: #174EA6;\n",
              "    }\n",
              "\n",
              "    .colab-df-buttons div {\n",
              "      margin-bottom: 4px;\n",
              "    }\n",
              "\n",
              "    [theme=dark] .colab-df-convert {\n",
              "      background-color: #3B4455;\n",
              "      fill: #D2E3FC;\n",
              "    }\n",
              "\n",
              "    [theme=dark] .colab-df-convert:hover {\n",
              "      background-color: #434B5C;\n",
              "      box-shadow: 0px 1px 3px 1px rgba(0, 0, 0, 0.15);\n",
              "      filter: drop-shadow(0px 1px 2px rgba(0, 0, 0, 0.3));\n",
              "      fill: #FFFFFF;\n",
              "    }\n",
              "  </style>\n",
              "\n",
              "    <script>\n",
              "      const buttonEl =\n",
              "        document.querySelector('#df-314b82d8-310c-4b2e-9c3f-e3da14eeb703 button.colab-df-convert');\n",
              "      buttonEl.style.display =\n",
              "        google.colab.kernel.accessAllowed ? 'block' : 'none';\n",
              "\n",
              "      async function convertToInteractive(key) {\n",
              "        const element = document.querySelector('#df-314b82d8-310c-4b2e-9c3f-e3da14eeb703');\n",
              "        const dataTable =\n",
              "          await google.colab.kernel.invokeFunction('convertToInteractive',\n",
              "                                                    [key], {});\n",
              "        if (!dataTable) return;\n",
              "\n",
              "        const docLinkHtml = 'Like what you see? Visit the ' +\n",
              "          '<a target=\"_blank\" href=https://colab.research.google.com/notebooks/data_table.ipynb>data table notebook</a>'\n",
              "          + ' to learn more about interactive tables.';\n",
              "        element.innerHTML = '';\n",
              "        dataTable['output_type'] = 'display_data';\n",
              "        await google.colab.output.renderOutput(dataTable, element);\n",
              "        const docLink = document.createElement('div');\n",
              "        docLink.innerHTML = docLinkHtml;\n",
              "        element.appendChild(docLink);\n",
              "      }\n",
              "    </script>\n",
              "  </div>\n",
              "\n",
              "\n",
              "<div id=\"df-ec4f358e-1e65-4e87-a977-adbcbc2a8eb7\">\n",
              "  <button class=\"colab-df-quickchart\" onclick=\"quickchart('df-ec4f358e-1e65-4e87-a977-adbcbc2a8eb7')\"\n",
              "            title=\"Suggest charts\"\n",
              "            style=\"display:none;\">\n",
              "\n",
              "<svg xmlns=\"http://www.w3.org/2000/svg\" height=\"24px\"viewBox=\"0 0 24 24\"\n",
              "     width=\"24px\">\n",
              "    <g>\n",
              "        <path d=\"M19 3H5c-1.1 0-2 .9-2 2v14c0 1.1.9 2 2 2h14c1.1 0 2-.9 2-2V5c0-1.1-.9-2-2-2zM9 17H7v-7h2v7zm4 0h-2V7h2v10zm4 0h-2v-4h2v4z\"/>\n",
              "    </g>\n",
              "</svg>\n",
              "  </button>\n",
              "\n",
              "<style>\n",
              "  .colab-df-quickchart {\n",
              "      --bg-color: #E8F0FE;\n",
              "      --fill-color: #1967D2;\n",
              "      --hover-bg-color: #E2EBFA;\n",
              "      --hover-fill-color: #174EA6;\n",
              "      --disabled-fill-color: #AAA;\n",
              "      --disabled-bg-color: #DDD;\n",
              "  }\n",
              "\n",
              "  [theme=dark] .colab-df-quickchart {\n",
              "      --bg-color: #3B4455;\n",
              "      --fill-color: #D2E3FC;\n",
              "      --hover-bg-color: #434B5C;\n",
              "      --hover-fill-color: #FFFFFF;\n",
              "      --disabled-bg-color: #3B4455;\n",
              "      --disabled-fill-color: #666;\n",
              "  }\n",
              "\n",
              "  .colab-df-quickchart {\n",
              "    background-color: var(--bg-color);\n",
              "    border: none;\n",
              "    border-radius: 50%;\n",
              "    cursor: pointer;\n",
              "    display: none;\n",
              "    fill: var(--fill-color);\n",
              "    height: 32px;\n",
              "    padding: 0;\n",
              "    width: 32px;\n",
              "  }\n",
              "\n",
              "  .colab-df-quickchart:hover {\n",
              "    background-color: var(--hover-bg-color);\n",
              "    box-shadow: 0 1px 2px rgba(60, 64, 67, 0.3), 0 1px 3px 1px rgba(60, 64, 67, 0.15);\n",
              "    fill: var(--button-hover-fill-color);\n",
              "  }\n",
              "\n",
              "  .colab-df-quickchart-complete:disabled,\n",
              "  .colab-df-quickchart-complete:disabled:hover {\n",
              "    background-color: var(--disabled-bg-color);\n",
              "    fill: var(--disabled-fill-color);\n",
              "    box-shadow: none;\n",
              "  }\n",
              "\n",
              "  .colab-df-spinner {\n",
              "    border: 2px solid var(--fill-color);\n",
              "    border-color: transparent;\n",
              "    border-bottom-color: var(--fill-color);\n",
              "    animation:\n",
              "      spin 1s steps(1) infinite;\n",
              "  }\n",
              "\n",
              "  @keyframes spin {\n",
              "    0% {\n",
              "      border-color: transparent;\n",
              "      border-bottom-color: var(--fill-color);\n",
              "      border-left-color: var(--fill-color);\n",
              "    }\n",
              "    20% {\n",
              "      border-color: transparent;\n",
              "      border-left-color: var(--fill-color);\n",
              "      border-top-color: var(--fill-color);\n",
              "    }\n",
              "    30% {\n",
              "      border-color: transparent;\n",
              "      border-left-color: var(--fill-color);\n",
              "      border-top-color: var(--fill-color);\n",
              "      border-right-color: var(--fill-color);\n",
              "    }\n",
              "    40% {\n",
              "      border-color: transparent;\n",
              "      border-right-color: var(--fill-color);\n",
              "      border-top-color: var(--fill-color);\n",
              "    }\n",
              "    60% {\n",
              "      border-color: transparent;\n",
              "      border-right-color: var(--fill-color);\n",
              "    }\n",
              "    80% {\n",
              "      border-color: transparent;\n",
              "      border-right-color: var(--fill-color);\n",
              "      border-bottom-color: var(--fill-color);\n",
              "    }\n",
              "    90% {\n",
              "      border-color: transparent;\n",
              "      border-bottom-color: var(--fill-color);\n",
              "    }\n",
              "  }\n",
              "</style>\n",
              "\n",
              "  <script>\n",
              "    async function quickchart(key) {\n",
              "      const quickchartButtonEl =\n",
              "        document.querySelector('#' + key + ' button');\n",
              "      quickchartButtonEl.disabled = true;  // To prevent multiple clicks.\n",
              "      quickchartButtonEl.classList.add('colab-df-spinner');\n",
              "      try {\n",
              "        const charts = await google.colab.kernel.invokeFunction(\n",
              "            'suggestCharts', [key], {});\n",
              "      } catch (error) {\n",
              "        console.error('Error during call to suggestCharts:', error);\n",
              "      }\n",
              "      quickchartButtonEl.classList.remove('colab-df-spinner');\n",
              "      quickchartButtonEl.classList.add('colab-df-quickchart-complete');\n",
              "    }\n",
              "    (() => {\n",
              "      let quickchartButtonEl =\n",
              "        document.querySelector('#df-ec4f358e-1e65-4e87-a977-adbcbc2a8eb7 button');\n",
              "      quickchartButtonEl.style.display =\n",
              "        google.colab.kernel.accessAllowed ? 'block' : 'none';\n",
              "    })();\n",
              "  </script>\n",
              "</div>\n",
              "    </div>\n",
              "  </div>\n"
            ]
          },
          "metadata": {},
          "execution_count": 12
        }
      ]
    },
    {
      "cell_type": "markdown",
      "source": [
        "## 딕셔너리 다루기\n",
        "- 딕셔너리의 value 값 수정하는 방법"
      ],
      "metadata": {
        "id": "lISHTWc-COZ4"
      }
    },
    {
      "cell_type": "code",
      "source": [
        "# 내가 좋아하는 도시 이름\n",
        "country_capital['대한민국'] = '부산'\n",
        "country_capital"
      ],
      "metadata": {
        "colab": {
          "base_uri": "https://localhost:8080/"
        },
        "id": "Rk80x1MrFtmr",
        "outputId": "76c7a1b5-05d0-4e77-95e9-0de58896891d"
      },
      "execution_count": null,
      "outputs": [
        {
          "output_type": "execute_result",
          "data": {
            "text/plain": [
              "{'대한민국': '부산', '프랑스': '파리', '미국': '워싱턴', '영국': '런던'}"
            ]
          },
          "metadata": {},
          "execution_count": 14
        }
      ]
    },
    {
      "cell_type": "code",
      "source": [
        "# del\n",
        "del country_capital['영국']\n",
        "country_capital"
      ],
      "metadata": {
        "colab": {
          "base_uri": "https://localhost:8080/"
        },
        "id": "z2_CIW2wGIXN",
        "outputId": "39713563-0c87-4e3f-e95a-69e6f967930c"
      },
      "execution_count": null,
      "outputs": [
        {
          "output_type": "execute_result",
          "data": {
            "text/plain": [
              "{'대한민국': '부산', '프랑스': '파리', '미국': '워싱턴'}"
            ]
          },
          "metadata": {},
          "execution_count": 15
        }
      ]
    },
    {
      "cell_type": "code",
      "source": [
        "country_capital['프랑스'] = None\n",
        "country_capital"
      ],
      "metadata": {
        "colab": {
          "base_uri": "https://localhost:8080/"
        },
        "id": "IZ1ef3QaGkxc",
        "outputId": "c2d6d41e-d83d-4a84-8986-a4c1b8724677"
      },
      "execution_count": null,
      "outputs": [
        {
          "output_type": "execute_result",
          "data": {
            "text/plain": [
              "{'대한민국': '부산', '프랑스': None, '미국': '워싱턴'}"
            ]
          },
          "metadata": {},
          "execution_count": 16
        }
      ]
    },
    {
      "cell_type": "code",
      "source": [
        "country_capital['일본'] = '도쿄'\n",
        "country_capital"
      ],
      "metadata": {
        "colab": {
          "base_uri": "https://localhost:8080/"
        },
        "id": "-cr5cpOSG0U1",
        "outputId": "b625ce31-a42e-4a60-d7d2-e40285ab3446"
      },
      "execution_count": null,
      "outputs": [
        {
          "output_type": "execute_result",
          "data": {
            "text/plain": [
              "{'대한민국': '부산', '프랑스': None, '미국': '워싱턴', '일본': '도쿄'}"
            ]
          },
          "metadata": {},
          "execution_count": 17
        }
      ]
    },
    {
      "cell_type": "markdown",
      "source": [
        "## 딕셔너리 메서드"
      ],
      "metadata": {
        "id": "gkRvr4sdCTNZ"
      }
    },
    {
      "cell_type": "code",
      "source": [
        "country_capital = {\n",
        "    \"대한민국\" : \"서울\",\n",
        "    \"프랑스\" : \"파리\",\n",
        "    \"미국\" : \"워싱턴\",\n",
        "    \"영국\" : \"런던\"\n",
        "}"
      ],
      "metadata": {
        "id": "ATxiM7V0KBE6"
      },
      "execution_count": 2,
      "outputs": []
    },
    {
      "cell_type": "code",
      "source": [
        "print(type(country_capital)) # 딕셔너리 객체\n",
        "# 딕셔너리가 보유한 클래스 메서드를 사용할 수 있음\n",
        "result = country_capital.keys()\n",
        "result.append('독일')"
      ],
      "metadata": {
        "colab": {
          "base_uri": "https://localhost:8080/",
          "height": 237
        },
        "id": "NkWfY3xdHCZr",
        "outputId": "0af44cba-7e62-46cd-b38c-f50279de1265"
      },
      "execution_count": null,
      "outputs": [
        {
          "output_type": "stream",
          "name": "stdout",
          "text": [
            "<class 'dict'>\n"
          ]
        },
        {
          "output_type": "error",
          "ename": "AttributeError",
          "evalue": "ignored",
          "traceback": [
            "\u001b[0;31m---------------------------------------------------------------------------\u001b[0m",
            "\u001b[0;31mAttributeError\u001b[0m                            Traceback (most recent call last)",
            "\u001b[0;32m<ipython-input-33-a856a9db9cf8>\u001b[0m in \u001b[0;36m<cell line: 4>\u001b[0;34m()\u001b[0m\n\u001b[1;32m      2\u001b[0m \u001b[0;31m# 딕셔너리가 보유한 클래스 메서드를 사용할 수 있음\u001b[0m\u001b[0;34m\u001b[0m\u001b[0;34m\u001b[0m\u001b[0m\n\u001b[1;32m      3\u001b[0m \u001b[0mresult\u001b[0m \u001b[0;34m=\u001b[0m \u001b[0mcountry_capital\u001b[0m\u001b[0;34m.\u001b[0m\u001b[0mkeys\u001b[0m\u001b[0;34m(\u001b[0m\u001b[0;34m)\u001b[0m\u001b[0;34m\u001b[0m\u001b[0;34m\u001b[0m\u001b[0m\n\u001b[0;32m----> 4\u001b[0;31m \u001b[0mresult\u001b[0m\u001b[0;34m.\u001b[0m\u001b[0mappend\u001b[0m\u001b[0;34m(\u001b[0m\u001b[0;34m'독일'\u001b[0m\u001b[0;34m)\u001b[0m\u001b[0;34m\u001b[0m\u001b[0;34m\u001b[0m\u001b[0m\n\u001b[0m",
            "\u001b[0;31mAttributeError\u001b[0m: 'dict_keys' object has no attribute 'append'"
          ]
        }
      ]
    },
    {
      "cell_type": "code",
      "source": [
        "result = list(country_capital.keys())\n",
        "result.append('독일')"
      ],
      "metadata": {
        "id": "zxzxY98YKkMN"
      },
      "execution_count": null,
      "outputs": []
    },
    {
      "cell_type": "code",
      "source": [
        "result"
      ],
      "metadata": {
        "colab": {
          "base_uri": "https://localhost:8080/"
        },
        "id": "dKLWdWGmKo7E",
        "outputId": "d8406165-5f7a-4463-8942-6c4c0375f300"
      },
      "execution_count": null,
      "outputs": [
        {
          "output_type": "execute_result",
          "data": {
            "text/plain": [
              "['대한민국', '프랑스', '미국', '영국', '독일']"
            ]
          },
          "metadata": {},
          "execution_count": 35
        }
      ]
    },
    {
      "cell_type": "code",
      "source": [
        "# 딕셔너리에서 키 전체를 리스트 형태로 반환\n",
        "print(type(country_capital.keys()))"
      ],
      "metadata": {
        "colab": {
          "base_uri": "https://localhost:8080/"
        },
        "id": "GfhX10KhIYiX",
        "outputId": "8a2b775f-03f2-4537-8941-a5614e679281"
      },
      "execution_count": null,
      "outputs": [
        {
          "output_type": "stream",
          "name": "stdout",
          "text": [
            "<class 'dict_keys'>\n"
          ]
        }
      ]
    },
    {
      "cell_type": "code",
      "source": [
        "# 데이터 형변환\n",
        "list(country_capital.keys())"
      ],
      "metadata": {
        "colab": {
          "base_uri": "https://localhost:8080/"
        },
        "id": "J3xatSEVIvXy",
        "outputId": "e3a18e4a-5393-4ef0-a2f4-aed993502b64"
      },
      "execution_count": null,
      "outputs": [
        {
          "output_type": "execute_result",
          "data": {
            "text/plain": [
              "['대한민국', '프랑스', '미국', '일본']"
            ]
          },
          "metadata": {},
          "execution_count": 27
        }
      ]
    },
    {
      "cell_type": "code",
      "source": [
        "country_capital.values()"
      ],
      "metadata": {
        "colab": {
          "base_uri": "https://localhost:8080/"
        },
        "id": "a_FvaADtIFxS",
        "outputId": "8b0aab9f-91fa-4b12-cab8-7de74e80f57e"
      },
      "execution_count": null,
      "outputs": [
        {
          "output_type": "execute_result",
          "data": {
            "text/plain": [
              "dict_values(['부산', None, '워싱턴', '도쿄'])"
            ]
          },
          "metadata": {},
          "execution_count": 22
        }
      ]
    },
    {
      "cell_type": "code",
      "source": [
        "country_capital.items()"
      ],
      "metadata": {
        "colab": {
          "base_uri": "https://localhost:8080/"
        },
        "id": "Y7TJ8sabIH1x",
        "outputId": "43c98a93-4b38-442a-83e8-3dfa8c49f33a"
      },
      "execution_count": null,
      "outputs": [
        {
          "output_type": "execute_result",
          "data": {
            "text/plain": [
              "dict_items([('대한민국', '부산'), ('프랑스', None), ('미국', '워싱턴'), ('일본', '도쿄')])"
            ]
          },
          "metadata": {},
          "execution_count": 23
        }
      ]
    },
    {
      "cell_type": "code",
      "source": [
        "new_df = {\n",
        "    '중국' : '베이징', '필리핀' : '마닐라', '호주' : '캔버라'\n",
        "}\n",
        "country_capital.update(new_df)\n",
        "country_capital"
      ],
      "metadata": {
        "colab": {
          "base_uri": "https://localhost:8080/"
        },
        "id": "2idSxQ6aJDRn",
        "outputId": "4b4d5c46-026c-45c7-8da9-d0b9464543b5"
      },
      "execution_count": null,
      "outputs": [
        {
          "output_type": "execute_result",
          "data": {
            "text/plain": [
              "{'대한민국': '부산',\n",
              " '프랑스': None,\n",
              " '미국': '워싱턴',\n",
              " '일본': '도쿄',\n",
              " '중국': '베이징',\n",
              " '필리핀': '마닐라',\n",
              " '호주': '캔버라'}"
            ]
          },
          "metadata": {},
          "execution_count": 28
        }
      ]
    },
    {
      "cell_type": "code",
      "source": [
        "country_capital.clear() # 빈 Dictionary 생성\n",
        "country_capital"
      ],
      "metadata": {
        "colab": {
          "base_uri": "https://localhost:8080/"
        },
        "id": "4IpMn_2MJbaH",
        "outputId": "a8848240-6549-4980-8a99-3e6464cb2c29"
      },
      "execution_count": null,
      "outputs": [
        {
          "output_type": "execute_result",
          "data": {
            "text/plain": [
              "{}"
            ]
          },
          "metadata": {},
          "execution_count": 29
        }
      ]
    },
    {
      "cell_type": "markdown",
      "source": [
        "# If 조건문\n",
        "- 만약 A라면 ~일 것이다\n",
        "- 프로그래밍에서 조건문\n",
        "  + 만약 조건이 True라면 ~를 해라\n",
        "  + 참과 거짓을 만드는 것이 포인트"
      ],
      "metadata": {
        "id": "pUhhnUaiLtCX"
      }
    },
    {
      "cell_type": "code",
      "source": [
        "x = int(input(\"점수를 입력하세요\")) # 문자를 숫자로 형변환\n",
        "if x >= 90: ### <- 조건문을 여러분들이 직접 설계하는 것이 포인트!\n",
        "  # 코드블록\n",
        "  print(\"합격\")"
      ],
      "metadata": {
        "colab": {
          "base_uri": "https://localhost:8080/"
        },
        "id": "JC4cuAVDMzRV",
        "outputId": "f5e8e293-79ee-4105-b316-6a9cd4d9eaaa"
      },
      "execution_count": null,
      "outputs": [
        {
          "name": "stdout",
          "output_type": "stream",
          "text": [
            "점수를 입력하세요81\n"
          ]
        }
      ]
    },
    {
      "cell_type": "markdown",
      "source": [
        "- 조건문을 문장으로 먼저 만드는 훈련을 하는 것이 중요함\n",
        "  +"
      ],
      "metadata": {
        "id": "VgwyrOKsNma6"
      }
    },
    {
      "cell_type": "code",
      "source": [
        "x = int(input(\"점수를 입력하세요\")) # 문자를 숫자로 형변환\n",
        "if x >= 90: ### <- 조건문을 여러분들이 직접 설계하는 것이 포인트!\n",
        "  print(\"합격\")\n",
        "  # ㅇㅁ\n",
        "  # ㅇㅁㄹㅇ\n",
        "  # ㅁㅇㅁㄹ\n",
        "  print(x)\n",
        "\n",
        "else:\n",
        "  print(\"불합격\")"
      ],
      "metadata": {
        "colab": {
          "base_uri": "https://localhost:8080/"
        },
        "id": "QWxV50eQN-LQ",
        "outputId": "5ac98901-4edc-4b71-f29a-2d53d21e1048"
      },
      "execution_count": null,
      "outputs": [
        {
          "output_type": "stream",
          "name": "stdout",
          "text": [
            "점수를 입력하세요90\n",
            "합격\n",
            "90\n"
          ]
        }
      ]
    },
    {
      "cell_type": "code",
      "source": [
        "x = int(input(\"점수를 입력하세요\")) # 문자를 숫자로 형변환\n",
        "if x >= 90: ### <- 조건문을 여러분들이 직접 설계하는 것이 포인트!\n",
        "  print(\"합격\")\n",
        "\n",
        "elif x >= 80:\n",
        "  print(\"부분합격, 면접 필요\")\n",
        "\n",
        "else:\n",
        "  print(\"불합격\")"
      ],
      "metadata": {
        "colab": {
          "base_uri": "https://localhost:8080/"
        },
        "id": "HNQeF1xEOfQq",
        "outputId": "5b641930-e5dd-496a-9cf8-6a074a3c4f7f"
      },
      "execution_count": null,
      "outputs": [
        {
          "output_type": "stream",
          "name": "stdout",
          "text": [
            "점수를 입력하세요85\n",
            "부분합격, 면접 필요\n"
          ]
        }
      ]
    },
    {
      "cell_type": "markdown",
      "source": [
        "# 문제\n",
        "- 학생 성적에 따라서 여러분들이 등급을 정합니다. 점수는 0에서 100점\n",
        "- A, B, C, D, F\n",
        "  + 조건식은 여러분들이 직접 임의로 작성\n",
        "- 조건문\n",
        "  + 첫 번째 조건 : 점수가 90점 이상이어야 함\n",
        "  + 두 번째 조건 : 점수가 75점 이상이어야 함"
      ],
      "metadata": {
        "id": "p91t7EWBO0qg"
      }
    },
    {
      "cell_type": "markdown",
      "source": [
        "# 이상 외출 후에 받은 내용"
      ],
      "metadata": {
        "id": "AZ-Qwyq7UW0N"
      }
    },
    {
      "cell_type": "code",
      "source": [
        "x = int(input(\"점수를 입력하세요\")) # 문자를 숫자로 형변환\n",
        "\n",
        "if x >= 90: # 경계값으로 테스트하는 것이 좋음\n",
        "  print(\"A등급\")\n",
        "\n",
        "elif x >= 75:\n",
        "  print(\"B등급\")\n",
        "else:\n",
        "  print(\"아직 값을 정하지 못함\")"
      ],
      "metadata": {
        "colab": {
          "base_uri": "https://localhost:8080/"
        },
        "id": "pDzf723eUZoz",
        "outputId": "c36c014b-6552-4011-a3f6-81c29677bef5"
      },
      "execution_count": null,
      "outputs": [
        {
          "output_type": "stream",
          "name": "stdout",
          "text": [
            "점수를 입력하세요99\n",
            "A등급\n"
          ]
        }
      ]
    },
    {
      "cell_type": "code",
      "source": [
        "# 추가로 조건문에 and 명령어를 이용하여 몇 이상, 그리고 몇 이하 이런 식으로 이중 조건을 줄 수도 있다.\n",
        "# 추가 참고 : 코드 열이 맞지 않아 오류가 나는 경우, 그 문제의 위치를 찾기 힘들 때 : shift + tap키를 쓰면 정렬되어 문제가 해결된다."
      ],
      "metadata": {
        "id": "wszU9wivWPE9"
      },
      "execution_count": null,
      "outputs": []
    },
    {
      "cell_type": "code",
      "source": [
        "# 중첩 조건문\n",
        "# if 조건문 내부에 또 다른 조건문 생성\n",
        "x = int(input(\"점수를 입력하세요\"))\n",
        "\n",
        "# 100점 맞은 사람이 있으면 '장학금' 출력\n",
        "# 합격을 받은 사람들 중에서 100점인 사람인 경우 장학금을 주겠다.\n",
        "if x >=90:\n",
        "\n",
        "  if x == 100: # 조건문 내부에 또 조건문을 만든 것임.\n",
        "    print(\"장학금 수여\")\n",
        "\n",
        "  else:\n",
        "    print(\"합격\")\n",
        "\n",
        "else:\n",
        "  print(\"불합격\")"
      ],
      "metadata": {
        "colab": {
          "base_uri": "https://localhost:8080/"
        },
        "id": "-xgw2SbLW1TU",
        "outputId": "c5ba9321-18f9-4e89-d7c2-93e5438c8f96"
      },
      "execution_count": null,
      "outputs": [
        {
          "output_type": "stream",
          "name": "stdout",
          "text": [
            "점수를 입력하세요99\n",
            "합격\n"
          ]
        }
      ]
    },
    {
      "cell_type": "markdown",
      "source": [
        "# 반복문\n",
        "- for loop, while\n",
        "- 반복문의 필요성"
      ],
      "metadata": {
        "id": "oXOCTEixX819"
      }
    },
    {
      "cell_type": "code",
      "source": [
        "# Hello Python 10번 출력해서 가져오세요\n",
        "\n",
        "print(\"Hello Python\")\n",
        "\n",
        "# 이걸 10번 복사해 넣으면 가능할 수도 있음. 하지만 반복숫자가 많이 크면 문제가 생김. 이런 경우에 반복출력을 위해 for loop가 필요."
      ],
      "metadata": {
        "id": "PTD2hv4UYLMm"
      },
      "execution_count": null,
      "outputs": []
    },
    {
      "cell_type": "code",
      "source": [
        "for i in range(10): # range 내의 숫자만큼 반복\n",
        "  print(\"Hello Python\")"
      ],
      "metadata": {
        "colab": {
          "base_uri": "https://localhost:8080/"
        },
        "id": "fs9is0JEZ8Xd",
        "outputId": "43ff2bec-af58-4852-c265-963bab1e542a"
      },
      "execution_count": null,
      "outputs": [
        {
          "output_type": "stream",
          "name": "stdout",
          "text": [
            "Hello Python\n",
            "Hello Python\n",
            "Hello Python\n",
            "Hello Python\n",
            "Hello Python\n",
            "Hello Python\n",
            "Hello Python\n",
            "Hello Python\n",
            "Hello Python\n",
            "Hello Python\n"
          ]
        }
      ]
    },
    {
      "cell_type": "markdown",
      "source": [
        "## for loop 특징\n",
        "- 반복 범위가 주어짐"
      ],
      "metadata": {
        "id": "QV5qJJfJaflP"
      }
    },
    {
      "cell_type": "code",
      "source": [
        "for i in range(3):\n",
        "  print(f'{i}번째 Hello Python') # ???????????? 요 물결 괄호의 의미를 다시 알아보자. 어제 배운 지역변수 설정과 관련 있는 것 같음."
      ],
      "metadata": {
        "colab": {
          "base_uri": "https://localhost:8080/"
        },
        "id": "ODtFyHEnandt",
        "outputId": "8521868c-dece-48de-e55c-a6d17ef95373"
      },
      "execution_count": null,
      "outputs": [
        {
          "output_type": "stream",
          "name": "stdout",
          "text": [
            "0번째 Hello Python\n",
            "1번째 Hello Python\n",
            "2번째 Hello Python\n"
          ]
        }
      ]
    },
    {
      "cell_type": "markdown",
      "source": [
        "- 반복 범위 지정 시, 시퀀스 자료형도 사용 가능\n",
        "  + 오늘 블로그 주제 : 시퀀스 자료형에 대해 정리\n",
        "  + 시퀀스 자료 중에 대표적인 것이 리스트, 문자열"
      ],
      "metadata": {
        "id": "JpzzSTT0bUGW"
      }
    },
    {
      "cell_type": "code",
      "source": [
        "# list형 되는지\n",
        "nums = [1, 2, 3, 4, 5]\n",
        "for num in nums:\n",
        "  print(num)"
      ],
      "metadata": {
        "colab": {
          "base_uri": "https://localhost:8080/"
        },
        "id": "rmEeB4yabyiW",
        "outputId": "ffc103da-7ed8-4cea-ba8b-d4dd177647fa"
      },
      "execution_count": null,
      "outputs": [
        {
          "output_type": "stream",
          "name": "stdout",
          "text": [
            "1\n",
            "2\n",
            "3\n",
            "4\n",
            "5\n"
          ]
        }
      ]
    },
    {
      "cell_type": "code",
      "source": [
        "# 문자열 되는지\n",
        "strings = \"Hello\"\n",
        "for text in strings:\n",
        "  print(text)"
      ],
      "metadata": {
        "colab": {
          "base_uri": "https://localhost:8080/"
        },
        "id": "A2oB8x7fcQz-",
        "outputId": "8a692b34-0e6b-41dc-e962-006cf1dc7c5d"
      },
      "execution_count": null,
      "outputs": [
        {
          "output_type": "stream",
          "name": "stdout",
          "text": [
            "H\n",
            "e\n",
            "l\n",
            "l\n",
            "o\n"
          ]
        }
      ]
    },
    {
      "cell_type": "code",
      "source": [
        "# 튜플 되는지\n",
        "tuples = (1, 2, 3, 4)\n",
        "for num in tuples :\n",
        "  print(num)"
      ],
      "metadata": {
        "colab": {
          "base_uri": "https://localhost:8080/"
        },
        "id": "BwRx0clQceOm",
        "outputId": "82417c91-7ff2-4fb6-8f5b-f6adc279c1a6"
      },
      "execution_count": null,
      "outputs": [
        {
          "output_type": "stream",
          "name": "stdout",
          "text": [
            "1\n",
            "2\n",
            "3\n",
            "4\n"
          ]
        }
      ]
    },
    {
      "cell_type": "code",
      "source": [
        "x = '대한민국'\n",
        "country_capital[x]"
      ],
      "metadata": {
        "colab": {
          "base_uri": "https://localhost:8080/",
          "height": 35
        },
        "id": "wALRgQlHymAG",
        "outputId": "f96de113-7d71-45f3-b521-80b5aff48a38"
      },
      "execution_count": 3,
      "outputs": [
        {
          "output_type": "execute_result",
          "data": {
            "text/plain": [
              "'서울'"
            ],
            "application/vnd.google.colaboratory.intrinsic+json": {
              "type": "string"
            }
          },
          "metadata": {},
          "execution_count": 3
        }
      ]
    },
    {
      "cell_type": "code",
      "source": [
        "x = '프랑스'\n",
        "\n",
        "print(f'대한민국의 수도는 서울이다')\n",
        "print(f'{x}의 수도는 서울이다')\n",
        "print(f'{x}의 수도는 {country_capital[x]}이다')"
      ],
      "metadata": {
        "colab": {
          "base_uri": "https://localhost:8080/"
        },
        "id": "pd8abDfHzBmm",
        "outputId": "4f589022-67b6-4370-9724-e46a8cbcfa62"
      },
      "execution_count": 4,
      "outputs": [
        {
          "output_type": "stream",
          "name": "stdout",
          "text": [
            "대한민국의 수도는 서울이다\n",
            "프랑스의 수도는 서울이다\n",
            "프랑스의 수도는 파리이다\n"
          ]
        }
      ]
    },
    {
      "cell_type": "code",
      "source": [
        "# 오늘 배운 딕셔너리 되는지\n",
        "\n",
        "country_capital\n",
        "\n",
        "for country in country_capital:\n",
        "  print(country) # key 값만 출력, 만약 value값을 원하는 경우에는? 그러니까 국가명이 아닌, 수도명을 뽑고싶은 경우는?\n",
        "  print(f'{country}의 수도는 {country_capital[country]}이다') # ???????????? f스트링은 어떤 의미를 갖는가?"
      ],
      "metadata": {
        "colab": {
          "base_uri": "https://localhost:8080/"
        },
        "id": "SqZu3BO6cpeG",
        "outputId": "263418a2-7333-4431-8852-c042e7c94cc4"
      },
      "execution_count": null,
      "outputs": [
        {
          "output_type": "stream",
          "name": "stdout",
          "text": [
            "대한민국\n",
            "대한민국의 수도는 서울이다\n",
            "프랑스\n",
            "프랑스의 수도는 파리이다\n",
            "미국\n",
            "미국의 수도는 워싱턴이다\n",
            "영국\n",
            "영국의 수도는 런던이다\n"
          ]
        }
      ]
    },
    {
      "cell_type": "code",
      "source": [
        "# 중첩 for문\n",
        "# 반복문 내 또 다른 반복문\n",
        "x_list = ['x1', 'x2']\n",
        "y_list = ['y1', 'y2']\n",
        "\n",
        "# print('x1 y1')\n",
        "# print('x1 y2')\n",
        "# print('x2 y1')\n",
        "# print('x2 y2')\n",
        "\n",
        "for x in x_list:\n",
        "  #print(x)\n",
        "  for y in y_list:\n",
        "    print(x, y)"
      ],
      "metadata": {
        "colab": {
          "base_uri": "https://localhost:8080/"
        },
        "id": "hf7F8bvMzpRg",
        "outputId": "b7063c67-1115-4e41-92c5-ec6b51b26810"
      },
      "execution_count": 5,
      "outputs": [
        {
          "output_type": "stream",
          "name": "stdout",
          "text": [
            "x1 y1\n",
            "x1 y2\n",
            "x2 y1\n",
            "x2 y2\n"
          ]
        }
      ]
    },
    {
      "cell_type": "markdown",
      "source": [
        "## 구구단"
      ],
      "metadata": {
        "id": "e-foUW6n0wq3"
      }
    },
    {
      "cell_type": "code",
      "source": [
        "x = 2\n",
        "y = 1\n",
        "f'{x} * {y} = {x * y}'"
      ],
      "metadata": {
        "colab": {
          "base_uri": "https://localhost:8080/",
          "height": 35
        },
        "id": "3LEcXgTh006g",
        "outputId": "80094734-b16c-48f3-a50d-9944ee98f0ef"
      },
      "execution_count": 6,
      "outputs": [
        {
          "output_type": "execute_result",
          "data": {
            "text/plain": [
              "'2 * 1 = 2'"
            ],
            "application/vnd.google.colaboratory.intrinsic+json": {
              "type": "string"
            }
          },
          "metadata": {},
          "execution_count": 6
        }
      ]
    },
    {
      "cell_type": "code",
      "source": [
        "# 구구단을 만들어보자\n",
        "\n",
        "x_list2 = [1, 2, 3, 4, 5, 6, 7, 8, 9]\n",
        "y_list2 = [1, 2, 3, 4, 5, 6, 7, 8, 9]\n",
        "\n",
        "for xx in x_list2:\n",
        "  for yy in y_list2:\n",
        "    k = f'{xx} * {yy} = {xx * yy}'\n",
        "    print(k)"
      ],
      "metadata": {
        "colab": {
          "base_uri": "https://localhost:8080/"
        },
        "id": "_UQiZ3U70_WX",
        "outputId": "1bdcfab8-7173-4ebd-88fc-b7294bb879ce"
      },
      "execution_count": 11,
      "outputs": [
        {
          "output_type": "stream",
          "name": "stdout",
          "text": [
            "1 * 1 = 1\n",
            "1 * 2 = 2\n",
            "1 * 3 = 3\n",
            "1 * 4 = 4\n",
            "1 * 5 = 5\n",
            "1 * 6 = 6\n",
            "1 * 7 = 7\n",
            "1 * 8 = 8\n",
            "1 * 9 = 9\n",
            "2 * 1 = 2\n",
            "2 * 2 = 4\n",
            "2 * 3 = 6\n",
            "2 * 4 = 8\n",
            "2 * 5 = 10\n",
            "2 * 6 = 12\n",
            "2 * 7 = 14\n",
            "2 * 8 = 16\n",
            "2 * 9 = 18\n",
            "3 * 1 = 3\n",
            "3 * 2 = 6\n",
            "3 * 3 = 9\n",
            "3 * 4 = 12\n",
            "3 * 5 = 15\n",
            "3 * 6 = 18\n",
            "3 * 7 = 21\n",
            "3 * 8 = 24\n",
            "3 * 9 = 27\n",
            "4 * 1 = 4\n",
            "4 * 2 = 8\n",
            "4 * 3 = 12\n",
            "4 * 4 = 16\n",
            "4 * 5 = 20\n",
            "4 * 6 = 24\n",
            "4 * 7 = 28\n",
            "4 * 8 = 32\n",
            "4 * 9 = 36\n",
            "5 * 1 = 5\n",
            "5 * 2 = 10\n",
            "5 * 3 = 15\n",
            "5 * 4 = 20\n",
            "5 * 5 = 25\n",
            "5 * 6 = 30\n",
            "5 * 7 = 35\n",
            "5 * 8 = 40\n",
            "5 * 9 = 45\n",
            "6 * 1 = 6\n",
            "6 * 2 = 12\n",
            "6 * 3 = 18\n",
            "6 * 4 = 24\n",
            "6 * 5 = 30\n",
            "6 * 6 = 36\n",
            "6 * 7 = 42\n",
            "6 * 8 = 48\n",
            "6 * 9 = 54\n",
            "7 * 1 = 7\n",
            "7 * 2 = 14\n",
            "7 * 3 = 21\n",
            "7 * 4 = 28\n",
            "7 * 5 = 35\n",
            "7 * 6 = 42\n",
            "7 * 7 = 49\n",
            "7 * 8 = 56\n",
            "7 * 9 = 63\n",
            "8 * 1 = 8\n",
            "8 * 2 = 16\n",
            "8 * 3 = 24\n",
            "8 * 4 = 32\n",
            "8 * 5 = 40\n",
            "8 * 6 = 48\n",
            "8 * 7 = 56\n",
            "8 * 8 = 64\n",
            "8 * 9 = 72\n",
            "9 * 1 = 9\n",
            "9 * 2 = 18\n",
            "9 * 3 = 27\n",
            "9 * 4 = 36\n",
            "9 * 5 = 45\n",
            "9 * 6 = 54\n",
            "9 * 7 = 63\n",
            "9 * 8 = 72\n",
            "9 * 9 = 81\n"
          ]
        }
      ]
    },
    {
      "cell_type": "code",
      "source": [
        "# 위의 결과를 range를 이용할 수도 있다.\n",
        "for xxx in range(1, 10):\n",
        "  for yyy in range(1, 10):\n",
        "    m = f'{xxx} * {yyy} = {xxx * yyy}'\n",
        "  print(m) # 요거 결과 이상하다. 다시 점검해보면 수정할 수 있을 것."
      ],
      "metadata": {
        "colab": {
          "base_uri": "https://localhost:8080/"
        },
        "id": "i9oCGult4eFI",
        "outputId": "3fb408c2-4974-412c-823a-de5f28951c4b"
      },
      "execution_count": 13,
      "outputs": [
        {
          "output_type": "stream",
          "name": "stdout",
          "text": [
            "1 * 9 = 9\n",
            "2 * 9 = 18\n",
            "3 * 9 = 27\n",
            "4 * 9 = 36\n",
            "5 * 9 = 45\n",
            "6 * 9 = 54\n",
            "7 * 9 = 63\n",
            "8 * 9 = 72\n",
            "9 * 9 = 81\n"
          ]
        }
      ]
    },
    {
      "cell_type": "code",
      "source": [
        "names = [\"A\", \"B\", \"C\"]\n",
        "for idx, name in enumerate(names):\n",
        "  print(idx, name)"
      ],
      "metadata": {
        "colab": {
          "base_uri": "https://localhost:8080/"
        },
        "id": "7dULxSx25ImZ",
        "outputId": "684baff8-2c93-48d3-bf98-30c4c1d05dea"
      },
      "execution_count": 14,
      "outputs": [
        {
          "output_type": "stream",
          "name": "stdout",
          "text": [
            "0 A\n",
            "1 B\n",
            "2 C\n"
          ]
        }
      ]
    },
    {
      "cell_type": "markdown",
      "source": [
        "## While 특징\n",
        "- for-loop 특징 : 항상 반복문의 범위를 지정한다.\n",
        "  + 몇 번 반복문을 수행할지 숫자로 제어.\n",
        "- While 특징 :\n",
        "  + 조건문이 False가 될 때 까지 반복문을 수행\n",
        "  + 조건문이 True이면 반복문은 무한수행"
      ],
      "metadata": {
        "id": "pPPnPLqo8gwq"
      }
    },
    {
      "cell_type": "code",
      "source": [
        "# 초기값 지정\n",
        "i = 1\n",
        "n = 3\n",
        "\n",
        "while i <= n : # while문에서는 이런 조건문이 중요\n",
        "  print(f'현재 {i}번')\n",
        "  i = i + 1"
      ],
      "metadata": {
        "colab": {
          "base_uri": "https://localhost:8080/"
        },
        "id": "UPwXeChb9BXT",
        "outputId": "3baef3a5-bdcc-4a75-9a29-6b810c0b3619"
      },
      "execution_count": 15,
      "outputs": [
        {
          "output_type": "stream",
          "name": "stdout",
          "text": [
            "현재 1번\n",
            "현재 2번\n",
            "현재 3번\n"
          ]
        }
      ]
    },
    {
      "cell_type": "markdown",
      "source": [
        "## for-loop, while 비교\n",
        "- 데이터 분석만 하고자 한다면 for-loop만 거의 이용\n",
        "- 개발자를 하고자 한다면 for-loop와 while 모두 이용"
      ],
      "metadata": {
        "id": "02hUfgNqAfuW"
      }
    },
    {
      "cell_type": "markdown",
      "source": [
        "## break문\n",
        "- 특정 시점에 루프를 강제종료"
      ],
      "metadata": {
        "id": "8EqQ85-sCFyl"
      }
    },
    {
      "cell_type": "code",
      "source": [
        "for i in range(10):\n",
        "  print(f'현재{i}번') # !!!!!! 물결괄호 {}의 의미는 괄호 안의 변수를 가져온다는 의미인 것 같다.\n",
        "  if i > 5:\n",
        "    print('if조건문 만족')\n",
        "    break"
      ],
      "metadata": {
        "colab": {
          "base_uri": "https://localhost:8080/"
        },
        "id": "rkYVm7eLC12s",
        "outputId": "07e55e11-7431-4c02-c026-ba67844a6151"
      },
      "execution_count": 17,
      "outputs": [
        {
          "output_type": "stream",
          "name": "stdout",
          "text": [
            "현재0번\n",
            "현재1번\n",
            "현재2번\n",
            "현재3번\n",
            "현재4번\n",
            "현재5번\n",
            "현재6번\n",
            "if조건문 만족\n"
          ]
        }
      ]
    },
    {
      "cell_type": "markdown",
      "source": [
        "### 문자열과 for-loop"
      ],
      "metadata": {
        "id": "Lv1zvZvADzis"
      }
    },
    {
      "cell_type": "code",
      "source": [
        "texts = 'Python'\n",
        "for text in texts:\n",
        "  print(text)\n",
        "  # text가 t가 되면 break\n",
        "  if text =='t':\n",
        "    print('text는 t입니다.')\n",
        "    break"
      ],
      "metadata": {
        "colab": {
          "base_uri": "https://localhost:8080/"
        },
        "id": "zomdrEJDD5G1",
        "outputId": "1bca8c3c-a23a-41f8-b59e-649c2f650042"
      },
      "execution_count": 18,
      "outputs": [
        {
          "output_type": "stream",
          "name": "stdout",
          "text": [
            "P\n",
            "y\n",
            "t\n",
            "text는 t입니다.\n"
          ]
        }
      ]
    },
    {
      "cell_type": "markdown",
      "source": [
        "## 리스트 컴프리헨션\n",
        "- for loop 및 for loop if 조건문 한 줄로 처리"
      ],
      "metadata": {
        "id": "x6FU9L6KEnT8"
      }
    },
    {
      "cell_type": "code",
      "source": [
        "# pythonic 코드\n",
        "numbers = [1, 2, 3, 4, 5]\n",
        "result = [1, 4, 9, 16, 25] # 거듭제곱. 이 결과물을 만들고 싶음."
      ],
      "metadata": {
        "id": "WGzgfiTZEzKF"
      },
      "execution_count": null,
      "outputs": []
    },
    {
      "cell_type": "code",
      "source": [
        "numbers = [1, 2, 3, 4, 5]\n",
        "result = [] # 빈 리스트를 만든 것."
      ],
      "metadata": {
        "id": "jFP91WrjFMFq"
      },
      "execution_count": null,
      "outputs": []
    },
    {
      "cell_type": "code",
      "source": [
        "result = []\n",
        "temp1 = 1 ** 1\n",
        "temp2 = 2 ** 2\n",
        "temp3 = 3 ** 3\n",
        "temp4 = 4 ** 4\n",
        "temp5 = 5 ** 5\n",
        "result.append(temp1) # 리스트 마지막에 원소 추가\n",
        "result.append(temp2)\n",
        "result.append(temp3)\n",
        "result.append(temp4)\n",
        "result.append(temp5) # 반복되는 것을 볼 수 있다. 이것을 루프를 이용하여 구현 할 생각"
      ],
      "metadata": {
        "id": "0oDlTcQnFcWc"
      },
      "execution_count": null,
      "outputs": []
    },
    {
      "cell_type": "code",
      "source": [
        "numbers = [1, 2, 3, 4, 5]\n",
        "result = []\n",
        "\n",
        "for i in numbers:\n",
        "  result.append(i ** 2)\n",
        "\n",
        "result # 결과가 나온다. 그런데 이걸 또 한 줄로 처리하고자 한다면 아래와 같다."
      ],
      "metadata": {
        "colab": {
          "base_uri": "https://localhost:8080/"
        },
        "id": "8yqjtn-lF9eV",
        "outputId": "36dc68e9-e2d2-4562-e958-25dd069ed0e7"
      },
      "execution_count": 20,
      "outputs": [
        {
          "output_type": "execute_result",
          "data": {
            "text/plain": [
              "[1, 4, 9, 16, 25]"
            ]
          },
          "metadata": {},
          "execution_count": 20
        }
      ]
    },
    {
      "cell_type": "code",
      "source": [
        "numbers = [1, 2, 3, 4, 5]\n",
        "result2 = [i ** 2 for i in numbers]\n",
        "result2 # 그냥 리스트 안에 조건코드를 넣은거네.."
      ],
      "metadata": {
        "colab": {
          "base_uri": "https://localhost:8080/"
        },
        "id": "wWqN8kZ5GOO1",
        "outputId": "f50a7641-6fbd-4f1d-b4cb-09c9ca206cfe"
      },
      "execution_count": 22,
      "outputs": [
        {
          "output_type": "execute_result",
          "data": {
            "text/plain": [
              "[1, 4, 9, 16, 25]"
            ]
          },
          "metadata": {},
          "execution_count": 22
        }
      ]
    },
    {
      "cell_type": "markdown",
      "source": [
        "## 조건문 추가"
      ],
      "metadata": {
        "id": "Jo502XZ0Kwtu"
      }
    },
    {
      "cell_type": "code",
      "source": [
        "numbers = [1, 2, 3, 4, 5]\n",
        "result = []\n",
        "\n",
        "for i in numbers:\n",
        "  if i >= 3:\n",
        "    result.append(i ** 2)\n",
        "\n",
        "result"
      ],
      "metadata": {
        "colab": {
          "base_uri": "https://localhost:8080/"
        },
        "id": "2P8-WimLK6GO",
        "outputId": "7d01937c-067b-4cd6-e380-3afd2f88934f"
      },
      "execution_count": 24,
      "outputs": [
        {
          "output_type": "execute_result",
          "data": {
            "text/plain": [
              "[9, 16, 25]"
            ]
          },
          "metadata": {},
          "execution_count": 24
        }
      ]
    },
    {
      "cell_type": "code",
      "source": [
        "numbers = [1, 2, 3, 4, 5]\n",
        "result2 = [i ** 2 for i in numbers if i>=3]\n",
        "result2"
      ],
      "metadata": {
        "colab": {
          "base_uri": "https://localhost:8080/"
        },
        "id": "rUVyQJipLOPO",
        "outputId": "b985853a-f795-483d-d49f-115200c93e10"
      },
      "execution_count": 25,
      "outputs": [
        {
          "output_type": "execute_result",
          "data": {
            "text/plain": [
              "[9, 16, 25]"
            ]
          },
          "metadata": {},
          "execution_count": 25
        }
      ]
    },
    {
      "cell_type": "markdown",
      "source": [
        "- 시각화 라이브러리\n",
        "  + matplotlib, plotly 옵션 설정 할 때 자주 사용됨"
      ],
      "metadata": {
        "id": "8TNIzmNJMHg3"
      }
    },
    {
      "cell_type": "markdown",
      "source": [
        "# 파이썬 문서화(Docstring)\n",
        "- 코딩을 한다. 프로그래밍을 한다.\n",
        "- 누군가에게 관련 지식을 전달하는 것과 동일\n",
        "\n",
        "- Docstring을 이용하여 문서화 하면, help() 명령어를 사용하여 불러오기 할 수 있음.(예. read_csv() 문서처럼 출력이 가능)"
      ],
      "metadata": {
        "id": "BS_d0SsPNFZv"
      }
    },
    {
      "cell_type": "code",
      "source": [
        "help(print) # 이렇게 하면 print 코드에 대한 설명이 나온다"
      ],
      "metadata": {
        "colab": {
          "base_uri": "https://localhost:8080/"
        },
        "id": "QCfev3PSQyvg",
        "outputId": "84af99b1-5632-458d-b459-c72e821c9bca"
      },
      "execution_count": 26,
      "outputs": [
        {
          "output_type": "stream",
          "name": "stdout",
          "text": [
            "Help on built-in function print in module builtins:\n",
            "\n",
            "print(...)\n",
            "    print(value, ..., sep=' ', end='\\n', file=sys.stdout, flush=False)\n",
            "    \n",
            "    Prints the values to a stream, or to sys.stdout by default.\n",
            "    Optional keyword arguments:\n",
            "    file:  a file-like object (stream); defaults to the current sys.stdout.\n",
            "    sep:   string inserted between values, default a space.\n",
            "    end:   string appended after the last value, default a newline.\n",
            "    flush: whether to forcibly flush the stream.\n",
            "\n"
          ]
        }
      ]
    },
    {
      "cell_type": "code",
      "source": [
        "import math\n",
        "help(math)"
      ],
      "metadata": {
        "colab": {
          "base_uri": "https://localhost:8080/"
        },
        "id": "8q0G1EOGQ5-f",
        "outputId": "e3643401-9468-4bdf-95d0-025b74946257"
      },
      "execution_count": 27,
      "outputs": [
        {
          "output_type": "stream",
          "name": "stdout",
          "text": [
            "Help on built-in module math:\n",
            "\n",
            "NAME\n",
            "    math\n",
            "\n",
            "DESCRIPTION\n",
            "    This module provides access to the mathematical functions\n",
            "    defined by the C standard.\n",
            "\n",
            "FUNCTIONS\n",
            "    acos(x, /)\n",
            "        Return the arc cosine (measured in radians) of x.\n",
            "        \n",
            "        The result is between 0 and pi.\n",
            "    \n",
            "    acosh(x, /)\n",
            "        Return the inverse hyperbolic cosine of x.\n",
            "    \n",
            "    asin(x, /)\n",
            "        Return the arc sine (measured in radians) of x.\n",
            "        \n",
            "        The result is between -pi/2 and pi/2.\n",
            "    \n",
            "    asinh(x, /)\n",
            "        Return the inverse hyperbolic sine of x.\n",
            "    \n",
            "    atan(x, /)\n",
            "        Return the arc tangent (measured in radians) of x.\n",
            "        \n",
            "        The result is between -pi/2 and pi/2.\n",
            "    \n",
            "    atan2(y, x, /)\n",
            "        Return the arc tangent (measured in radians) of y/x.\n",
            "        \n",
            "        Unlike atan(y/x), the signs of both x and y are considered.\n",
            "    \n",
            "    atanh(x, /)\n",
            "        Return the inverse hyperbolic tangent of x.\n",
            "    \n",
            "    ceil(x, /)\n",
            "        Return the ceiling of x as an Integral.\n",
            "        \n",
            "        This is the smallest integer >= x.\n",
            "    \n",
            "    comb(n, k, /)\n",
            "        Number of ways to choose k items from n items without repetition and without order.\n",
            "        \n",
            "        Evaluates to n! / (k! * (n - k)!) when k <= n and evaluates\n",
            "        to zero when k > n.\n",
            "        \n",
            "        Also called the binomial coefficient because it is equivalent\n",
            "        to the coefficient of k-th term in polynomial expansion of the\n",
            "        expression (1 + x)**n.\n",
            "        \n",
            "        Raises TypeError if either of the arguments are not integers.\n",
            "        Raises ValueError if either of the arguments are negative.\n",
            "    \n",
            "    copysign(x, y, /)\n",
            "        Return a float with the magnitude (absolute value) of x but the sign of y.\n",
            "        \n",
            "        On platforms that support signed zeros, copysign(1.0, -0.0)\n",
            "        returns -1.0.\n",
            "    \n",
            "    cos(x, /)\n",
            "        Return the cosine of x (measured in radians).\n",
            "    \n",
            "    cosh(x, /)\n",
            "        Return the hyperbolic cosine of x.\n",
            "    \n",
            "    degrees(x, /)\n",
            "        Convert angle x from radians to degrees.\n",
            "    \n",
            "    dist(p, q, /)\n",
            "        Return the Euclidean distance between two points p and q.\n",
            "        \n",
            "        The points should be specified as sequences (or iterables) of\n",
            "        coordinates.  Both inputs must have the same dimension.\n",
            "        \n",
            "        Roughly equivalent to:\n",
            "            sqrt(sum((px - qx) ** 2.0 for px, qx in zip(p, q)))\n",
            "    \n",
            "    erf(x, /)\n",
            "        Error function at x.\n",
            "    \n",
            "    erfc(x, /)\n",
            "        Complementary error function at x.\n",
            "    \n",
            "    exp(x, /)\n",
            "        Return e raised to the power of x.\n",
            "    \n",
            "    expm1(x, /)\n",
            "        Return exp(x)-1.\n",
            "        \n",
            "        This function avoids the loss of precision involved in the direct evaluation of exp(x)-1 for small x.\n",
            "    \n",
            "    fabs(x, /)\n",
            "        Return the absolute value of the float x.\n",
            "    \n",
            "    factorial(x, /)\n",
            "        Find x!.\n",
            "        \n",
            "        Raise a ValueError if x is negative or non-integral.\n",
            "    \n",
            "    floor(x, /)\n",
            "        Return the floor of x as an Integral.\n",
            "        \n",
            "        This is the largest integer <= x.\n",
            "    \n",
            "    fmod(x, y, /)\n",
            "        Return fmod(x, y), according to platform C.\n",
            "        \n",
            "        x % y may differ.\n",
            "    \n",
            "    frexp(x, /)\n",
            "        Return the mantissa and exponent of x, as pair (m, e).\n",
            "        \n",
            "        m is a float and e is an int, such that x = m * 2.**e.\n",
            "        If x is 0, m and e are both 0.  Else 0.5 <= abs(m) < 1.0.\n",
            "    \n",
            "    fsum(seq, /)\n",
            "        Return an accurate floating point sum of values in the iterable seq.\n",
            "        \n",
            "        Assumes IEEE-754 floating point arithmetic.\n",
            "    \n",
            "    gamma(x, /)\n",
            "        Gamma function at x.\n",
            "    \n",
            "    gcd(*integers)\n",
            "        Greatest Common Divisor.\n",
            "    \n",
            "    hypot(...)\n",
            "        hypot(*coordinates) -> value\n",
            "        \n",
            "        Multidimensional Euclidean distance from the origin to a point.\n",
            "        \n",
            "        Roughly equivalent to:\n",
            "            sqrt(sum(x**2 for x in coordinates))\n",
            "        \n",
            "        For a two dimensional point (x, y), gives the hypotenuse\n",
            "        using the Pythagorean theorem:  sqrt(x*x + y*y).\n",
            "        \n",
            "        For example, the hypotenuse of a 3/4/5 right triangle is:\n",
            "        \n",
            "            >>> hypot(3.0, 4.0)\n",
            "            5.0\n",
            "    \n",
            "    isclose(a, b, *, rel_tol=1e-09, abs_tol=0.0)\n",
            "        Determine whether two floating point numbers are close in value.\n",
            "        \n",
            "          rel_tol\n",
            "            maximum difference for being considered \"close\", relative to the\n",
            "            magnitude of the input values\n",
            "          abs_tol\n",
            "            maximum difference for being considered \"close\", regardless of the\n",
            "            magnitude of the input values\n",
            "        \n",
            "        Return True if a is close in value to b, and False otherwise.\n",
            "        \n",
            "        For the values to be considered close, the difference between them\n",
            "        must be smaller than at least one of the tolerances.\n",
            "        \n",
            "        -inf, inf and NaN behave similarly to the IEEE 754 Standard.  That\n",
            "        is, NaN is not close to anything, even itself.  inf and -inf are\n",
            "        only close to themselves.\n",
            "    \n",
            "    isfinite(x, /)\n",
            "        Return True if x is neither an infinity nor a NaN, and False otherwise.\n",
            "    \n",
            "    isinf(x, /)\n",
            "        Return True if x is a positive or negative infinity, and False otherwise.\n",
            "    \n",
            "    isnan(x, /)\n",
            "        Return True if x is a NaN (not a number), and False otherwise.\n",
            "    \n",
            "    isqrt(n, /)\n",
            "        Return the integer part of the square root of the input.\n",
            "    \n",
            "    lcm(*integers)\n",
            "        Least Common Multiple.\n",
            "    \n",
            "    ldexp(x, i, /)\n",
            "        Return x * (2**i).\n",
            "        \n",
            "        This is essentially the inverse of frexp().\n",
            "    \n",
            "    lgamma(x, /)\n",
            "        Natural logarithm of absolute value of Gamma function at x.\n",
            "    \n",
            "    log(...)\n",
            "        log(x, [base=math.e])\n",
            "        Return the logarithm of x to the given base.\n",
            "        \n",
            "        If the base not specified, returns the natural logarithm (base e) of x.\n",
            "    \n",
            "    log10(x, /)\n",
            "        Return the base 10 logarithm of x.\n",
            "    \n",
            "    log1p(x, /)\n",
            "        Return the natural logarithm of 1+x (base e).\n",
            "        \n",
            "        The result is computed in a way which is accurate for x near zero.\n",
            "    \n",
            "    log2(x, /)\n",
            "        Return the base 2 logarithm of x.\n",
            "    \n",
            "    modf(x, /)\n",
            "        Return the fractional and integer parts of x.\n",
            "        \n",
            "        Both results carry the sign of x and are floats.\n",
            "    \n",
            "    nextafter(x, y, /)\n",
            "        Return the next floating-point value after x towards y.\n",
            "    \n",
            "    perm(n, k=None, /)\n",
            "        Number of ways to choose k items from n items without repetition and with order.\n",
            "        \n",
            "        Evaluates to n! / (n - k)! when k <= n and evaluates\n",
            "        to zero when k > n.\n",
            "        \n",
            "        If k is not specified or is None, then k defaults to n\n",
            "        and the function returns n!.\n",
            "        \n",
            "        Raises TypeError if either of the arguments are not integers.\n",
            "        Raises ValueError if either of the arguments are negative.\n",
            "    \n",
            "    pow(x, y, /)\n",
            "        Return x**y (x to the power of y).\n",
            "    \n",
            "    prod(iterable, /, *, start=1)\n",
            "        Calculate the product of all the elements in the input iterable.\n",
            "        \n",
            "        The default start value for the product is 1.\n",
            "        \n",
            "        When the iterable is empty, return the start value.  This function is\n",
            "        intended specifically for use with numeric values and may reject\n",
            "        non-numeric types.\n",
            "    \n",
            "    radians(x, /)\n",
            "        Convert angle x from degrees to radians.\n",
            "    \n",
            "    remainder(x, y, /)\n",
            "        Difference between x and the closest integer multiple of y.\n",
            "        \n",
            "        Return x - n*y where n*y is the closest integer multiple of y.\n",
            "        In the case where x is exactly halfway between two multiples of\n",
            "        y, the nearest even value of n is used. The result is always exact.\n",
            "    \n",
            "    sin(x, /)\n",
            "        Return the sine of x (measured in radians).\n",
            "    \n",
            "    sinh(x, /)\n",
            "        Return the hyperbolic sine of x.\n",
            "    \n",
            "    sqrt(x, /)\n",
            "        Return the square root of x.\n",
            "    \n",
            "    tan(x, /)\n",
            "        Return the tangent of x (measured in radians).\n",
            "    \n",
            "    tanh(x, /)\n",
            "        Return the hyperbolic tangent of x.\n",
            "    \n",
            "    trunc(x, /)\n",
            "        Truncates the Real x to the nearest Integral toward 0.\n",
            "        \n",
            "        Uses the __trunc__ magic method.\n",
            "    \n",
            "    ulp(x, /)\n",
            "        Return the value of the least significant bit of the float x.\n",
            "\n",
            "DATA\n",
            "    e = 2.718281828459045\n",
            "    inf = inf\n",
            "    nan = nan\n",
            "    pi = 3.141592653589793\n",
            "    tau = 6.283185307179586\n",
            "\n",
            "FILE\n",
            "    (built-in)\n",
            "\n",
            "\n"
          ]
        }
      ]
    },
    {
      "cell_type": "code",
      "source": [
        "def myPower(n):\n",
        "  '''숫자 n을 입력하면 n의 거듭제곱 '''\n",
        "  result = n ** 2\n",
        "  return result"
      ],
      "metadata": {
        "id": "9fOAFaEqRNJS"
      },
      "execution_count": 28,
      "outputs": []
    },
    {
      "cell_type": "code",
      "source": [
        "print(myPower(3))"
      ],
      "metadata": {
        "colab": {
          "base_uri": "https://localhost:8080/"
        },
        "id": "g_M19Z0qRigY",
        "outputId": "bd20e5be-d1f4-4afc-e7dc-ac273925b8fa"
      },
      "execution_count": 29,
      "outputs": [
        {
          "output_type": "stream",
          "name": "stdout",
          "text": [
            "9\n"
          ]
        }
      ]
    },
    {
      "cell_type": "code",
      "source": [
        "print(myPower.__doc__) # 이렇게 하면 주석처리했던 내용이 나온다. 결국 문서화 한 것을 불러오기 위해서는 주석이 중요하다. 주석은 보통 ''' '''(다중문자) 이렇게 넣음.\n",
        "# 주석에 ''도 가능한가? 아마 가능할 것 같긴 함. 다만 그런 경우에는 긴 주석을 못넣을 뿐이지."
      ],
      "metadata": {
        "colab": {
          "base_uri": "https://localhost:8080/"
        },
        "id": "9fEWFmkrRsTA",
        "outputId": "d8ec6422-025d-4f6d-ef61-af727b55d0af"
      },
      "execution_count": 32,
      "outputs": [
        {
          "output_type": "stream",
          "name": "stdout",
          "text": [
            "숫자 n을 입력하면 n의 거듭제곱 \n"
          ]
        }
      ]
    },
    {
      "cell_type": "code",
      "source": [
        "print(print.__doc__)"
      ],
      "metadata": {
        "colab": {
          "base_uri": "https://localhost:8080/"
        },
        "id": "wK7t02XKR1ph",
        "outputId": "257a16cf-69e9-420d-97b2-f1edc617d47a"
      },
      "execution_count": 31,
      "outputs": [
        {
          "output_type": "stream",
          "name": "stdout",
          "text": [
            "print(value, ..., sep=' ', end='\\n', file=sys.stdout, flush=False)\n",
            "\n",
            "Prints the values to a stream, or to sys.stdout by default.\n",
            "Optional keyword arguments:\n",
            "file:  a file-like object (stream); defaults to the current sys.stdout.\n",
            "sep:   string inserted between values, default a space.\n",
            "end:   string appended after the last value, default a newline.\n",
            "flush: whether to forcibly flush the stream.\n"
          ]
        }
      ]
    },
    {
      "cell_type": "code",
      "source": [
        "def read_csv(sep, header):\n",
        "  ''' # 요건 다중문서\n",
        "  Returns the sum of ~~.\n",
        "\n",
        "    Parameters:\n",
        "      sep (str) : str에 대한 설명...\n",
        "      header(int) : header에 대한 설명...\n",
        "\n",
        "    Returns:\n",
        "      c(int) : c에 대한 설명...\n",
        "  '''\n",
        "  c = sep + header\n",
        "  return c"
      ],
      "metadata": {
        "id": "9UveJbrrSTVw"
      },
      "execution_count": 35,
      "outputs": []
    },
    {
      "cell_type": "code",
      "source": [
        "print(read_csv.__doc__) # 이렇게 # 안에 있는 것은 다중문서 겹따옴표 안에 있는데도 출력이 안되는 것을 확인 할 수 있다."
      ],
      "metadata": {
        "colab": {
          "base_uri": "https://localhost:8080/"
        },
        "id": "2_Uw7Ff1TPQp",
        "outputId": "707a7cbe-1267-496f-ca73-b2ff87698452"
      },
      "execution_count": 34,
      "outputs": [
        {
          "output_type": "stream",
          "name": "stdout",
          "text": [
            "\n",
            "  Returns the sum of ~~.\n",
            "\n",
            "    Parameters:\n",
            "      sep (str) : str에 대한 설명...\n",
            "      header(int) : header에 대한 설명...\n",
            "\n",
            "    Returns:\n",
            "      c(int) : c에 대한 설명...\n",
            "  \n"
          ]
        }
      ]
    },
    {
      "cell_type": "markdown",
      "source": [
        "- swagger 같은 API 명세서가 docstring일까요?\n",
        "  + 클라이언트용 명세서(공공기관, 한글 또는 워드 작업)"
      ],
      "metadata": {
        "id": "UHh9SCdaUFj3"
      }
    },
    {
      "cell_type": "markdown",
      "source": [
        "# 클래스 상속\n",
        "- 대분류, 중분류, 소분류\n",
        "\n",
        "- 동물\n",
        "  + 동물의 공통적인 특징\n",
        "- 포유류\n",
        "  + 포유류 특징\n",
        "- 파충류\n",
        "  + 파충류 특징\n",
        "- 그리고 위의 분류에서 살아 움직인다는 특징은 공통. 그렇기에 이 공통적인 특징을 하위 분류에서도 사용하게 되는데, 이를 클래스 상속이라 함."
      ],
      "metadata": {
        "id": "TxGBV-rCYKyz"
      }
    },
    {
      "cell_type": "code",
      "source": [
        "class Animal:\n",
        "  # Attribute 정의(=클래스 변수)\n",
        "  name = ''\n",
        "\n",
        "  #공통함수\n",
        "  def eat(self):\n",
        "    print('나는 먹이가 필요하다') # 클래스 하나를 정의 한 것임.\n",
        "\n",
        "class Dog(Animal): # 클래스 상속을 했다. # '개'에 Animal의 기능 부여\n",
        "  # name = '' 이 코드는 불필요\n",
        "\n",
        "  # 새로운 메서드\n",
        "  def dance(self):\n",
        "    print(f'{self.name} 강아지가 춤을 춘다')\n",
        "\n",
        "# 객체 생성\n",
        "a = Dog()\n",
        "a.name = '뽀삐'\n",
        "a.eat()"
      ],
      "metadata": {
        "colab": {
          "base_uri": "https://localhost:8080/"
        },
        "id": "EcXAMzroZWPz",
        "outputId": "d3058b25-20b2-44c0-c432-119062545e7b"
      },
      "execution_count": 37,
      "outputs": [
        {
          "output_type": "stream",
          "name": "stdout",
          "text": [
            "나는 먹이가 필요하다\n"
          ]
        }
      ]
    },
    {
      "cell_type": "code",
      "source": [
        "a.dance()"
      ],
      "metadata": {
        "colab": {
          "base_uri": "https://localhost:8080/"
        },
        "id": "97I_8o6gbzql",
        "outputId": "70c95f7d-9acf-401d-be12-d9c2421831c4"
      },
      "execution_count": 38,
      "outputs": [
        {
          "output_type": "stream",
          "name": "stdout",
          "text": [
            "뽀삐 강아지가 춤을 춘다\n"
          ]
        }
      ]
    },
    {
      "cell_type": "code",
      "source": [
        "b = Animal()\n",
        "b.name = \"올망이\"\n",
        "b.eat()"
      ],
      "metadata": {
        "colab": {
          "base_uri": "https://localhost:8080/"
        },
        "id": "_aOyTmhvboE9",
        "outputId": "a2e22d3f-23a4-4a92-a210-5053478fe11b"
      },
      "execution_count": 39,
      "outputs": [
        {
          "output_type": "stream",
          "name": "stdout",
          "text": [
            "나는 먹이가 필요하다\n"
          ]
        }
      ]
    },
    {
      "cell_type": "code",
      "source": [
        "b.dance() # 이렇게 하면 오류가 나는데, b에는 dance 기능이 없기 때문임."
      ],
      "metadata": {
        "colab": {
          "base_uri": "https://localhost:8080/",
          "height": 184
        },
        "id": "wbOEstgvb5rF",
        "outputId": "6b21b34f-4e86-4ef2-a722-f2e035b1a841"
      },
      "execution_count": 40,
      "outputs": [
        {
          "output_type": "error",
          "ename": "AttributeError",
          "evalue": "ignored",
          "traceback": [
            "\u001b[0;31m---------------------------------------------------------------------------\u001b[0m",
            "\u001b[0;31mAttributeError\u001b[0m                            Traceback (most recent call last)",
            "\u001b[0;32m<ipython-input-40-a091c07220b8>\u001b[0m in \u001b[0;36m<cell line: 1>\u001b[0;34m()\u001b[0m\n\u001b[0;32m----> 1\u001b[0;31m \u001b[0mb\u001b[0m\u001b[0;34m.\u001b[0m\u001b[0mdance\u001b[0m\u001b[0;34m(\u001b[0m\u001b[0;34m)\u001b[0m\u001b[0;34m\u001b[0m\u001b[0;34m\u001b[0m\u001b[0m\n\u001b[0m",
            "\u001b[0;31mAttributeError\u001b[0m: 'Animal' object has no attribute 'dance'"
          ]
        }
      ]
    },
    {
      "cell_type": "markdown",
      "source": [
        "## 클래스 docstring"
      ],
      "metadata": {
        "id": "ZcNC3M_gcgU0"
      }
    },
    {
      "cell_type": "code",
      "source": [
        "from types import MethodDescriptorType\n",
        "class Person:\n",
        "  '''\n",
        "  자기소개하는 Person 클래스.\n",
        "\n",
        "  Attributes\n",
        "  ----------\n",
        "  name : str\n",
        "    이름\n",
        "  age : int\n",
        "    나이\n",
        "  grade : int\n",
        "    학년\n",
        "\n",
        "  Methods\n",
        "  ----------\n",
        "  info(comment=''):\n",
        "    개인정보 출력\n",
        "\n",
        "\n",
        "  '''\n",
        "  def __init__(self, name, age, grade):\n",
        "    self.name = name\n",
        "    self.age = age\n",
        "    self.grade = grade\n",
        "\n",
        "  def info(self, comment = ''):\n",
        "    print(f'내 이름은 {self.name}. 내 나이는 {self.age}. 현재 학년은 {self.grade}. {comment}')"
      ],
      "metadata": {
        "id": "GrIVEBfUcmjY"
      },
      "execution_count": 42,
      "outputs": []
    },
    {
      "cell_type": "code",
      "source": [
        "print(Person.__doc__)"
      ],
      "metadata": {
        "colab": {
          "base_uri": "https://localhost:8080/"
        },
        "id": "TfIjj60IeQcl",
        "outputId": "daf139bc-82c2-443c-8c24-8ee61e713949"
      },
      "execution_count": 43,
      "outputs": [
        {
          "output_type": "stream",
          "name": "stdout",
          "text": [
            "\n",
            "  자기소개하는 Person 클래스.\n",
            "  \n",
            "  Attributes\n",
            "  ----------\n",
            "  name : str\n",
            "    이름\n",
            "  age : int\n",
            "    나이\n",
            "  grade : int\n",
            "    학년\n",
            "\n",
            "  Methods\n",
            "  ----------\n",
            "  info(comment=''):\n",
            "    개인정보 출력\n",
            "  \n",
            "\n",
            "  \n"
          ]
        }
      ]
    },
    {
      "cell_type": "code",
      "source": [
        "help(Person) # 이렇게 하면 작성한 코드까지 다 나온다."
      ],
      "metadata": {
        "colab": {
          "base_uri": "https://localhost:8080/"
        },
        "id": "sC1--xsSeYOU",
        "outputId": "8bd387cf-a85c-4f4b-b52e-61ae5693655a"
      },
      "execution_count": 44,
      "outputs": [
        {
          "output_type": "stream",
          "name": "stdout",
          "text": [
            "Help on class Person in module __main__:\n",
            "\n",
            "class Person(builtins.object)\n",
            " |  Person(name, age, grade)\n",
            " |  \n",
            " |  자기소개하는 Person 클래스.\n",
            " |  \n",
            " |  Attributes\n",
            " |  ----------\n",
            " |  name : str\n",
            " |    이름\n",
            " |  age : int\n",
            " |    나이\n",
            " |  grade : int\n",
            " |    학년\n",
            " |  \n",
            " |  Methods\n",
            " |  ----------\n",
            " |  info(comment=''):\n",
            " |    개인정보 출력\n",
            " |  \n",
            " |  Methods defined here:\n",
            " |  \n",
            " |  __init__(self, name, age, grade)\n",
            " |      Initialize self.  See help(type(self)) for accurate signature.\n",
            " |  \n",
            " |  info(self, comment='')\n",
            " |  \n",
            " |  ----------------------------------------------------------------------\n",
            " |  Data descriptors defined here:\n",
            " |  \n",
            " |  __dict__\n",
            " |      dictionary for instance variables (if defined)\n",
            " |  \n",
            " |  __weakref__\n",
            " |      list of weak references to the object (if defined)\n",
            "\n"
          ]
        }
      ]
    }
  ]
}