{
  "nbformat": 4,
  "nbformat_minor": 0,
  "metadata": {
    "colab": {
      "provenance": [],
      "toc_visible": true,
      "authorship_tag": "ABX9TyMylpQO/NCcKl/gNSih6dQA",
      "include_colab_link": true
    },
    "kernelspec": {
      "name": "python3",
      "display_name": "Python 3"
    },
    "language_info": {
      "name": "python"
    }
  },
  "cells": [
    {
      "cell_type": "markdown",
      "metadata": {
        "id": "view-in-github",
        "colab_type": "text"
      },
      "source": [
        "<a href=\"https://colab.research.google.com/github/Kongalmengi/mulcamp34/blob/main/%EA%B8%B0%EC%B4%88%EB%AC%B8%EB%B2%95231227.ipynb\" target=\"_parent\"><img src=\"https://colab.research.google.com/assets/colab-badge.svg\" alt=\"Open In Colab\"/></a>"
      ]
    },
    {
      "cell_type": "code",
      "execution_count": null,
      "metadata": {
        "id": "lByQYNkgn5mW"
      },
      "outputs": [],
      "source": []
    },
    {
      "cell_type": "markdown",
      "source": [
        "# Chapter 3. 파이썬을 계산기처럼"
      ],
      "metadata": {
        "id": "0Dhk5rQnoUKc"
      }
    },
    {
      "cell_type": "markdown",
      "source": [
        "## 사칙연산"
      ],
      "metadata": {
        "id": "fEVT8ylFrSCV"
      }
    },
    {
      "cell_type": "code",
      "source": [
        "1+1 #정수"
      ],
      "metadata": {
        "colab": {
          "base_uri": "https://localhost:8080/"
        },
        "id": "QRQuLFn4rUKF",
        "outputId": "5fab8c84-c521-4edf-dc73-8bd73e61a2c8"
      },
      "execution_count": 1,
      "outputs": [
        {
          "output_type": "execute_result",
          "data": {
            "text/plain": [
              "2"
            ]
          },
          "metadata": {},
          "execution_count": 1
        }
      ]
    },
    {
      "cell_type": "code",
      "source": [
        "5-2 #정수 연산 결과값은 정수로 반환"
      ],
      "metadata": {
        "colab": {
          "base_uri": "https://localhost:8080/"
        },
        "id": "ASyoqZ6FrVh7",
        "outputId": "8bfbf1e0-3726-4f8c-c8b0-3ae25ecf1fa0"
      },
      "execution_count": 2,
      "outputs": [
        {
          "output_type": "execute_result",
          "data": {
            "text/plain": [
              "3"
            ]
          },
          "metadata": {},
          "execution_count": 2
        }
      ]
    },
    {
      "cell_type": "code",
      "source": [
        "5 -2"
      ],
      "metadata": {
        "colab": {
          "base_uri": "https://localhost:8080/"
        },
        "id": "pfVToGbNreOk",
        "outputId": "b81e7dab-6ac6-4835-d34d-e5a8a1555a72"
      },
      "execution_count": 3,
      "outputs": [
        {
          "output_type": "execute_result",
          "data": {
            "text/plain": [
              "3"
            ]
          },
          "metadata": {},
          "execution_count": 3
        }
      ]
    },
    {
      "cell_type": "code",
      "source": [
        "15*2"
      ],
      "metadata": {
        "colab": {
          "base_uri": "https://localhost:8080/"
        },
        "id": "nHAW8_MerhKa",
        "outputId": "3fb2730f-89a2-4025-d46c-a181ffdd78d8"
      },
      "execution_count": 4,
      "outputs": [
        {
          "output_type": "execute_result",
          "data": {
            "text/plain": [
              "30"
            ]
          },
          "metadata": {},
          "execution_count": 4
        }
      ]
    },
    {
      "cell_type": "code",
      "source": [
        "# 나눗셈\n",
        "# Python 3.x 버전은 실수로 처리\n",
        "# Python 2.x 버전은 정수로 처리\n",
        "10/2  # 정수 / 정수 ===> 반환값은 실수형으로 반환"
      ],
      "metadata": {
        "colab": {
          "base_uri": "https://localhost:8080/"
        },
        "id": "b8dqMMz6rrs1",
        "outputId": "6f4ba5f7-39e3-4a2b-ebbc-6eedee2dac5e"
      },
      "execution_count": 5,
      "outputs": [
        {
          "output_type": "execute_result",
          "data": {
            "text/plain": [
              "5.0"
            ]
          },
          "metadata": {},
          "execution_count": 5
        }
      ]
    },
    {
      "cell_type": "markdown",
      "source": [
        "## 실수연산"
      ],
      "metadata": {
        "id": "kwRWdPmbsW7t"
      }
    },
    {
      "cell_type": "code",
      "source": [
        "1.2+5.2     # 덧셈\n",
        "4.5-30.2    # 뺄셈\n",
        "2.7*15.2    # 곱셈\n",
        "17.5/3.2    # 나눗셈\n",
        "# 최종결과가 마지막것만 나온다. 이런 경우는 아래와 같이 print 명령어를 이용한다. 그 전에 일반적으로 print에 익숙해지는 것이 좋다."
      ],
      "metadata": {
        "colab": {
          "base_uri": "https://localhost:8080/"
        },
        "id": "NE1XNXnqsRnL",
        "outputId": "a18d5594-cb60-4873-c46a-e889e1efbe1f"
      },
      "execution_count": 8,
      "outputs": [
        {
          "output_type": "execute_result",
          "data": {
            "text/plain": [
              "5.46875"
            ]
          },
          "metadata": {},
          "execution_count": 8
        }
      ]
    },
    {
      "cell_type": "code",
      "source": [
        "print(1.2+5.2)     # 덧셈\n",
        "print(4.5-30.2)    # 뺄셈\n",
        "print(2.7*15.2)    # 곱셈\n",
        "print(17.5/3.2)    # 나눗셈"
      ],
      "metadata": {
        "colab": {
          "base_uri": "https://localhost:8080/"
        },
        "outputId": "45e9f2fc-b7a9-4f8d-972d-ca3e7a54011e",
        "id": "mI6CK6Cjs7OM"
      },
      "execution_count": 9,
      "outputs": [
        {
          "output_type": "stream",
          "name": "stdout",
          "text": [
            "6.4\n",
            "-25.7\n",
            "41.04\n",
            "5.46875\n"
          ]
        }
      ]
    },
    {
      "cell_type": "markdown",
      "source": [
        "### 연산규칙\n",
        "- (1) 괄호안 계산\n",
        "- (2) 지수 계산\n",
        "- (3) 곱셈과 나눗셈 계산\n",
        "- (4) 덧셈과 뺄셈 계산\n",
        "- (5) 같은 순위 연산이면 왼쪽에서 오른쪽으로\n",
        "- (6) 중복된 괄호가 있을 경우, 안쪽에서부터 처리"
      ],
      "metadata": {
        "id": "OuVCuu48tX31"
      }
    },
    {
      "cell_type": "code",
      "source": [
        "print(2+3*4)"
      ],
      "metadata": {
        "colab": {
          "base_uri": "https://localhost:8080/"
        },
        "id": "DorluYWwt2xO",
        "outputId": "52cc3b91-183f-443b-d780-28529108c1be"
      },
      "execution_count": 11,
      "outputs": [
        {
          "output_type": "stream",
          "name": "stdout",
          "text": [
            "14\n"
          ]
        }
      ]
    },
    {
      "cell_type": "code",
      "source": [
        "print(3 / 2 * 4 - 5 / 2)"
      ],
      "metadata": {
        "colab": {
          "base_uri": "https://localhost:8080/"
        },
        "id": "qJn87MGMt_g1",
        "outputId": "012dfaf9-66a7-491b-c08f-ea462c490e2e"
      },
      "execution_count": 12,
      "outputs": [
        {
          "output_type": "stream",
          "name": "stdout",
          "text": [
            "3.5\n"
          ]
        }
      ]
    },
    {
      "cell_type": "code",
      "source": [
        "print((5*4-15) + (5 - 2) * (9-7))"
      ],
      "metadata": {
        "colab": {
          "base_uri": "https://localhost:8080/"
        },
        "id": "MSGfk-1nuRFN",
        "outputId": "e20e9ddf-c937-4430-8f3d-ca738c0f2748"
      },
      "execution_count": 13,
      "outputs": [
        {
          "output_type": "stream",
          "name": "stdout",
          "text": [
            "11\n"
          ]
        }
      ]
    },
    {
      "cell_type": "markdown",
      "source": [
        "## type()\n",
        "- 함수 : 특정 기능을 수행하도록 만든 명령어\n",
        "  + 특정 함수를 조건만 맞춰주면 동작\n",
        "  "
      ],
      "metadata": {
        "id": "Bz7jv5Rty2MP"
      }
    },
    {
      "cell_type": "markdown",
      "source": [
        "함수의 종류\n",
        "- 내장(built-in)함수 : 파이썬 설치와 함께 제공하는 기본적인 함수\n",
        "  + print(), type()\n",
        "  + 종류는 몇 개? (여러개)\n",
        "  + 5주차~ 8주차 Documentation : 함수를 설명해주는 문서 보는 법 익힐 것\n",
        "\n",
        "- 라이브러리에서 제공하는 함수\n",
        "  + R 에서는 패키지라 부름\n",
        "  + Python 에서는 라이브러리라 부름\n",
        "  + 목적이 분명한 것이 특징.\n",
        "    - 웹사이트 개발 : 웹사이트와 관련된 라이브러리를 별도 설치\n",
        "    - 통계분석 : 통계분석과 관련된 라이브러리를 별도 설치\n",
        "    - 시각화 : 시각화와 관련된 라이브러리를 별도 설치\n",
        "    - 게임개발 : 이것도 이와 관련된 라이브러리 설치\n",
        "    - 수치연산 주요 라이브러리 : numpy, scipy"
      ],
      "metadata": {
        "id": "iO7i9wCdzsKA"
      }
    },
    {
      "cell_type": "code",
      "source": [
        "# 파이썬에서는 정수를 어떻게 표현?\n",
        "# 파이썬에서는 실수를 어떻게 표현?\n",
        "print(type(3))\n",
        "## end 키를 누르면 뒷괄호 붙이기가 편하다. 커서가 가장 마지막으로 가니까."
      ],
      "metadata": {
        "colab": {
          "base_uri": "https://localhost:8080/"
        },
        "id": "sLm3pc1muu7G",
        "outputId": "e8773656-4345-4a24-85c0-8ba7529b4b23"
      },
      "execution_count": 16,
      "outputs": [
        {
          "output_type": "stream",
          "name": "stdout",
          "text": [
            "<class 'int'>\n"
          ]
        }
      ]
    },
    {
      "cell_type": "code",
      "source": [
        "print(type(3.5))"
      ],
      "metadata": {
        "colab": {
          "base_uri": "https://localhost:8080/"
        },
        "id": "oNVq-WH7u3n2",
        "outputId": "285d367c-8753-4aba-bf71-592dd3801e06"
      },
      "execution_count": 15,
      "outputs": [
        {
          "output_type": "stream",
          "name": "stdout",
          "text": [
            "<class 'float'>\n"
          ]
        }
      ]
    },
    {
      "cell_type": "markdown",
      "source": [
        "- 파이썬은 객체지향 언어."
      ],
      "metadata": {
        "id": "vKNoxjcD1wTQ"
      }
    },
    {
      "cell_type": "code",
      "source": [
        "print(type(~~)) #이렇게 사용 조건이 맞지 않으면 에러가 뜬다"
      ],
      "metadata": {
        "colab": {
          "base_uri": "https://localhost:8080/",
          "height": 147
        },
        "id": "FJF8M7KizSHf",
        "outputId": "06328a87-ecb3-47b8-a818-03b0b4438b01"
      },
      "execution_count": 18,
      "outputs": [
        {
          "output_type": "error",
          "ename": "SyntaxError",
          "evalue": "ignored",
          "traceback": [
            "\u001b[0;36m  File \u001b[0;32m\"<ipython-input-18-78baed992b13>\"\u001b[0;36m, line \u001b[0;32m1\u001b[0m\n\u001b[0;31m    print(type(~~)) #이렇게 사용 조건이 맞지 않으면 에러가 뜬다\u001b[0m\n\u001b[0m                 ^\u001b[0m\n\u001b[0;31mSyntaxError\u001b[0m\u001b[0;31m:\u001b[0m invalid syntax\n"
          ]
        }
      ]
    },
    {
      "cell_type": "markdown",
      "source": [
        "## 거듭제곱과 나머지\n",
        "- 숫자 A를 n번 곱하는 것이 거듭제곱(영어로는 power)\n",
        " + A는 밑, n은 지수\n",
        " + 파이썬에서는 곱하기를 두 번 입력하여 사용 (**)"
      ],
      "metadata": {
        "id": "HiX-ppYK2CVA"
      }
    },
    {
      "cell_type": "code",
      "source": [
        "print(2**5) # 거듭제곱"
      ],
      "metadata": {
        "colab": {
          "base_uri": "https://localhost:8080/"
        },
        "id": "W8qLftSy2UkF",
        "outputId": "c39c2965-7bd3-4fb0-d57b-68e735084db0"
      },
      "execution_count": 19,
      "outputs": [
        {
          "output_type": "stream",
          "name": "stdout",
          "text": [
            "32\n"
          ]
        }
      ]
    },
    {
      "cell_type": "markdown",
      "source": [
        "- 나머지 구하는 법"
      ],
      "metadata": {
        "id": "nyO1km0l2rxI"
      }
    },
    {
      "cell_type": "code",
      "source": [
        "12 % 5 # 나머지 (%)"
      ],
      "metadata": {
        "colab": {
          "base_uri": "https://localhost:8080/"
        },
        "id": "q3NhHHXa2tyS",
        "outputId": "8c877b42-ccac-4b33-a84a-a451d90b4dbb"
      },
      "execution_count": 20,
      "outputs": [
        {
          "output_type": "execute_result",
          "data": {
            "text/plain": [
              "2"
            ]
          },
          "metadata": {},
          "execution_count": 20
        }
      ]
    },
    {
      "cell_type": "code",
      "source": [
        "# 몫을 구하고 싶음 (//)\n",
        "13 // 5"
      ],
      "metadata": {
        "colab": {
          "base_uri": "https://localhost:8080/"
        },
        "id": "izrFyCzS21mM",
        "outputId": "1ae0d9f8-d9fe-4ac3-c055-f21376dbd480"
      },
      "execution_count": 21,
      "outputs": [
        {
          "output_type": "execute_result",
          "data": {
            "text/plain": [
              "2"
            ]
          },
          "metadata": {},
          "execution_count": 21
        }
      ]
    },
    {
      "cell_type": "markdown",
      "source": [
        "- 교재 표 3-1(p34) 산술연산자 표 정리"
      ],
      "metadata": {
        "id": "nLzBCr-e3AGB"
      }
    },
    {
      "cell_type": "markdown",
      "source": [
        "## 과학적 표기법(scientific notation)\n",
        "- 아주 큰 수, 작은 수를 다뤄야 하는 경우\n",
        "  + 30만 km/s\n",
        "  + 3*10^8 m/s"
      ],
      "metadata": {
        "id": "WZDz9Zv03kLB"
      }
    },
    {
      "cell_type": "code",
      "source": [
        "3*10**8"
      ],
      "metadata": {
        "colab": {
          "base_uri": "https://localhost:8080/"
        },
        "id": "tOjO9fRH4UC7",
        "outputId": "d50328c8-5185-4e9a-8021-e6563e64fbe6"
      },
      "execution_count": 22,
      "outputs": [
        {
          "output_type": "execute_result",
          "data": {
            "text/plain": [
              "300000000"
            ]
          },
          "metadata": {},
          "execution_count": 22
        }
      ]
    },
    {
      "cell_type": "code",
      "source": [
        "3e8 # 결과물은 위와 같다.(이렇게 e로 10의 거듭제곱을 표현한다)"
      ],
      "metadata": {
        "colab": {
          "base_uri": "https://localhost:8080/"
        },
        "id": "7G470Bwm4Wds",
        "outputId": "6cbc37d3-1c8b-4dca-ac64-68455566f009"
      },
      "execution_count": 24,
      "outputs": [
        {
          "output_type": "execute_result",
          "data": {
            "text/plain": [
              "300000000.0"
            ]
          },
          "metadata": {},
          "execution_count": 24
        }
      ]
    },
    {
      "cell_type": "code",
      "source": [
        "3e-4"
      ],
      "metadata": {
        "colab": {
          "base_uri": "https://localhost:8080/"
        },
        "id": "v1KUtWow4aI7",
        "outputId": "5e9f510b-777b-4186-8d3e-ce852b6802ed"
      },
      "execution_count": 25,
      "outputs": [
        {
          "output_type": "execute_result",
          "data": {
            "text/plain": [
              "0.0003"
            ]
          },
          "metadata": {},
          "execution_count": 25
        }
      ]
    },
    {
      "cell_type": "markdown",
      "source": [
        "- 질문거리 : 그럼 자연로그의 밑 e는 어떻게 표현? (라이브러리가 따로 존재, 수치연산 라이브러리 numpy, scipy)"
      ],
      "metadata": {
        "id": "PhjSYylQ699S"
      }
    },
    {
      "cell_type": "markdown",
      "source": [
        "## 진수 표현과 변환\n",
        "- 일반적으로 10진법을 많이 사용\n",
        "- 60초가 1분, 60분이 1시간 : 60진법\n",
        "- 오전 12시간, 오후 12시간, 1년 12달 : 12진법\n",
        "- 컴퓨터 프로그래밍 : 2진법\n",
        "- 8진법 : 0~7까지 숫자 이용\n",
        "- 16진법 : 0~9, a, b, c, d, e, f까지 이용\n",
        "- 메서드\n",
        "  + bin() : 10진수를 2진수로 변환\n",
        "  + oct() : 10진수를 8진수로 변환\n",
        "  + hex() : 10진수를 16진수로 변환"
      ],
      "metadata": {
        "id": "COagRg-V5Voa"
      }
    },
    {
      "cell_type": "code",
      "source": [
        "17 # 10진법"
      ],
      "metadata": {
        "colab": {
          "base_uri": "https://localhost:8080/"
        },
        "id": "pyrnTXvo6LJD",
        "outputId": "a379d8c8-d7fb-4c33-bfae-82ffca84bbd1"
      },
      "execution_count": 27,
      "outputs": [
        {
          "output_type": "execute_result",
          "data": {
            "text/plain": [
              "17"
            ]
          },
          "metadata": {},
          "execution_count": 27
        }
      ]
    },
    {
      "cell_type": "code",
      "source": [
        "0b10001 #2진법"
      ],
      "metadata": {
        "colab": {
          "base_uri": "https://localhost:8080/"
        },
        "id": "AFB85YsS6Phh",
        "outputId": "a0b06226-accc-4708-8cdb-e1bdebaa033e"
      },
      "execution_count": 29,
      "outputs": [
        {
          "output_type": "execute_result",
          "data": {
            "text/plain": [
              "17"
            ]
          },
          "metadata": {},
          "execution_count": 29
        }
      ]
    },
    {
      "cell_type": "code",
      "source": [
        "0o21 # 8진법"
      ],
      "metadata": {
        "colab": {
          "base_uri": "https://localhost:8080/"
        },
        "id": "nZEJ-1df6YOw",
        "outputId": "3fe3d5b4-129a-4152-de0e-de6c516d4312"
      },
      "execution_count": 30,
      "outputs": [
        {
          "output_type": "execute_result",
          "data": {
            "text/plain": [
              "17"
            ]
          },
          "metadata": {},
          "execution_count": 30
        }
      ]
    },
    {
      "cell_type": "code",
      "source": [
        "0x11 #16진법"
      ],
      "metadata": {
        "colab": {
          "base_uri": "https://localhost:8080/"
        },
        "id": "ZvJxku2L6m_Z",
        "outputId": "b830f6bb-1356-4b8a-c386-ff458a7a795e"
      },
      "execution_count": 31,
      "outputs": [
        {
          "output_type": "execute_result",
          "data": {
            "text/plain": [
              "17"
            ]
          },
          "metadata": {},
          "execution_count": 31
        }
      ]
    },
    {
      "cell_type": "markdown",
      "source": [
        "- 질문거리 : 그럼 일반적이지 않은 진법표시는? 그러니까 17진법 이런 것들.(이건 자료를 따로 찾아봐야 함)"
      ],
      "metadata": {
        "id": "t0oMXyUT6hBS"
      }
    },
    {
      "cell_type": "markdown",
      "source": [
        "## 논리 연산 및 비교 연산 (매우 중요)\n",
        "- 참/거짓\n",
        "- 논리 연산 활용이 프로그래밍의 핵심"
      ],
      "metadata": {
        "id": "E7edYBbi7Idl"
      }
    },
    {
      "cell_type": "code",
      "source": [
        "print(True)"
      ],
      "metadata": {
        "colab": {
          "base_uri": "https://localhost:8080/"
        },
        "id": "uJ06zXeJ6cjb",
        "outputId": "4d72561e-0f19-4ced-be26-aea91f415628"
      },
      "execution_count": 32,
      "outputs": [
        {
          "output_type": "stream",
          "name": "stdout",
          "text": [
            "True\n"
          ]
        }
      ]
    },
    {
      "cell_type": "code",
      "source": [
        "print(False)"
      ],
      "metadata": {
        "colab": {
          "base_uri": "https://localhost:8080/"
        },
        "id": "D2V8Krk678Gv",
        "outputId": "31eb4f06-d7b3-426f-fabf-dba8ccc9e10e"
      },
      "execution_count": 33,
      "outputs": [
        {
          "output_type": "stream",
          "name": "stdout",
          "text": [
            "False\n"
          ]
        }
      ]
    },
    {
      "cell_type": "code",
      "source": [
        "print(type(True))"
      ],
      "metadata": {
        "colab": {
          "base_uri": "https://localhost:8080/"
        },
        "id": "sFaVFNkV7-UP",
        "outputId": "0cdc5540-9b94-4ad0-f26b-5d62da246c89"
      },
      "execution_count": 34,
      "outputs": [
        {
          "output_type": "stream",
          "name": "stdout",
          "text": [
            "<class 'bool'>\n"
          ]
        }
      ]
    },
    {
      "cell_type": "markdown",
      "source": [
        "### 논리 연산자\n",
        "- and : A and B : A와 B 모두 참일 때 참\n",
        "- or : A or B : A와 B 중에서 하나라도 참이면 참, 둘 다 거짓일 때 거짓\n",
        "- not : not A : A가 참일 때 거짓, A가 거짓일 때 참"
      ],
      "metadata": {
        "id": "l6pZuMDA8Tta"
      }
    },
    {
      "cell_type": "code",
      "source": [
        "print(True and True)\n",
        "print(True and False)\n",
        "print(False and True)\n",
        "print(False and False) # 둘 중 하나만 False면 False"
      ],
      "metadata": {
        "colab": {
          "base_uri": "https://localhost:8080/"
        },
        "id": "8Ob5DeGsBT40",
        "outputId": "168ebbb9-eab2-4998-afa4-912064bbf54e"
      },
      "execution_count": 37,
      "outputs": [
        {
          "output_type": "stream",
          "name": "stdout",
          "text": [
            "True\n",
            "False\n",
            "False\n",
            "False\n"
          ]
        }
      ]
    },
    {
      "cell_type": "code",
      "source": [
        "print(True or True)\n",
        "print(False or True)\n",
        "print(True or False)\n",
        "print(False or False) # 하나라도 True면 True"
      ],
      "metadata": {
        "colab": {
          "base_uri": "https://localhost:8080/"
        },
        "id": "ApKxAnTmBpiW",
        "outputId": "8783456d-295b-4b9d-b525-bcb4fe7037d5"
      },
      "execution_count": 38,
      "outputs": [
        {
          "output_type": "stream",
          "name": "stdout",
          "text": [
            "True\n",
            "True\n",
            "True\n",
            "False\n"
          ]
        }
      ]
    },
    {
      "cell_type": "markdown",
      "source": [
        "### 비교연산자"
      ],
      "metadata": {
        "id": "UxRbN2gtCb60"
      }
    },
    {
      "cell_type": "code",
      "source": [
        "# True 또는 False가 나오도록 조건식을 만들어야 함\n",
        "1==2 # ==는 비교연산자. A와 B가 같다. False 혹은 True를 출력"
      ],
      "metadata": {
        "colab": {
          "base_uri": "https://localhost:8080/"
        },
        "id": "v90GR_2UCenM",
        "outputId": "0df84cd5-410f-4087-c440-4ae0f7af402f"
      },
      "execution_count": 44,
      "outputs": [
        {
          "output_type": "execute_result",
          "data": {
            "text/plain": [
              "False"
            ]
          },
          "metadata": {},
          "execution_count": 44
        }
      ]
    },
    {
      "cell_type": "code",
      "source": [
        "1!=2 # 비교연산자. A와 B가 같지 않다."
      ],
      "metadata": {
        "colab": {
          "base_uri": "https://localhost:8080/"
        },
        "id": "KyGOJOjnDKYU",
        "outputId": "fb3c7c4a-2827-4f9f-8afe-f8d44a65314f"
      },
      "execution_count": 45,
      "outputs": [
        {
          "output_type": "execute_result",
          "data": {
            "text/plain": [
              "True"
            ]
          },
          "metadata": {},
          "execution_count": 45
        }
      ]
    },
    {
      "cell_type": "code",
      "source": [
        "1<=2 # a는 b보다 작거나 같다."
      ],
      "metadata": {
        "colab": {
          "base_uri": "https://localhost:8080/"
        },
        "id": "NzfA_2K_DUWk",
        "outputId": "c522961a-b082-4397-89e8-3ff6f9da37da"
      },
      "execution_count": 47,
      "outputs": [
        {
          "output_type": "execute_result",
          "data": {
            "text/plain": [
              "True"
            ]
          },
          "metadata": {},
          "execution_count": 47
        }
      ]
    },
    {
      "cell_type": "code",
      "source": [
        "1<2 # a가 b보다 작다"
      ],
      "metadata": {
        "colab": {
          "base_uri": "https://localhost:8080/"
        },
        "id": "XfmEVAlZDZkF",
        "outputId": "84415a41-1399-4288-be7f-11e8b811e24d"
      },
      "execution_count": 48,
      "outputs": [
        {
          "output_type": "execute_result",
          "data": {
            "text/plain": [
              "True"
            ]
          },
          "metadata": {},
          "execution_count": 48
        }
      ]
    },
    {
      "cell_type": "markdown",
      "source": [
        "- 질문거리 : 위의 비교연산자에 문자를 비교할 수도 있을까? 크거나 작은 것에는 불가능할지라도 같은 것에는 사용할 수 있을 것 같은데."
      ],
      "metadata": {
        "id": "-jpi2Nw8D6WF"
      }
    },
    {
      "cell_type": "markdown",
      "source": [
        "### 비교연산자+논리연산자"
      ],
      "metadata": {
        "id": "8KX94rI9EG3N"
      }
    },
    {
      "cell_type": "code",
      "source": [
        "1 > 0 and -2 <0 # 비교연산자(1순위) 논리연산자(2순위)"
      ],
      "metadata": {
        "colab": {
          "base_uri": "https://localhost:8080/"
        },
        "id": "CIRhDxv1EOGN",
        "outputId": "392351ce-e837-4d6e-a253-48763d314d83"
      },
      "execution_count": 49,
      "outputs": [
        {
          "output_type": "execute_result",
          "data": {
            "text/plain": [
              "True"
            ]
          },
          "metadata": {},
          "execution_count": 49
        }
      ]
    },
    {
      "cell_type": "code",
      "source": [
        "((3 < 0) and (-5 > 0)) and (1 > 5)"
      ],
      "metadata": {
        "colab": {
          "base_uri": "https://localhost:8080/"
        },
        "id": "8N3Pd-90Eaut",
        "outputId": "bd2391ad-c393-4fd5-ceda-44b18ee6c65f"
      },
      "execution_count": 50,
      "outputs": [
        {
          "output_type": "execute_result",
          "data": {
            "text/plain": [
              "False"
            ]
          },
          "metadata": {},
          "execution_count": 50
        }
      ]
    },
    {
      "cell_type": "markdown",
      "source": [
        "# Chapter 4. 변수와 자료형"
      ],
      "metadata": {
        "id": "rCfLvLzionc0"
      }
    }
  ]
}