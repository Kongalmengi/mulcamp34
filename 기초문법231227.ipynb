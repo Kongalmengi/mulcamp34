{
  "nbformat": 4,
  "nbformat_minor": 0,
  "metadata": {
    "colab": {
      "provenance": [],
      "authorship_tag": "ABX9TyPZdI4lFXpvERKBOgtUp11Z",
      "include_colab_link": true
    },
    "kernelspec": {
      "name": "python3",
      "display_name": "Python 3"
    },
    "language_info": {
      "name": "python"
    }
  },
  "cells": [
    {
      "cell_type": "markdown",
      "metadata": {
        "id": "view-in-github",
        "colab_type": "text"
      },
      "source": [
        "<a href=\"https://colab.research.google.com/github/Kongalmengi/mulcamp34/blob/main/%EA%B8%B0%EC%B4%88%EB%AC%B8%EB%B2%95231227.ipynb\" target=\"_parent\"><img src=\"https://colab.research.google.com/assets/colab-badge.svg\" alt=\"Open In Colab\"/></a>"
      ]
    },
    {
      "cell_type": "code",
      "execution_count": null,
      "metadata": {
        "id": "lByQYNkgn5mW"
      },
      "outputs": [],
      "source": []
    },
    {
      "cell_type": "markdown",
      "source": [
        "# Chapter 3. 파이썬을 계산기처럼"
      ],
      "metadata": {
        "id": "0Dhk5rQnoUKc"
      }
    },
    {
      "cell_type": "markdown",
      "source": [
        "## 사칙연산"
      ],
      "metadata": {
        "id": "fEVT8ylFrSCV"
      }
    },
    {
      "cell_type": "code",
      "source": [
        "1+1 #정수"
      ],
      "metadata": {
        "colab": {
          "base_uri": "https://localhost:8080/"
        },
        "id": "QRQuLFn4rUKF",
        "outputId": "9cc03d18-a7cf-4674-d18a-faba008984e0"
      },
      "execution_count": 1,
      "outputs": [
        {
          "output_type": "execute_result",
          "data": {
            "text/plain": [
              "2"
            ]
          },
          "metadata": {},
          "execution_count": 1
        }
      ]
    },
    {
      "cell_type": "code",
      "source": [
        "5-2 #정수 연산 결과값은 정수로 반환"
      ],
      "metadata": {
        "colab": {
          "base_uri": "https://localhost:8080/"
        },
        "id": "ASyoqZ6FrVh7",
        "outputId": "09e2adb7-7a06-4156-c6cd-415e3db86eff"
      },
      "execution_count": 2,
      "outputs": [
        {
          "output_type": "execute_result",
          "data": {
            "text/plain": [
              "3"
            ]
          },
          "metadata": {},
          "execution_count": 2
        }
      ]
    },
    {
      "cell_type": "code",
      "source": [
        "5 -2"
      ],
      "metadata": {
        "colab": {
          "base_uri": "https://localhost:8080/"
        },
        "id": "pfVToGbNreOk",
        "outputId": "f878aae3-8e12-4aa5-9e98-15fdf4985755"
      },
      "execution_count": 3,
      "outputs": [
        {
          "output_type": "execute_result",
          "data": {
            "text/plain": [
              "3"
            ]
          },
          "metadata": {},
          "execution_count": 3
        }
      ]
    },
    {
      "cell_type": "code",
      "source": [
        "15*2"
      ],
      "metadata": {
        "colab": {
          "base_uri": "https://localhost:8080/"
        },
        "id": "nHAW8_MerhKa",
        "outputId": "babb16a9-3d82-4108-ffd0-10ec9981773c"
      },
      "execution_count": 4,
      "outputs": [
        {
          "output_type": "execute_result",
          "data": {
            "text/plain": [
              "30"
            ]
          },
          "metadata": {},
          "execution_count": 4
        }
      ]
    },
    {
      "cell_type": "code",
      "source": [
        "# 나눗셈\n",
        "# Python 3.x 버전은 실수로 처리\n",
        "# Python 2.x 버전은 정수로 처리\n",
        "10/2  # 정수 / 정수 ===> 반환값은 실수형으로 반환"
      ],
      "metadata": {
        "colab": {
          "base_uri": "https://localhost:8080/"
        },
        "id": "b8dqMMz6rrs1",
        "outputId": "15258e89-ca6c-4aeb-af9d-552bb5f66861"
      },
      "execution_count": 5,
      "outputs": [
        {
          "output_type": "execute_result",
          "data": {
            "text/plain": [
              "5.0"
            ]
          },
          "metadata": {},
          "execution_count": 5
        }
      ]
    },
    {
      "cell_type": "markdown",
      "source": [
        "## 실수연산"
      ],
      "metadata": {
        "id": "kwRWdPmbsW7t"
      }
    },
    {
      "cell_type": "code",
      "source": [
        "1.2+5.2     # 덧셈\n",
        "4.5-30.2    # 뺄셈\n",
        "2.7*15.2    # 곱셈\n",
        "17.5/3.2    # 나눗셈\n",
        "# 최종결과가 마지막것만 나온다. 이런 경우는 아래와 같이 print 명령어를 이용한다. 그 전에 일반적으로 print에 익숙해지는 것이 좋다."
      ],
      "metadata": {
        "colab": {
          "base_uri": "https://localhost:8080/"
        },
        "id": "NE1XNXnqsRnL",
        "outputId": "f0598735-097b-4b7b-a33f-8f7d76c7fa20"
      },
      "execution_count": 6,
      "outputs": [
        {
          "output_type": "execute_result",
          "data": {
            "text/plain": [
              "5.46875"
            ]
          },
          "metadata": {},
          "execution_count": 6
        }
      ]
    },
    {
      "cell_type": "code",
      "source": [
        "print(1.2+5.2)     # 덧셈\n",
        "print(4.5-30.2)    # 뺄셈\n",
        "print(2.7*15.2)    # 곱셈\n",
        "print(17.5/3.2)    # 나눗셈"
      ],
      "metadata": {
        "colab": {
          "base_uri": "https://localhost:8080/"
        },
        "outputId": "47071012-a20b-4a14-e248-d8f3f2a97d18",
        "id": "mI6CK6Cjs7OM"
      },
      "execution_count": 7,
      "outputs": [
        {
          "output_type": "stream",
          "name": "stdout",
          "text": [
            "6.4\n",
            "-25.7\n",
            "41.04\n",
            "5.46875\n"
          ]
        }
      ]
    },
    {
      "cell_type": "markdown",
      "source": [
        "### 연산규칙\n",
        "- (1) 괄호안 계산\n",
        "- (2) 지수 계산\n",
        "- (3) 곱셈과 나눗셈 계산\n",
        "- (4) 덧셈과 뺄셈 계산\n",
        "- (5) 같은 순위 연산이면 왼쪽에서 오른쪽으로\n",
        "- (6) 중복된 괄호가 있을 경우, 안쪽에서부터 처리"
      ],
      "metadata": {
        "id": "OuVCuu48tX31"
      }
    },
    {
      "cell_type": "code",
      "source": [
        "print(2+3*4)"
      ],
      "metadata": {
        "colab": {
          "base_uri": "https://localhost:8080/"
        },
        "id": "DorluYWwt2xO",
        "outputId": "eca48a8e-da6a-4f91-8e12-12d8c7538c9f"
      },
      "execution_count": 8,
      "outputs": [
        {
          "output_type": "stream",
          "name": "stdout",
          "text": [
            "14\n"
          ]
        }
      ]
    },
    {
      "cell_type": "code",
      "source": [
        "print(3 / 2 * 4 - 5 / 2)"
      ],
      "metadata": {
        "colab": {
          "base_uri": "https://localhost:8080/"
        },
        "id": "qJn87MGMt_g1",
        "outputId": "082ec42e-6fd5-42dd-d5ee-964c761a26b2"
      },
      "execution_count": 9,
      "outputs": [
        {
          "output_type": "stream",
          "name": "stdout",
          "text": [
            "3.5\n"
          ]
        }
      ]
    },
    {
      "cell_type": "code",
      "source": [
        "print((5*4-15) + (5 - 2) * (9-7))"
      ],
      "metadata": {
        "colab": {
          "base_uri": "https://localhost:8080/"
        },
        "id": "MSGfk-1nuRFN",
        "outputId": "e2abde76-635e-4dfa-82b0-363815015949"
      },
      "execution_count": 10,
      "outputs": [
        {
          "output_type": "stream",
          "name": "stdout",
          "text": [
            "11\n"
          ]
        }
      ]
    },
    {
      "cell_type": "markdown",
      "source": [
        "## type()\n",
        "- 함수 : 특정 기능을 수행하도록 만든 명령어\n",
        "  + 특정 함수를 조건만 맞춰주면 동작\n",
        "  "
      ],
      "metadata": {
        "id": "Bz7jv5Rty2MP"
      }
    },
    {
      "cell_type": "markdown",
      "source": [
        "함수의 종류\n",
        "- 내장(built-in)함수 : 파이썬 설치와 함께 제공하는 기본적인 함수\n",
        "  + print(), type()\n",
        "  + 종류는 몇 개? (여러개)\n",
        "  + 5주차~ 8주차 Documentation : 함수를 설명해주는 문서 보는 법 익힐 것\n",
        "\n",
        "- 라이브러리에서 제공하는 함수\n",
        "  + R 에서는 패키지라 부름\n",
        "  + Python 에서는 라이브러리라 부름\n",
        "  + 목적이 분명한 것이 특징.\n",
        "    - 웹사이트 개발 : 웹사이트와 관련된 라이브러리를 별도 설치\n",
        "    - 통계분석 : 통계분석과 관련된 라이브러리를 별도 설치\n",
        "    - 시각화 : 시각화와 관련된 라이브러리를 별도 설치\n",
        "    - 게임개발 : 이것도 이와 관련된 라이브러리 설치\n",
        "    - 수치연산 주요 라이브러리 : numpy, scipy"
      ],
      "metadata": {
        "id": "iO7i9wCdzsKA"
      }
    },
    {
      "cell_type": "code",
      "source": [
        "# 파이썬에서는 정수를 어떻게 표현?\n",
        "# 파이썬에서는 실수를 어떻게 표현?\n",
        "print(type(3))\n",
        "## end 키를 누르면 뒷괄호 붙이기가 편하다. 커서가 가장 마지막으로 가니까."
      ],
      "metadata": {
        "colab": {
          "base_uri": "https://localhost:8080/"
        },
        "id": "sLm3pc1muu7G",
        "outputId": "263085af-9c95-4f4a-a4de-1eb41e4c524b"
      },
      "execution_count": 11,
      "outputs": [
        {
          "output_type": "stream",
          "name": "stdout",
          "text": [
            "<class 'int'>\n"
          ]
        }
      ]
    },
    {
      "cell_type": "code",
      "source": [
        "print(type(3.5))"
      ],
      "metadata": {
        "colab": {
          "base_uri": "https://localhost:8080/"
        },
        "id": "oNVq-WH7u3n2",
        "outputId": "c53fe186-700c-42b4-a0d5-fa9d0389d5a1"
      },
      "execution_count": 12,
      "outputs": [
        {
          "output_type": "stream",
          "name": "stdout",
          "text": [
            "<class 'float'>\n"
          ]
        }
      ]
    },
    {
      "cell_type": "markdown",
      "source": [
        "- 파이썬은 객체지향 언어."
      ],
      "metadata": {
        "id": "vKNoxjcD1wTQ"
      }
    },
    {
      "cell_type": "code",
      "source": [
        "print(type(~~)) #이렇게 사용 조건이 맞지 않으면 에러가 뜬다"
      ],
      "metadata": {
        "colab": {
          "base_uri": "https://localhost:8080/",
          "height": 147
        },
        "id": "FJF8M7KizSHf",
        "outputId": "c410a1a1-2f46-4bd3-a250-0750e697e533"
      },
      "execution_count": 13,
      "outputs": [
        {
          "output_type": "error",
          "ename": "SyntaxError",
          "evalue": "ignored",
          "traceback": [
            "\u001b[0;36m  File \u001b[0;32m\"<ipython-input-13-78baed992b13>\"\u001b[0;36m, line \u001b[0;32m1\u001b[0m\n\u001b[0;31m    print(type(~~)) #이렇게 사용 조건이 맞지 않으면 에러가 뜬다\u001b[0m\n\u001b[0m                 ^\u001b[0m\n\u001b[0;31mSyntaxError\u001b[0m\u001b[0;31m:\u001b[0m invalid syntax\n"
          ]
        }
      ]
    },
    {
      "cell_type": "markdown",
      "source": [
        "## 거듭제곱과 나머지\n",
        "- 숫자 A를 n번 곱하는 것이 거듭제곱(영어로는 power)\n",
        " + A는 밑, n은 지수\n",
        " + 파이썬에서는 곱하기를 두 번 입력하여 사용 (**)"
      ],
      "metadata": {
        "id": "HiX-ppYK2CVA"
      }
    },
    {
      "cell_type": "code",
      "source": [
        "print(2**5) # 거듭제곱"
      ],
      "metadata": {
        "colab": {
          "base_uri": "https://localhost:8080/"
        },
        "id": "W8qLftSy2UkF",
        "outputId": "cc3ff887-1bfd-4a92-e603-ea48bfa780a2"
      },
      "execution_count": 17,
      "outputs": [
        {
          "output_type": "stream",
          "name": "stdout",
          "text": [
            "32\n"
          ]
        }
      ]
    },
    {
      "cell_type": "markdown",
      "source": [
        "- 나머지 구하는 법"
      ],
      "metadata": {
        "id": "nyO1km0l2rxI"
      }
    },
    {
      "cell_type": "code",
      "source": [
        "12 % 5 # 나머지 (%)"
      ],
      "metadata": {
        "colab": {
          "base_uri": "https://localhost:8080/"
        },
        "id": "q3NhHHXa2tyS",
        "outputId": "f532fe01-ddb9-4e7f-cdd2-a2163c5b1b8d"
      },
      "execution_count": 18,
      "outputs": [
        {
          "output_type": "execute_result",
          "data": {
            "text/plain": [
              "2"
            ]
          },
          "metadata": {},
          "execution_count": 18
        }
      ]
    },
    {
      "cell_type": "code",
      "source": [
        "# 몫을 구하고 싶음 (//)\n",
        "13 // 5"
      ],
      "metadata": {
        "colab": {
          "base_uri": "https://localhost:8080/"
        },
        "id": "izrFyCzS21mM",
        "outputId": "ce43fa73-8c0d-4da7-d554-87377ce9e7c4"
      },
      "execution_count": 19,
      "outputs": [
        {
          "output_type": "execute_result",
          "data": {
            "text/plain": [
              "2"
            ]
          },
          "metadata": {},
          "execution_count": 19
        }
      ]
    },
    {
      "cell_type": "markdown",
      "source": [
        "- 교재 표 3-1(p34) 산술연산자 표 정리"
      ],
      "metadata": {
        "id": "nLzBCr-e3AGB"
      }
    },
    {
      "cell_type": "markdown",
      "source": [
        "## 과학적 표기법(scientific notation)\n",
        "- 아주 큰 수, 작은 수를 다뤄야 하는 경우\n",
        "  + 30만 km/s\n",
        "  + 3*10^8 m/s"
      ],
      "metadata": {
        "id": "WZDz9Zv03kLB"
      }
    },
    {
      "cell_type": "code",
      "source": [
        "3*10**8"
      ],
      "metadata": {
        "colab": {
          "base_uri": "https://localhost:8080/"
        },
        "id": "tOjO9fRH4UC7",
        "outputId": "994bbba1-81ac-4abe-d3f3-b14899f20e31"
      },
      "execution_count": 20,
      "outputs": [
        {
          "output_type": "execute_result",
          "data": {
            "text/plain": [
              "300000000"
            ]
          },
          "metadata": {},
          "execution_count": 20
        }
      ]
    },
    {
      "cell_type": "code",
      "source": [
        "3e8 # 결과물은 위와 같다.(이렇게 e로 10의 거듭제곱을 표현한다)"
      ],
      "metadata": {
        "colab": {
          "base_uri": "https://localhost:8080/"
        },
        "id": "7G470Bwm4Wds",
        "outputId": "0e842273-7a8b-4251-8a81-de147c9ece19"
      },
      "execution_count": 21,
      "outputs": [
        {
          "output_type": "execute_result",
          "data": {
            "text/plain": [
              "300000000.0"
            ]
          },
          "metadata": {},
          "execution_count": 21
        }
      ]
    },
    {
      "cell_type": "code",
      "source": [
        "3e-4"
      ],
      "metadata": {
        "colab": {
          "base_uri": "https://localhost:8080/"
        },
        "id": "v1KUtWow4aI7",
        "outputId": "28117623-b264-4018-b679-1b6806b493cf"
      },
      "execution_count": 22,
      "outputs": [
        {
          "output_type": "execute_result",
          "data": {
            "text/plain": [
              "0.0003"
            ]
          },
          "metadata": {},
          "execution_count": 22
        }
      ]
    },
    {
      "cell_type": "markdown",
      "source": [
        "- 질문거리 : 그럼 자연로그의 밑 e는 어떻게 표현? (라이브러리가 따로 존재, 수치연산 라이브러리 numpy, scipy)"
      ],
      "metadata": {
        "id": "PhjSYylQ699S"
      }
    },
    {
      "cell_type": "markdown",
      "source": [
        "## 진수 표현과 변환\n",
        "- 일반적으로 10진법을 많이 사용\n",
        "- 60초가 1분, 60분이 1시간 : 60진법\n",
        "- 오전 12시간, 오후 12시간, 1년 12달 : 12진법\n",
        "- 컴퓨터 프로그래밍 : 2진법\n",
        "- 8진법 : 0~7까지 숫자 이용\n",
        "- 16진법 : 0~9, a, b, c, d, e, f까지 이용\n",
        "- 메서드\n",
        "  + bin() : 10진수를 2진수로 변환\n",
        "  + oct() : 10진수를 8진수로 변환\n",
        "  + hex() : 10진수를 16진수로 변환"
      ],
      "metadata": {
        "id": "COagRg-V5Voa"
      }
    },
    {
      "cell_type": "code",
      "source": [
        "17 # 10진법"
      ],
      "metadata": {
        "colab": {
          "base_uri": "https://localhost:8080/"
        },
        "id": "pyrnTXvo6LJD",
        "outputId": "3c81e156-c4f4-4dfd-cc03-6c5d092b315f"
      },
      "execution_count": 23,
      "outputs": [
        {
          "output_type": "execute_result",
          "data": {
            "text/plain": [
              "17"
            ]
          },
          "metadata": {},
          "execution_count": 23
        }
      ]
    },
    {
      "cell_type": "code",
      "source": [
        "0b10001 #2진법"
      ],
      "metadata": {
        "colab": {
          "base_uri": "https://localhost:8080/"
        },
        "id": "AFB85YsS6Phh",
        "outputId": "190d4c0a-d048-4ead-e3ae-dfe4f0d2a412"
      },
      "execution_count": 24,
      "outputs": [
        {
          "output_type": "execute_result",
          "data": {
            "text/plain": [
              "17"
            ]
          },
          "metadata": {},
          "execution_count": 24
        }
      ]
    },
    {
      "cell_type": "code",
      "source": [
        "0o21 # 8진법"
      ],
      "metadata": {
        "colab": {
          "base_uri": "https://localhost:8080/"
        },
        "id": "nZEJ-1df6YOw",
        "outputId": "d40d4f4a-4b2d-4249-c621-24ae0813536b"
      },
      "execution_count": 25,
      "outputs": [
        {
          "output_type": "execute_result",
          "data": {
            "text/plain": [
              "17"
            ]
          },
          "metadata": {},
          "execution_count": 25
        }
      ]
    },
    {
      "cell_type": "code",
      "source": [
        "0x11 #16진법"
      ],
      "metadata": {
        "colab": {
          "base_uri": "https://localhost:8080/"
        },
        "id": "ZvJxku2L6m_Z",
        "outputId": "adceff08-53bc-4199-e350-fc9bf09fcc45"
      },
      "execution_count": 26,
      "outputs": [
        {
          "output_type": "execute_result",
          "data": {
            "text/plain": [
              "17"
            ]
          },
          "metadata": {},
          "execution_count": 26
        }
      ]
    },
    {
      "cell_type": "markdown",
      "source": [
        "- 질문거리 : 그럼 일반적이지 않은 진법표시는? 그러니까 17진법 이런 것들.(이건 자료를 따로 찾아봐야 함)"
      ],
      "metadata": {
        "id": "t0oMXyUT6hBS"
      }
    },
    {
      "cell_type": "markdown",
      "source": [
        "## 논리 연산 및 비교 연산 (매우 중요)\n",
        "- 참/거짓\n",
        "- 논리 연산 활용이 프로그래밍의 핵심"
      ],
      "metadata": {
        "id": "E7edYBbi7Idl"
      }
    },
    {
      "cell_type": "code",
      "source": [
        "print(True)"
      ],
      "metadata": {
        "colab": {
          "base_uri": "https://localhost:8080/"
        },
        "id": "uJ06zXeJ6cjb",
        "outputId": "2aa81661-1939-44ee-f33b-78e85f36f882"
      },
      "execution_count": 27,
      "outputs": [
        {
          "output_type": "stream",
          "name": "stdout",
          "text": [
            "True\n"
          ]
        }
      ]
    },
    {
      "cell_type": "code",
      "source": [
        "print(False)"
      ],
      "metadata": {
        "colab": {
          "base_uri": "https://localhost:8080/"
        },
        "id": "D2V8Krk678Gv",
        "outputId": "acebf5f0-70d7-4609-b3ed-173c0883ad36"
      },
      "execution_count": 28,
      "outputs": [
        {
          "output_type": "stream",
          "name": "stdout",
          "text": [
            "False\n"
          ]
        }
      ]
    },
    {
      "cell_type": "code",
      "source": [
        "print(type(True))"
      ],
      "metadata": {
        "colab": {
          "base_uri": "https://localhost:8080/"
        },
        "id": "sFaVFNkV7-UP",
        "outputId": "adeb621d-52d6-4ce4-d4e0-2dbd3e86c293"
      },
      "execution_count": 29,
      "outputs": [
        {
          "output_type": "stream",
          "name": "stdout",
          "text": [
            "<class 'bool'>\n"
          ]
        }
      ]
    },
    {
      "cell_type": "markdown",
      "source": [
        "### 논리 연산자\n",
        "- and : A and B : A와 B 모두 참일 때 참\n",
        "- or : A or B : A와 B 중에서 하나라도 참이면 참, 둘 다 거짓일 때 거짓\n",
        "- not : not A : A가 참일 때 거짓, A가 거짓일 때 참"
      ],
      "metadata": {
        "id": "l6pZuMDA8Tta"
      }
    },
    {
      "cell_type": "code",
      "source": [
        "print(True and True)\n",
        "print(True and False)\n",
        "print(False and True)\n",
        "print(False and False) # 둘 중 하나만 False면 False"
      ],
      "metadata": {
        "colab": {
          "base_uri": "https://localhost:8080/"
        },
        "id": "8Ob5DeGsBT40",
        "outputId": "b62d4fba-9a8f-4af0-c1cd-22ead8689794"
      },
      "execution_count": 30,
      "outputs": [
        {
          "output_type": "stream",
          "name": "stdout",
          "text": [
            "True\n",
            "False\n",
            "False\n",
            "False\n"
          ]
        }
      ]
    },
    {
      "cell_type": "code",
      "source": [
        "print(True or True)\n",
        "print(False or True)\n",
        "print(True or False)\n",
        "print(False or False) # 하나라도 True면 True"
      ],
      "metadata": {
        "colab": {
          "base_uri": "https://localhost:8080/"
        },
        "id": "ApKxAnTmBpiW",
        "outputId": "659ea34b-9262-4b07-c6a9-25b9f79987c6"
      },
      "execution_count": 31,
      "outputs": [
        {
          "output_type": "stream",
          "name": "stdout",
          "text": [
            "True\n",
            "True\n",
            "True\n",
            "False\n"
          ]
        }
      ]
    },
    {
      "cell_type": "markdown",
      "source": [
        "### 비교연산자"
      ],
      "metadata": {
        "id": "UxRbN2gtCb60"
      }
    },
    {
      "cell_type": "code",
      "source": [
        "# True 또는 False가 나오도록 조건식을 만들어야 함\n",
        "1==2 # ==는 비교연산자. A와 B가 같다. False 혹은 True를 출력"
      ],
      "metadata": {
        "colab": {
          "base_uri": "https://localhost:8080/"
        },
        "id": "v90GR_2UCenM",
        "outputId": "3f249fe9-1d17-4043-cadd-53f0ac68c672"
      },
      "execution_count": 32,
      "outputs": [
        {
          "output_type": "execute_result",
          "data": {
            "text/plain": [
              "False"
            ]
          },
          "metadata": {},
          "execution_count": 32
        }
      ]
    },
    {
      "cell_type": "code",
      "source": [
        "1!=2 # 비교연산자. A와 B가 같지 않다."
      ],
      "metadata": {
        "colab": {
          "base_uri": "https://localhost:8080/"
        },
        "id": "KyGOJOjnDKYU",
        "outputId": "f830fdd8-fa19-4caf-9384-ff703eb8fab2"
      },
      "execution_count": 33,
      "outputs": [
        {
          "output_type": "execute_result",
          "data": {
            "text/plain": [
              "True"
            ]
          },
          "metadata": {},
          "execution_count": 33
        }
      ]
    },
    {
      "cell_type": "code",
      "source": [
        "1<=2 # a는 b보다 작거나 같다."
      ],
      "metadata": {
        "colab": {
          "base_uri": "https://localhost:8080/"
        },
        "id": "NzfA_2K_DUWk",
        "outputId": "2a45e657-79d6-4f56-c4e7-bbb5358b2d5f"
      },
      "execution_count": 34,
      "outputs": [
        {
          "output_type": "execute_result",
          "data": {
            "text/plain": [
              "True"
            ]
          },
          "metadata": {},
          "execution_count": 34
        }
      ]
    },
    {
      "cell_type": "code",
      "source": [
        "1<2 # a가 b보다 작다"
      ],
      "metadata": {
        "colab": {
          "base_uri": "https://localhost:8080/"
        },
        "id": "XfmEVAlZDZkF",
        "outputId": "39646c64-89f4-4064-80ca-5761171f5b70"
      },
      "execution_count": 35,
      "outputs": [
        {
          "output_type": "execute_result",
          "data": {
            "text/plain": [
              "True"
            ]
          },
          "metadata": {},
          "execution_count": 35
        }
      ]
    },
    {
      "cell_type": "markdown",
      "source": [
        "- 질문거리 : 위의 비교연산자에 문자를 비교할 수도 있을까? 크거나 작은 것에는 불가능할지라도 같은 것에는 사용할 수 있을 것 같은데."
      ],
      "metadata": {
        "id": "-jpi2Nw8D6WF"
      }
    },
    {
      "cell_type": "markdown",
      "source": [
        "### 비교연산자+논리연산자"
      ],
      "metadata": {
        "id": "8KX94rI9EG3N"
      }
    },
    {
      "cell_type": "code",
      "source": [
        "1 > 0 and -2 <0 # 비교연산자(1순위) 논리연산자(2순위)"
      ],
      "metadata": {
        "colab": {
          "base_uri": "https://localhost:8080/"
        },
        "id": "CIRhDxv1EOGN",
        "outputId": "0dec464a-462c-461b-8ecb-57248a9ec13a"
      },
      "execution_count": 36,
      "outputs": [
        {
          "output_type": "execute_result",
          "data": {
            "text/plain": [
              "True"
            ]
          },
          "metadata": {},
          "execution_count": 36
        }
      ]
    },
    {
      "cell_type": "code",
      "source": [
        "((3 < 0) and (-5 > 0)) and (1 > 5)"
      ],
      "metadata": {
        "colab": {
          "base_uri": "https://localhost:8080/"
        },
        "id": "8N3Pd-90Eaut",
        "outputId": "123639b6-21ea-46df-f747-87cd61de74e0"
      },
      "execution_count": 37,
      "outputs": [
        {
          "output_type": "execute_result",
          "data": {
            "text/plain": [
              "False"
            ]
          },
          "metadata": {},
          "execution_count": 37
        }
      ]
    },
    {
      "cell_type": "markdown",
      "source": [
        "# Chapter 4. 변수와 자료형"
      ],
      "metadata": {
        "id": "rCfLvLzionc0"
      }
    },
    {
      "cell_type": "markdown",
      "source": [
        "## 변수 (p.42)"
      ],
      "metadata": {
        "id": "ATV5ZrJWfE-0"
      }
    },
    {
      "cell_type": "code",
      "source": [
        "# 단순 계산기\n",
        "1 + 1"
      ],
      "metadata": {
        "colab": {
          "base_uri": "https://localhost:8080/"
        },
        "id": "hhyM2HXffJMG",
        "outputId": "8a0a31d2-33d5-4d00-cb87-29a5229d0814"
      },
      "execution_count": 38,
      "outputs": [
        {
          "output_type": "execute_result",
          "data": {
            "text/plain": [
              "2"
            ]
          },
          "metadata": {},
          "execution_count": 38
        }
      ]
    },
    {
      "cell_type": "markdown",
      "source": [
        "변수명 = data"
      ],
      "metadata": {
        "id": "LOja7n71fZqe"
      }
    },
    {
      "cell_type": "code",
      "source": [
        "a = 100\n",
        "print(a)"
      ],
      "metadata": {
        "colab": {
          "base_uri": "https://localhost:8080/"
        },
        "id": "ojS1zBDbfRbG",
        "outputId": "73f9979c-b984-40ce-aee4-3cf31c67f887"
      },
      "execution_count": 39,
      "outputs": [
        {
          "output_type": "stream",
          "name": "stdout",
          "text": [
            "100\n"
          ]
        }
      ]
    },
    {
      "cell_type": "code",
      "source": [
        "print(a) # 결과를 도출하기 위해서는 변수에 해당하는 코드를 실행시켜야 함. 이는 직접 재생버튼을 눌러도 좋고, 런타임 메뉴에서 적절한 기능을 실행시켜도 좋다."
      ],
      "metadata": {
        "colab": {
          "base_uri": "https://localhost:8080/"
        },
        "id": "U-ToPdojfq7v",
        "outputId": "4567b15d-19bc-479a-b8dd-db54795126bc"
      },
      "execution_count": 40,
      "outputs": [
        {
          "output_type": "stream",
          "name": "stdout",
          "text": [
            "100\n"
          ]
        }
      ]
    },
    {
      "cell_type": "code",
      "source": [
        "b=1000\n",
        "c=1110"
      ],
      "metadata": {
        "id": "X1mw1MkXgnSn"
      },
      "execution_count": 41,
      "outputs": []
    },
    {
      "cell_type": "code",
      "source": [
        "print(b)\n",
        "print(c)"
      ],
      "metadata": {
        "colab": {
          "base_uri": "https://localhost:8080/"
        },
        "id": "B2KDn5tmgs-4",
        "outputId": "f9476959-6bd7-43fd-c1cc-9edb85939803"
      },
      "execution_count": 42,
      "outputs": [
        {
          "output_type": "stream",
          "name": "stdout",
          "text": [
            "1000\n",
            "1110\n"
          ]
        }
      ]
    },
    {
      "cell_type": "markdown",
      "source": [
        "### 변수명 짓기 규칙\n",
        "- snake, camel"
      ],
      "metadata": {
        "id": "S8IYXkPSgzWg"
      }
    },
    {
      "cell_type": "code",
      "source": [
        "# Snake\n",
        "num_a = 100\n",
        "num_b = 110\n",
        "\n",
        "# Camel\n",
        "muStudent = \"evan\"\n",
        "mySchool = \"학교이름\"\n",
        "\n",
        "# 주의해야 할 것\n",
        "3star = \"이장군\" # 이렇게 앞에 숫자가 오면 안된다 함.\n",
        "print(num_a)\n",
        "# 추가로 변수에 공백이 있으면 안된다."
      ],
      "metadata": {
        "colab": {
          "base_uri": "https://localhost:8080/",
          "height": 147
        },
        "id": "BRh14snGhDx3",
        "outputId": "b83bf4ba-7c88-4446-f735-f7c2b8cf7f48"
      },
      "execution_count": 43,
      "outputs": [
        {
          "output_type": "error",
          "ename": "SyntaxError",
          "evalue": "ignored",
          "traceback": [
            "\u001b[0;36m  File \u001b[0;32m\"<ipython-input-43-984f87aeb4dd>\"\u001b[0;36m, line \u001b[0;32m10\u001b[0m\n\u001b[0;31m    3star = \"이장군\" # 이렇게 앞에 숫자가 오면 안된다 함.\u001b[0m\n\u001b[0m    ^\u001b[0m\n\u001b[0;31mSyntaxError\u001b[0m\u001b[0;31m:\u001b[0m invalid decimal literal\n"
          ]
        }
      ]
    },
    {
      "cell_type": "markdown",
      "source": [
        "- 질문거리 : 스네이크와 카멜의 포인트는 변수를 숫자로 잡냐, 문자로 잡냐의 차이인 듯?"
      ],
      "metadata": {
        "id": "fPF1y1oiidAZ"
      }
    },
    {
      "cell_type": "code",
      "source": [
        "num = 1\n",
        "Num = 100"
      ],
      "metadata": {
        "id": "N5t2bFhpivr4"
      },
      "execution_count": 44,
      "outputs": []
    },
    {
      "cell_type": "code",
      "source": [
        "print(num)\n",
        "print(Num)"
      ],
      "metadata": {
        "colab": {
          "base_uri": "https://localhost:8080/"
        },
        "id": "qi7O_48lizMb",
        "outputId": "c72b03e3-84f8-4f81-936f-10a78cab289d"
      },
      "execution_count": 45,
      "outputs": [
        {
          "output_type": "stream",
          "name": "stdout",
          "text": [
            "1\n",
            "100\n"
          ]
        }
      ]
    },
    {
      "cell_type": "markdown",
      "source": [
        "- 중요!! : 런타임 메뉴에서 모든 세션을 다시 시작할 때, 중간에 오류가 있는 세션이 있으면 거기서 멈추고, 그 이후로는 실행이 안된다. 이후의 세션에 오류가 없더라도.\n",
        "- 이럴때는 뒤에 오류가 없는 세션을 선택하고, 그 다음 '이후 셀 실행'을 누르면 다음것이 마저 실행된다."
      ],
      "metadata": {
        "id": "1RZe1xg2klNv"
      }
    },
    {
      "cell_type": "markdown",
      "source": [
        "### 예약어는 변수명으로 이용할 수 없음\n",
        "- p.45\n",
        "- print, None, True, 등등..."
      ],
      "metadata": {
        "id": "afTJuAXzlP5I"
      }
    },
    {
      "cell_type": "markdown",
      "source": [
        "### 변수의 반대어 : 상수\n",
        "- 한 번 지정 후에는 변치 않는 고정값"
      ],
      "metadata": {
        "id": "-RE3ZHg4lW0g"
      }
    },
    {
      "cell_type": "code",
      "source": [
        "# 상수\n",
        "pi = 3.14"
      ],
      "metadata": {
        "id": "bvTlU7QmlfE4"
      },
      "execution_count": 46,
      "outputs": []
    },
    {
      "cell_type": "code",
      "source": [
        "# 실제 변수를 만들어보기\n",
        "num1 = input(\"숫자를 입력해주세요!!\") # input은 숫자를 입력해도 기본값은 문자열로 반응한다. input함수의 특징임.\n",
        "num2 = input(\"숫자를 입력해주세요!!\")\n",
        "\n",
        "print(num1, num2)"
      ],
      "metadata": {
        "colab": {
          "base_uri": "https://localhost:8080/"
        },
        "id": "jfAUNmqgloE3",
        "outputId": "5e2f2445-22ab-40f6-ebc5-b336f69eb416"
      },
      "execution_count": 48,
      "outputs": [
        {
          "output_type": "stream",
          "name": "stdout",
          "text": [
            "숫자를 입력해주세요!!100\n",
            "숫자를 입력해주세요!!200\n",
            "100 200\n"
          ]
        }
      ]
    },
    {
      "cell_type": "code",
      "source": [
        "print(num1 + num2) # 이렇게 하면 결과가 이상하다. 이런 경우는 데이터 타입을 확인해야 함."
      ],
      "metadata": {
        "colab": {
          "base_uri": "https://localhost:8080/"
        },
        "id": "4e7pEEXWsF1q",
        "outputId": "18d83328-784d-4f18-a132-b32719fed5b4"
      },
      "execution_count": 49,
      "outputs": [
        {
          "output_type": "stream",
          "name": "stdout",
          "text": [
            "100200\n"
          ]
        }
      ]
    },
    {
      "cell_type": "code",
      "source": [
        "print(type(num1)) # 변수 타입 확인 : <class 'str'> 문자열\n",
        "print(type(num2)) # 변수 타입 확인 : <class 'str'> 문자열"
      ],
      "metadata": {
        "colab": {
          "base_uri": "https://localhost:8080/"
        },
        "id": "Tma8mwl0sYBR",
        "outputId": "0d4ba17c-035c-4b90-f0b7-0492aeb76e26"
      },
      "execution_count": 50,
      "outputs": [
        {
          "output_type": "stream",
          "name": "stdout",
          "text": [
            "<class 'str'>\n",
            "<class 'str'>\n"
          ]
        }
      ]
    },
    {
      "cell_type": "code",
      "source": [
        "# 사칙연산을 하고싶은데, 갖고있는 class가 문자열이다.\n",
        "# 문자 100을 숫자 100으로 변경하면 된다. 그럼 어떻게?\n",
        "# 코드를 찾아야 한다. 찾아보니 int 함수를 넣으면 된다!\n",
        "print(int(num1)+int(num2))\n",
        "# 이렇게 int()함수로 문자를 숫자로 바꿀 수 있다."
      ],
      "metadata": {
        "colab": {
          "base_uri": "https://localhost:8080/"
        },
        "id": "79D40jR8s8lr",
        "outputId": "3ccd4e18-740e-4a7b-afe4-f43aa169ddc6"
      },
      "execution_count": 52,
      "outputs": [
        {
          "output_type": "stream",
          "name": "stdout",
          "text": [
            "300\n"
          ]
        }
      ]
    },
    {
      "cell_type": "markdown",
      "source": [
        "- 프로그래밍에서 문자열로 표현하고 싶다 하면 쌍따옴표나 작은 따옴표로 입력을 해줘야 한다.\n",
        "- 참고로 숫자를 써도 따옴표가 들어가면 문자로 인식. '100' 이런 식으로 쓰면 100을 숫자가 아닌 문자로 인식한다는 것."
      ],
      "metadata": {
        "id": "p4lbYcqFrOCK"
      }
    },
    {
      "cell_type": "markdown",
      "source": [
        "- 구글 검색법 : 콤마를 활용하는 것도 좋다.\n",
        "- 예) Python, 문자를 숫자로 변환\n",
        "- 참고로 그 밖의 변환함수들도 있다. float(), str(), bool() 따위."
      ],
      "metadata": {
        "id": "GsoFz8hruUi9"
      }
    },
    {
      "cell_type": "markdown",
      "source": [
        "## 문자열\n",
        "- \"\" 또는 '' 이렇게 지정\n",
        "- 보통은 작은 따옴표를 쓰는 것이 좋다고 함."
      ],
      "metadata": {
        "id": "mS28RZB8xTVM"
      }
    },
    {
      "cell_type": "code",
      "source": [
        "greeting = 'Hello String'\n",
        "print(greeting)"
      ],
      "metadata": {
        "colab": {
          "base_uri": "https://localhost:8080/"
        },
        "id": "mCwNu0yoxYqM",
        "outputId": "868ebc99-a188-44aa-8cd0-8a554ff621ca"
      },
      "execution_count": 53,
      "outputs": [
        {
          "output_type": "stream",
          "name": "stdout",
          "text": [
            "Hello String\n"
          ]
        }
      ]
    },
    {
      "cell_type": "code",
      "source": [
        "string3 = 'This is a \"double\" quotation test'\n",
        "print(string3)"
      ],
      "metadata": {
        "colab": {
          "base_uri": "https://localhost:8080/"
        },
        "id": "tRde30-ZyGw0",
        "outputId": "669348df-0995-4673-f342-953e7fd78bcd"
      },
      "execution_count": 54,
      "outputs": [
        {
          "output_type": "stream",
          "name": "stdout",
          "text": [
            "This is a \"double\" quotation test\n"
          ]
        }
      ]
    },
    {
      "cell_type": "code",
      "source": [
        "long_string1 = '''\n",
        "문장이 긴 텍스트\n",
        "문장이 긴 텍스트1\n",
        "문장이 긴 텍스트2\n",
        "문장이 긴 텍스트3\n",
        "'''\n",
        "\n",
        "print(long_string1) # 3중 따옴표 사용법. 여러 줄의 긴 텍스트를 한 번에 묶어줄 수 있다는 의미같음."
      ],
      "metadata": {
        "colab": {
          "base_uri": "https://localhost:8080/"
        },
        "id": "5-OZS4VYywfc",
        "outputId": "794df417-ed8c-4c97-d00b-abc8e1f1414d"
      },
      "execution_count": 55,
      "outputs": [
        {
          "output_type": "stream",
          "name": "stdout",
          "text": [
            "\n",
            "문장이 긴 텍스트\n",
            "문장이 긴 텍스트1\n",
            "문장이 긴 텍스트2\n",
            "문장이 긴 텍스트3\n",
            "\n"
          ]
        }
      ]
    },
    {
      "cell_type": "code",
      "source": [
        "x = 'Enjoy '\n",
        "y = 'Python!'\n",
        "print(x + y) # 문자끼리 덧셈을 하면 문자열을 그대로 이어준다."
      ],
      "metadata": {
        "colab": {
          "base_uri": "https://localhost:8080/"
        },
        "id": "4ut8Jf7b3o0u",
        "outputId": "0a8b639d-7de9-4bf0-b460-4ec68d8421fe"
      },
      "execution_count": 59,
      "outputs": [
        {
          "output_type": "stream",
          "name": "stdout",
          "text": [
            "Enjoy Python!\n"
          ]
        }
      ]
    },
    {
      "cell_type": "code",
      "source": [
        "print(x * 3) # 문자열에 곱하기를 하면 이렇게 문자를 반복한다."
      ],
      "metadata": {
        "colab": {
          "base_uri": "https://localhost:8080/"
        },
        "id": "JFufZ3Mn34u-",
        "outputId": "6c0c668c-cc6e-4f49-91e7-494b4779531b"
      },
      "execution_count": 60,
      "outputs": [
        {
          "output_type": "stream",
          "name": "stdout",
          "text": [
            "Enjoy Enjoy Enjoy \n"
          ]
        }
      ]
    },
    {
      "cell_type": "markdown",
      "source": [
        "## 리스트 (List), p.49\n",
        "- 가장 중요한 자료형\n",
        "- 다른 프로그래밍 언어에서는 배열(Array)이라 함\n",
        "- 예시\n",
        "  + 1반의 수학 점수\n",
        "- 다중의 데이터를 묶는다"
      ],
      "metadata": {
        "id": "b6B2CHpk4Iww"
      }
    },
    {
      "cell_type": "code",
      "source": [
        "# 1번 학생의 국어, 영어, 수학, 과학\n",
        "student1 = [90, 95, 85, 80]\n",
        "student1 # student1을 한 번 더 치는 이유는?? print같음. 명령어를 안썼을 뿐이지."
      ],
      "metadata": {
        "colab": {
          "base_uri": "https://localhost:8080/"
        },
        "id": "RdxUUamv5FHG",
        "outputId": "9636e23f-ae12-4f6f-93d6-7fa9dc7ee0ec"
      },
      "execution_count": 64,
      "outputs": [
        {
          "output_type": "execute_result",
          "data": {
            "text/plain": [
              "[90, 95, 85, 80]"
            ]
          },
          "metadata": {},
          "execution_count": 64
        }
      ]
    },
    {
      "cell_type": "code",
      "source": [
        "print(type(student1))"
      ],
      "metadata": {
        "colab": {
          "base_uri": "https://localhost:8080/"
        },
        "id": "zwGp5i1U5OQu",
        "outputId": "4927db7c-36e6-4fa8-929e-94608512e82b"
      },
      "execution_count": 62,
      "outputs": [
        {
          "output_type": "stream",
          "name": "stdout",
          "text": [
            "<class 'list'>\n"
          ]
        }
      ]
    },
    {
      "cell_type": "markdown",
      "source": [
        "## 인덱싱(Indexsing)\n",
        "- 리스트에서 특정 데이터를 추출"
      ],
      "metadata": {
        "id": "l5RLspFH5rkI"
      }
    },
    {
      "cell_type": "code",
      "source": [
        "student1"
      ],
      "metadata": {
        "colab": {
          "base_uri": "https://localhost:8080/"
        },
        "id": "OTMFlJ-T51tI",
        "outputId": "71b037fc-b0d3-49d1-baa1-460608c293a7"
      },
      "execution_count": 65,
      "outputs": [
        {
          "output_type": "execute_result",
          "data": {
            "text/plain": [
              "[90, 95, 85, 80]"
            ]
          },
          "metadata": {},
          "execution_count": 65
        }
      ]
    },
    {
      "cell_type": "code",
      "source": [
        "student1[1] # 리스트의 2번째 숫자가 나온다. 왜? 프로그래밍에서는 첫 번째에 해당되는 값이 0번부터 시작이기 때문! 그래서 첫 번째 숫자를 뽑기 위해서는 0을 넣어야 한다."
      ],
      "metadata": {
        "colab": {
          "base_uri": "https://localhost:8080/"
        },
        "id": "rVuYXNlj55QG",
        "outputId": "f0ca536e-663e-4736-c472-2b8bc761c3fd"
      },
      "execution_count": 68,
      "outputs": [
        {
          "output_type": "execute_result",
          "data": {
            "text/plain": [
              "95"
            ]
          },
          "metadata": {},
          "execution_count": 68
        }
      ]
    },
    {
      "cell_type": "code",
      "source": [
        "student1[0] # 이렇게 하면 첫 번째 항목을 뽑아옴."
      ],
      "metadata": {
        "colab": {
          "base_uri": "https://localhost:8080/"
        },
        "id": "Y9LSiUwT6Ox4",
        "outputId": "48f643ec-9f37-451e-d7aa-5eb6874d6c1c"
      },
      "execution_count": 69,
      "outputs": [
        {
          "output_type": "execute_result",
          "data": {
            "text/plain": [
              "90"
            ]
          },
          "metadata": {},
          "execution_count": 69
        }
      ]
    },
    {
      "cell_type": "code",
      "source": [
        "print(student1[0])\n",
        "print(student1[1])\n",
        "print(student1[2])\n",
        "print(student1[3])"
      ],
      "metadata": {
        "colab": {
          "base_uri": "https://localhost:8080/"
        },
        "id": "uvkIzSqT6cXn",
        "outputId": "938e417c-315f-4b89-c269-9367db4c2f56"
      },
      "execution_count": 70,
      "outputs": [
        {
          "output_type": "stream",
          "name": "stdout",
          "text": [
            "90\n",
            "95\n",
            "85\n",
            "80\n"
          ]
        }
      ]
    },
    {
      "cell_type": "code",
      "source": [
        "greeting1 = 'Hello, Python'\n",
        "print(greeting1[7]) # 이렇게 간단하게 인덱싱 할 수 있다. 물론 문자 뽑는데 쓰는 함수도 있긴 한데, 그건 나중에."
      ],
      "metadata": {
        "colab": {
          "base_uri": "https://localhost:8080/"
        },
        "id": "lHkIi0Yd6kvP",
        "outputId": "6f5c1fbd-626a-46a9-9554-6cd79e82fc69"
      },
      "execution_count": 76,
      "outputs": [
        {
          "output_type": "stream",
          "name": "stdout",
          "text": [
            "P\n"
          ]
        }
      ]
    },
    {
      "cell_type": "markdown",
      "source": [
        "### 리스트의 값 업데이트"
      ],
      "metadata": {
        "id": "g4y0Ly-L8S2o"
      }
    },
    {
      "cell_type": "markdown",
      "source": [
        "### 리스트 수정, 삭제"
      ],
      "metadata": {
        "id": "d35r2TyL8a8Y"
      }
    },
    {
      "cell_type": "code",
      "source": [
        "student1[0] = 100 # 0번째 인덱스에 새로운 데이터를 할당하는 것이다.\n",
        "student1"
      ],
      "metadata": {
        "colab": {
          "base_uri": "https://localhost:8080/"
        },
        "id": "YkD6LvY68d1h",
        "outputId": "2344d4ca-93a8-4941-fe2c-fd3989d23b64"
      },
      "execution_count": 80,
      "outputs": [
        {
          "output_type": "execute_result",
          "data": {
            "text/plain": [
              "[100, 95, 85, 80]"
            ]
          },
          "metadata": {},
          "execution_count": 80
        }
      ]
    },
    {
      "cell_type": "code",
      "source": [
        "# 문자열, 덧셈 연산자 + 곱셈 연산자 사용 가능.\n",
        "# 문자열에 연산자 작용을 리스트에 적용\n",
        "myFriends = ['Michael', 'Sebastian', 'Kevin', 'Tina'] # 문자도 이렇게 리스트로 만들 수 있다.\n",
        "newFriends = ['Hanna']\n",
        "\n",
        "myFriends2 = myFriends + newFriends # 이렇게 하면 뒤에 추가가 된다.\n",
        "print(myFriends2)"
      ],
      "metadata": {
        "colab": {
          "base_uri": "https://localhost:8080/"
        },
        "id": "4rs7iO-J89Vf",
        "outputId": "b04db233-59c8-47ec-fd33-46d7235e5458"
      },
      "execution_count": 82,
      "outputs": [
        {
          "output_type": "stream",
          "name": "stdout",
          "text": [
            "['Michael', 'Sebastian', 'Kevin', 'Tina', 'Hanna']\n"
          ]
        }
      ]
    },
    {
      "cell_type": "code",
      "source": [
        "myNumbers = [1]\n",
        "print(myNumbers * 3) # 이건 리스트에 곱하기 3을 한 것임. 숫자에 곱하기 3이 아님. 왜냐? myNumbers가 이미 리스트 값 취급이니까. [1] + [1] + [1]이라고 생각하면 편함.\n",
        "print(type(myNumbers))"
      ],
      "metadata": {
        "colab": {
          "base_uri": "https://localhost:8080/"
        },
        "id": "AUSdtP2D-Xq4",
        "outputId": "28de169b-6779-4038-daab-7e1a3e639403"
      },
      "execution_count": 88,
      "outputs": [
        {
          "output_type": "stream",
          "name": "stdout",
          "text": [
            "[1, 1, 1]\n",
            "<class 'list'>\n"
          ]
        }
      ]
    },
    {
      "cell_type": "code",
      "source": [
        "# myFriends에서 Kevin의 K 추출\n",
        "# result = myFriends2[2]\n",
        "# result[0]\n",
        "myFriends2[2][0] # 리스트2번의 0번째 인덱스를 뽑는 것이다. (대괄호는 기본적으로 인덱싱 기능을 갖고있다고 볼 수 있다.)"
      ],
      "metadata": {
        "colab": {
          "base_uri": "https://localhost:8080/",
          "height": 35
        },
        "id": "WGAErzTj_Zmi",
        "outputId": "e4f1187c-7804-4b1a-e1d8-47eb0404afb9"
      },
      "execution_count": 92,
      "outputs": [
        {
          "output_type": "execute_result",
          "data": {
            "text/plain": [
              "'K'"
            ],
            "application/vnd.google.colaboratory.intrinsic+json": {
              "type": "string"
            }
          },
          "metadata": {},
          "execution_count": 92
        }
      ]
    },
    {
      "cell_type": "code",
      "source": [
        "myFriends2[4][1] # 이렇게 하면 리스트의 4번째 항목에서 2번째 문자를 인덱싱. 그러니까 리스트에서 대괄호로 인덱싱을 하면 해당 항의 결과를 도출, 문자열에서 대괄호로 인덱싱을 하면 문자열 위치의 결과를 도출."
      ],
      "metadata": {
        "colab": {
          "base_uri": "https://localhost:8080/",
          "height": 35
        },
        "id": "kysuTIHOACQp",
        "outputId": "4074ca43-f809-4b6b-a5e7-5c19151fd530"
      },
      "execution_count": 94,
      "outputs": [
        {
          "output_type": "execute_result",
          "data": {
            "text/plain": [
              "'a'"
            ],
            "application/vnd.google.colaboratory.intrinsic+json": {
              "type": "string"
            }
          },
          "metadata": {},
          "execution_count": 94
        }
      ]
    },
    {
      "cell_type": "code",
      "source": [
        "mixed = [0, 2, 3, 14, 'python', True, myFriends2]\n",
        "mixed[-1] # 이렇게 하면 뒤에서부터 인덱싱을 한다. 뒤에서부터 앞으로 -1 = myFriends2, -2 = True, -3 = python 이렇게"
      ],
      "metadata": {
        "colab": {
          "base_uri": "https://localhost:8080/"
        },
        "id": "JAfpJUEM_OcL",
        "outputId": "390ed8a3-eade-4a33-8ff7-dcdaa3ebac3b"
      },
      "execution_count": 95,
      "outputs": [
        {
          "output_type": "execute_result",
          "data": {
            "text/plain": [
              "['Michael', 'Sebastian', 'Kevin', 'Tina', 'Hanna']"
            ]
          },
          "metadata": {},
          "execution_count": 95
        }
      ]
    },
    {
      "cell_type": "code",
      "source": [
        "mixed[-1][-1][0]"
      ],
      "metadata": {
        "colab": {
          "base_uri": "https://localhost:8080/",
          "height": 35
        },
        "id": "031OC38IA_BJ",
        "outputId": "4d8a33d5-6d37-47d3-8c67-05ce26f5e8a2"
      },
      "execution_count": 96,
      "outputs": [
        {
          "output_type": "execute_result",
          "data": {
            "text/plain": [
              "'H'"
            ],
            "application/vnd.google.colaboratory.intrinsic+json": {
              "type": "string"
            }
          },
          "metadata": {},
          "execution_count": 96
        }
      ]
    },
    {
      "cell_type": "markdown",
      "source": [
        "### 슬라이싱\n",
        "- 문자열, 리스트, 그 외 파이썬 자료형 원리 동일 적용"
      ],
      "metadata": {
        "id": "fqdn02EzF2xC"
      }
    },
    {
      "cell_type": "code",
      "source": [
        "list_data = [0, 1, 2, 3, 4, 5, 6, 7, 8, 9]\n",
        "print(list_data)\n",
        "print(list_data[0:3]) # 시작인덱스 : 끝인덱스-1\n",
        "\n",
        "# 5까지 추출해보자.\n",
        "print(list_data[0:6])\n",
        "print(list_data[4:]) # 리스트 끝까지 뽑고 싶을 때는 뒤에 10을 넣지 않고 그냥 비워둬도 가능하다. 같은 원리로, 모든 데이터를 뽑고싶다면 [:] 이렇게만 써도 된다.\n",
        "print(list_data[:]) # 이렇게 하면 모든 데이터가 나옴. 모든 데이터를 뽑고자 할 때는 이게 낫다.\n",
        "print(list_data[::2]) # 이렇게 하면 짝수만 나옴. 여기서 2를 step이라 함. 만약 [::3] 이렇게 하면 [0, 3, 6, 9] 이렇게 나옴.\n",
        "print(list_data[::3]) # 이렇게 나옴."
      ],
      "metadata": {
        "colab": {
          "base_uri": "https://localhost:8080/"
        },
        "id": "3p49GhhLGCMM",
        "outputId": "b6042276-f42e-446b-8eb0-e14853440c48"
      },
      "execution_count": 111,
      "outputs": [
        {
          "output_type": "stream",
          "name": "stdout",
          "text": [
            "[0, 1, 2, 3, 4, 5, 6, 7, 8, 9]\n",
            "[0, 1, 2]\n",
            "[0, 1, 2, 3, 4, 5]\n",
            "[4, 5, 6, 7, 8, 9]\n",
            "[0, 1, 2, 3, 4, 5, 6, 7, 8, 9]\n",
            "[0, 2, 4, 6, 8]\n",
            "[0, 3, 6, 9]\n"
          ]
        }
      ]
    },
    {
      "cell_type": "code",
      "source": [
        "greeting3 = 'Hello, Python' # 콤마가 있어서 리스트 같지만 아니다. 따옴표로 전체가 문자열이 되었기 때문. 그런 고로, 5번째 인덱스를 뽑으면 콤마가 나온다.\n",
        "#Hello만 추출\n",
        "greeting3[0:5]"
      ],
      "metadata": {
        "colab": {
          "base_uri": "https://localhost:8080/",
          "height": 35
        },
        "id": "wAOxbwMQHcyD",
        "outputId": "55ecffca-8e93-4389-e9ad-4b9b8ef49bd3"
      },
      "execution_count": 104,
      "outputs": [
        {
          "output_type": "execute_result",
          "data": {
            "text/plain": [
              "'Hello'"
            ],
            "application/vnd.google.colaboratory.intrinsic+json": {
              "type": "string"
            }
          },
          "metadata": {},
          "execution_count": 104
        }
      ]
    },
    {
      "cell_type": "markdown",
      "source": [
        "## 튜플(Tuple)\n",
        "- 기초 문법이 중요함 (면접때 질문 받을 수 있음.)\n",
        "- 튜플은 리스트와 유사함."
      ],
      "metadata": {
        "id": "csyJDcIyKal0"
      }
    },
    {
      "cell_type": "code",
      "source": [
        "tuple1 = (1, 2, 3, 4)\n",
        "print(tuple1)\n",
        "print(type(tuple1))"
      ],
      "metadata": {
        "colab": {
          "base_uri": "https://localhost:8080/"
        },
        "id": "Q2keY05HL5dF",
        "outputId": "3c73558b-ed86-4324-dc04-907d84159be7"
      },
      "execution_count": 113,
      "outputs": [
        {
          "output_type": "stream",
          "name": "stdout",
          "text": [
            "(1, 2, 3, 4)\n",
            "<class 'tuple'>\n"
          ]
        }
      ]
    },
    {
      "cell_type": "markdown",
      "source": [
        "### 유사한 것\n",
        "- 인덱싱과 슬라이싱이 동일"
      ],
      "metadata": {
        "id": "FE5UjgHJMXwo"
      }
    },
    {
      "cell_type": "code",
      "source": [
        "tuple_data = (0, 1, 2, 3, 4, 5, 6, 7, 8, 9)\n",
        "print(tuple_data[1]) # 인덱싱\n",
        "print(tuple_data[0:3]) # 슬라이싱"
      ],
      "metadata": {
        "colab": {
          "base_uri": "https://localhost:8080/"
        },
        "id": "ifQqHwhlMV_l",
        "outputId": "60b6ef7b-06eb-4b00-d530-03b8c743621a"
      },
      "execution_count": 115,
      "outputs": [
        {
          "output_type": "stream",
          "name": "stdout",
          "text": [
            "1\n",
            "(0, 1, 2)\n"
          ]
        }
      ]
    },
    {
      "cell_type": "markdown",
      "source": [
        "### 차이점\n",
        "- 리스트는 수정, 삭제가 가능.\n",
        "- 튜플은 수정, 삭제가 불가."
      ],
      "metadata": {
        "id": "TKJKQ216NJst"
      }
    },
    {
      "cell_type": "code",
      "source": [
        "l_data = [0, 1, 2, 3]\n",
        "t_data = (0, 1, 2, 3)\n",
        "l_data[3] = 30 # 숫자3 대신 30으로 바꿈\n",
        "t_data[3] = 30 # 이러면 에러가 남. 튜플은 변치 않는 상수와 같은 역할을 함을 알 수 있음."
      ],
      "metadata": {
        "colab": {
          "base_uri": "https://localhost:8080/",
          "height": 221
        },
        "id": "J5xLQi-pNLP2",
        "outputId": "3b8e42db-6b8e-4535-9665-76bdb0ba412b"
      },
      "execution_count": 117,
      "outputs": [
        {
          "output_type": "error",
          "ename": "TypeError",
          "evalue": "ignored",
          "traceback": [
            "\u001b[0;31m---------------------------------------------------------------------------\u001b[0m",
            "\u001b[0;31mTypeError\u001b[0m                                 Traceback (most recent call last)",
            "\u001b[0;32m<ipython-input-117-8fe0b33d4f3b>\u001b[0m in \u001b[0;36m<cell line: 4>\u001b[0;34m()\u001b[0m\n\u001b[1;32m      2\u001b[0m \u001b[0mt_data\u001b[0m \u001b[0;34m=\u001b[0m \u001b[0;34m(\u001b[0m\u001b[0;36m0\u001b[0m\u001b[0;34m,\u001b[0m \u001b[0;36m1\u001b[0m\u001b[0;34m,\u001b[0m \u001b[0;36m2\u001b[0m\u001b[0;34m,\u001b[0m \u001b[0;36m3\u001b[0m\u001b[0;34m)\u001b[0m\u001b[0;34m\u001b[0m\u001b[0;34m\u001b[0m\u001b[0m\n\u001b[1;32m      3\u001b[0m \u001b[0ml_data\u001b[0m\u001b[0;34m[\u001b[0m\u001b[0;36m3\u001b[0m\u001b[0;34m]\u001b[0m \u001b[0;34m=\u001b[0m \u001b[0;36m30\u001b[0m \u001b[0;31m# 숫자3 대신 30으로 바꿈\u001b[0m\u001b[0;34m\u001b[0m\u001b[0;34m\u001b[0m\u001b[0m\n\u001b[0;32m----> 4\u001b[0;31m \u001b[0mt_data\u001b[0m\u001b[0;34m[\u001b[0m\u001b[0;36m3\u001b[0m\u001b[0;34m]\u001b[0m \u001b[0;34m=\u001b[0m \u001b[0;36m30\u001b[0m\u001b[0;34m\u001b[0m\u001b[0;34m\u001b[0m\u001b[0m\n\u001b[0m",
            "\u001b[0;31mTypeError\u001b[0m: 'tuple' object does not support item assignment"
          ]
        }
      ]
    },
    {
      "cell_type": "code",
      "source": [
        "I_data2 = [0, 1, 2, 3]\n",
        "t_data2 = (0, 1, 2, 3)\n",
        "del t_data2[3] # 위에서 언급했듯이 삭제도 불가."
      ],
      "metadata": {
        "colab": {
          "base_uri": "https://localhost:8080/",
          "height": 221
        },
        "id": "R2H5RY7TOZtN",
        "outputId": "c04a07fe-52ba-4403-d846-8cf539c4dcb7"
      },
      "execution_count": 118,
      "outputs": [
        {
          "output_type": "error",
          "ename": "TypeError",
          "evalue": "ignored",
          "traceback": [
            "\u001b[0;31m---------------------------------------------------------------------------\u001b[0m",
            "\u001b[0;31mTypeError\u001b[0m                                 Traceback (most recent call last)",
            "\u001b[0;32m<ipython-input-118-971e77c16a39>\u001b[0m in \u001b[0;36m<cell line: 3>\u001b[0;34m()\u001b[0m\n\u001b[1;32m      1\u001b[0m \u001b[0mI_data2\u001b[0m \u001b[0;34m=\u001b[0m \u001b[0;34m[\u001b[0m\u001b[0;36m0\u001b[0m\u001b[0;34m,\u001b[0m \u001b[0;36m1\u001b[0m\u001b[0;34m,\u001b[0m \u001b[0;36m2\u001b[0m\u001b[0;34m,\u001b[0m \u001b[0;36m3\u001b[0m\u001b[0;34m]\u001b[0m\u001b[0;34m\u001b[0m\u001b[0;34m\u001b[0m\u001b[0m\n\u001b[1;32m      2\u001b[0m \u001b[0mt_data2\u001b[0m \u001b[0;34m=\u001b[0m \u001b[0;34m(\u001b[0m\u001b[0;36m0\u001b[0m\u001b[0;34m,\u001b[0m \u001b[0;36m1\u001b[0m\u001b[0;34m,\u001b[0m \u001b[0;36m2\u001b[0m\u001b[0;34m,\u001b[0m \u001b[0;36m3\u001b[0m\u001b[0;34m)\u001b[0m\u001b[0;34m\u001b[0m\u001b[0;34m\u001b[0m\u001b[0m\n\u001b[0;32m----> 3\u001b[0;31m \u001b[0;32mdel\u001b[0m \u001b[0mt_data2\u001b[0m\u001b[0;34m[\u001b[0m\u001b[0;36m3\u001b[0m\u001b[0;34m]\u001b[0m\u001b[0;34m\u001b[0m\u001b[0;34m\u001b[0m\u001b[0m\n\u001b[0m",
            "\u001b[0;31mTypeError\u001b[0m: 'tuple' object doesn't support item deletion"
          ]
        }
      ]
    }
  ]
}