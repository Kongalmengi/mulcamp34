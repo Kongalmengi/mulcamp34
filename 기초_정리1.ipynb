{
  "nbformat": 4,
  "nbformat_minor": 0,
  "metadata": {
    "colab": {
      "provenance": [],
      "authorship_tag": "ABX9TyNyQGKn6eQr/dnUj+OQeiBv",
      "include_colab_link": true
    },
    "kernelspec": {
      "name": "python3",
      "display_name": "Python 3"
    },
    "language_info": {
      "name": "python"
    }
  },
  "cells": [
    {
      "cell_type": "markdown",
      "metadata": {
        "id": "view-in-github",
        "colab_type": "text"
      },
      "source": [
        "<a href=\"https://colab.research.google.com/github/Kongalmengi/mulcamp34/blob/main/%EA%B8%B0%EC%B4%88_%EC%A0%95%EB%A6%AC1.ipynb\" target=\"_parent\"><img src=\"https://colab.research.google.com/assets/colab-badge.svg\" alt=\"Open In Colab\"/></a>"
      ]
    },
    {
      "cell_type": "markdown",
      "source": [
        "# 자료형의 종류\n",
        "- 숫자 자료형(int) : 그냥 숫자를 쓰면 됨. 1, 2, 3, 4\n",
        "- 문자 자료형(str) : 따옴표 안에 글을 쓰면 됨. 'a', '1'\n",
        "  + 참고로 숫자를 써도 따옴표 안에 넣으면 문자가 된다.\n",
        "  + 따옴표 없이 문자를 쓰면 변수로 인식한다.\n",
        "- 불리안 자료형(bool) : True, False\n",
        "- 리스트 자료형(list) : 요건 나중에 다룬다.\n",
        "- 변수 : 변수선언을 통해 값을 정의 할 수 있다."
      ],
      "metadata": {
        "id": "6GzypSG078mE"
      }
    },
    {
      "cell_type": "code",
      "execution_count": null,
      "metadata": {
        "colab": {
          "base_uri": "https://localhost:8080/"
        },
        "id": "CU562fxD6o5M",
        "outputId": "09a91c69-0f8d-403a-ca10-d5e6d5d51eed"
      },
      "outputs": [
        {
          "output_type": "stream",
          "name": "stdout",
          "text": [
            "2\n",
            "<class 'int'>\n",
            "a\n",
            "<class 'str'>\n",
            "True\n",
            "<class 'bool'>\n",
            "[1, 2, 3, 4]\n",
            "<class 'list'>\n"
          ]
        }
      ],
      "source": [
        "print(2)\n",
        "print(type(2))\n",
        "print('a')\n",
        "print(type('a'))\n",
        "print(True)\n",
        "print(type(True))\n",
        "print([1, 2, 3, 4])\n",
        "print(type([1, 2, 3, 4]))"
      ]
    },
    {
      "cell_type": "code",
      "source": [
        "long_string1 = '''\n",
        "문장이 긴 텍스트\n",
        "문장이 긴 텍스트1\n",
        "문장이 긴 텍스트2\n",
        "문장이 긴 텍스트3\n",
        "'''\n",
        "\n",
        "print(long_string1) # 삼중 따옴표를 이용하면 여러 줄의 텍스트를 하나의 문자열로 만들어줄 수 있다."
      ],
      "metadata": {
        "colab": {
          "base_uri": "https://localhost:8080/"
        },
        "id": "AOWi6r-vjUHE",
        "outputId": "5963d82d-2adc-425a-fd4e-1e64600414ed"
      },
      "execution_count": null,
      "outputs": [
        {
          "output_type": "stream",
          "name": "stdout",
          "text": [
            "\n",
            "문장이 긴 텍스트\n",
            "문장이 긴 텍스트1\n",
            "문장이 긴 텍스트2\n",
            "문장이 긴 텍스트3\n",
            "\n"
          ]
        }
      ]
    },
    {
      "cell_type": "code",
      "source": [
        "print(a) # 이것이 위와 달리 에러가 나는 이유는, 위에서는 a를 문자로 인식했지만, 여기서는 a를 변수로 인식했기 때문.\n",
        "# >> 문자를 출력하기 위해서는 따옴표가 필요함을 알 수 있으며, 그렇지 않으면 변수로 인식함을 알 수 있다."
      ],
      "metadata": {
        "colab": {
          "base_uri": "https://localhost:8080/",
          "height": 182
        },
        "id": "x1rSZgmC612d",
        "outputId": "eec82344-00d8-4777-98d6-1f7ec613186a"
      },
      "execution_count": null,
      "outputs": [
        {
          "output_type": "error",
          "ename": "NameError",
          "evalue": "ignored",
          "traceback": [
            "\u001b[0;31m---------------------------------------------------------------------------\u001b[0m",
            "\u001b[0;31mNameError\u001b[0m                                 Traceback (most recent call last)",
            "\u001b[0;32m<ipython-input-2-bca0e2660b9f>\u001b[0m in \u001b[0;36m<cell line: 1>\u001b[0;34m()\u001b[0m\n\u001b[0;32m----> 1\u001b[0;31m \u001b[0mprint\u001b[0m\u001b[0;34m(\u001b[0m\u001b[0ma\u001b[0m\u001b[0;34m)\u001b[0m\u001b[0;34m\u001b[0m\u001b[0;34m\u001b[0m\u001b[0m\n\u001b[0m",
            "\u001b[0;31mNameError\u001b[0m: name 'a' is not defined"
          ]
        }
      ]
    },
    {
      "cell_type": "markdown",
      "source": [
        "# 변수 선언\n",
        "- 변수 = 값 : 이렇게 변수를 선언 할 수 있다.\n",
        "- 명령어(키워드)는 변수로 설정 할 수 없다. : True, False, for, while, if, continue 등등..."
      ],
      "metadata": {
        "id": "mz3FlQC9-E5S"
      }
    },
    {
      "cell_type": "code",
      "source": [
        "practice1 = 1\n",
        "practice2 = 2\n",
        "practice3 = 'practice3 str.'\n",
        "print(practice1) # 변수 practice1을 출력\n",
        "print('pracrice1') # 문자 practice1을 출력\n",
        "print(practice2) # 변수 practice2를 출력\n",
        "print('practice2') # 문자 practice2를 출력\n",
        "print(practice3) # 문자를 변수로 설정할 수 있음을 보여준다."
      ],
      "metadata": {
        "id": "LRRT0MG777AC",
        "colab": {
          "base_uri": "https://localhost:8080/"
        },
        "outputId": "690a96bf-bc0c-40be-c817-07fd07a10034"
      },
      "execution_count": null,
      "outputs": [
        {
          "output_type": "stream",
          "name": "stdout",
          "text": [
            "1\n",
            "pracrice1\n",
            "2\n",
            "practice2\n",
            "practice3 str.\n"
          ]
        }
      ]
    },
    {
      "cell_type": "markdown",
      "source": [
        "# 형 변환(문자형 변환)\n",
        "- 문자, 숫자 따위의 변환 : 2 + '2'는 불가. 숫자와 문자의 조합이기 때문.\n",
        "- int() : 정수로 변환\n",
        "- float() : 실수로 변환\n",
        "- str() : 문자로 변환"
      ],
      "metadata": {
        "id": "blu7LjNl_Zar"
      }
    },
    {
      "cell_type": "code",
      "source": [
        "print(1 + 1) # 오류가 나지 않는다.\n",
        "print(1 + '1') # type이 다르기 때문에 오류가 난다. : int + str 형태."
      ],
      "metadata": {
        "colab": {
          "base_uri": "https://localhost:8080/",
          "height": 219
        },
        "id": "6z8yRDvu_0fd",
        "outputId": "479c1959-e87f-4d38-dec1-46f108bfb3d4"
      },
      "execution_count": null,
      "outputs": [
        {
          "output_type": "stream",
          "name": "stdout",
          "text": [
            "2\n"
          ]
        },
        {
          "output_type": "error",
          "ename": "TypeError",
          "evalue": "ignored",
          "traceback": [
            "\u001b[0;31m---------------------------------------------------------------------------\u001b[0m",
            "\u001b[0;31mTypeError\u001b[0m                                 Traceback (most recent call last)",
            "\u001b[0;32m<ipython-input-15-8eaec750b18f>\u001b[0m in \u001b[0;36m<cell line: 2>\u001b[0;34m()\u001b[0m\n\u001b[1;32m      1\u001b[0m \u001b[0mprint\u001b[0m\u001b[0;34m(\u001b[0m\u001b[0;36m1\u001b[0m \u001b[0;34m+\u001b[0m \u001b[0;36m1\u001b[0m\u001b[0;34m)\u001b[0m\u001b[0;34m\u001b[0m\u001b[0;34m\u001b[0m\u001b[0m\n\u001b[0;32m----> 2\u001b[0;31m \u001b[0mprint\u001b[0m\u001b[0;34m(\u001b[0m\u001b[0;36m1\u001b[0m \u001b[0;34m+\u001b[0m \u001b[0;34m'1'\u001b[0m\u001b[0;34m)\u001b[0m\u001b[0;34m\u001b[0m\u001b[0;34m\u001b[0m\u001b[0m\n\u001b[0m",
            "\u001b[0;31mTypeError\u001b[0m: unsupported operand type(s) for +: 'int' and 'str'"
          ]
        }
      ]
    },
    {
      "cell_type": "code",
      "source": [
        "print(int('1'))\n",
        "print(type(int('1'))) # '1'은 str 형식이지만, int('1')은 int형식임을 알 수 있다. 즉, int()를 이용하면 괄호 안의 값이 정수로 바뀐다."
      ],
      "metadata": {
        "colab": {
          "base_uri": "https://localhost:8080/"
        },
        "id": "gXNUvyG0AKj6",
        "outputId": "1379c175-877c-4ef0-de04-dc582fdd43c6"
      },
      "execution_count": null,
      "outputs": [
        {
          "output_type": "stream",
          "name": "stdout",
          "text": [
            "1\n",
            "<class 'int'>\n"
          ]
        }
      ]
    },
    {
      "cell_type": "code",
      "source": [
        "print(int(2.1))\n",
        "print(int(2.4))\n",
        "print(int(2.5))\n",
        "print(int(2.7))\n",
        "print(int(2.9)) # 모든 결과는 2가 나온다. 이것으로 int()는 소수점 이하 버림 정수임을 알 수 있다."
      ],
      "metadata": {
        "colab": {
          "base_uri": "https://localhost:8080/"
        },
        "id": "YoStA4aeAzt5",
        "outputId": "0b6cd49c-2290-4a61-f2cf-c8ddb8255e49"
      },
      "execution_count": null,
      "outputs": [
        {
          "output_type": "stream",
          "name": "stdout",
          "text": [
            "2\n",
            "2\n",
            "2\n",
            "2\n",
            "2\n"
          ]
        }
      ]
    },
    {
      "cell_type": "code",
      "source": [
        "print(int('2')) # 문자 2도 숫자로 바꿀 수 있다.\n",
        "print(float('2.1')) # 문자 2.1은 실수변환으로 숫자화가 가능하다.\n",
        "print(int('2.1')) # 그런데 문자 2.1은 정수변환이 불가하다. >> 위의 방법처럼 실수변환을 통해 숫자로 만들수 있다."
      ],
      "metadata": {
        "colab": {
          "base_uri": "https://localhost:8080/",
          "height": 255
        },
        "id": "zpWgNGLBBQfq",
        "outputId": "0a0f477c-e3cf-49ae-a2fc-91128e673fca"
      },
      "execution_count": null,
      "outputs": [
        {
          "output_type": "stream",
          "name": "stdout",
          "text": [
            "2\n",
            "2.1\n"
          ]
        },
        {
          "output_type": "error",
          "ename": "ValueError",
          "evalue": "ignored",
          "traceback": [
            "\u001b[0;31m---------------------------------------------------------------------------\u001b[0m",
            "\u001b[0;31mValueError\u001b[0m                                Traceback (most recent call last)",
            "\u001b[0;32m<ipython-input-28-446ce3c89208>\u001b[0m in \u001b[0;36m<cell line: 3>\u001b[0;34m()\u001b[0m\n\u001b[1;32m      1\u001b[0m \u001b[0mprint\u001b[0m\u001b[0;34m(\u001b[0m\u001b[0mint\u001b[0m\u001b[0;34m(\u001b[0m\u001b[0;34m'2'\u001b[0m\u001b[0;34m)\u001b[0m\u001b[0;34m)\u001b[0m \u001b[0;31m# 문자 2도 숫자로 바꿀 수 있다.\u001b[0m\u001b[0;34m\u001b[0m\u001b[0;34m\u001b[0m\u001b[0m\n\u001b[1;32m      2\u001b[0m \u001b[0mprint\u001b[0m\u001b[0;34m(\u001b[0m\u001b[0mfloat\u001b[0m\u001b[0;34m(\u001b[0m\u001b[0;34m'2.1'\u001b[0m\u001b[0;34m)\u001b[0m\u001b[0;34m)\u001b[0m\u001b[0;34m\u001b[0m\u001b[0;34m\u001b[0m\u001b[0m\n\u001b[0;32m----> 3\u001b[0;31m \u001b[0mprint\u001b[0m\u001b[0;34m(\u001b[0m\u001b[0mint\u001b[0m\u001b[0;34m(\u001b[0m\u001b[0;34m'2.1'\u001b[0m\u001b[0;34m)\u001b[0m\u001b[0;34m)\u001b[0m \u001b[0;31m# 그런데 문자 2.1은 정수변환이 불가하다.\u001b[0m\u001b[0;34m\u001b[0m\u001b[0;34m\u001b[0m\u001b[0m\n\u001b[0m",
            "\u001b[0;31mValueError\u001b[0m: invalid literal for int() with base 10: '2.1'"
          ]
        }
      ]
    },
    {
      "cell_type": "markdown",
      "source": [
        "# 연산자\n",
        "## 산술 연산자\n",
        "- 더하기 : +\n",
        "- 빼기 : -\n",
        "- 곱하기 : *\n",
        "- 나누기 : /\n",
        "  + 나머지 : % (5 % 2 = 1)\n",
        "  + 몫 : // : (5 // 2 = 2)\n",
        "- 거듭제곱 : **\n",
        "- 10의 거듭제곱 : e로 표현. (예:7e3 = 7000, 3e-4 = 0.0003\n",
        "\n",
        "## 비교 연산자 : 비교 결과는 True, False로 나온다.\n",
        "- > : 크다 (비교시에는 이렇게 뾰족괄호가 먼저 옴을 알 수 있다.)\n",
        "- >= : 크거나 같다\n",
        "- < : 작다\n",
        "- <= : 작거나 같다\n",
        "- == : 같다\n",
        "- != : 같지 않다\n",
        "\n",
        "## 논리 연산자 : 결과는 True, False로 나온다\n",
        "- and 예 : (print(3 < 5 and 7 < 5 : 결과는 False))\n",
        "- or\n",
        "- not\n",
        "- in : 포함 여부를 판별. 예 : print('c' in 'cat' : 포함 되어있으므로 결과는 True.)\n",
        "(참고로 숫자에서 in을 쓸 때, 숫자형으로 비교하면 오류가 뜬다. 예를 들어 2 in 2345를 하게 되면 오류가 뜸. 이런 경우에는 '2' in '2345' 이렇게 해야 함. 2345에 2가 들어있으므로 이런 경우에는 True가 뜸.)\n",
        "- not in : 미포함. 예 : print('c' not in 'cat' : 결과는 False)"
      ],
      "metadata": {
        "id": "CRR_oUemCJf7"
      }
    },
    {
      "cell_type": "code",
      "source": [
        "print('2' in '2345') # 2345에 2가 들어있으므로 True.\n",
        "print(str(2) in str(2345)) # 이 경우는 숫자를 문자로 형변환을 했기 때문에 비교가 가능. 오류가 나지 않는다.\n",
        "print(2 in 2345) # 이 경우에는 문자형이 맞지 않으므로 불가."
      ],
      "metadata": {
        "colab": {
          "base_uri": "https://localhost:8080/",
          "height": 255
        },
        "id": "5j_8bbsaDXsp",
        "outputId": "473ab8e7-e643-46bf-ab38-257ccd801754"
      },
      "execution_count": null,
      "outputs": [
        {
          "output_type": "stream",
          "name": "stdout",
          "text": [
            "True\n",
            "True\n"
          ]
        },
        {
          "output_type": "error",
          "ename": "TypeError",
          "evalue": "ignored",
          "traceback": [
            "\u001b[0;31m---------------------------------------------------------------------------\u001b[0m",
            "\u001b[0;31mTypeError\u001b[0m                                 Traceback (most recent call last)",
            "\u001b[0;32m<ipython-input-32-b3ac6997f9cc>\u001b[0m in \u001b[0;36m<cell line: 3>\u001b[0;34m()\u001b[0m\n\u001b[1;32m      1\u001b[0m \u001b[0mprint\u001b[0m\u001b[0;34m(\u001b[0m\u001b[0;34m'2'\u001b[0m \u001b[0;32min\u001b[0m \u001b[0;34m'2345'\u001b[0m\u001b[0;34m)\u001b[0m \u001b[0;31m# 2345에 2가 들어있으므로 True.\u001b[0m\u001b[0;34m\u001b[0m\u001b[0;34m\u001b[0m\u001b[0m\n\u001b[1;32m      2\u001b[0m \u001b[0mprint\u001b[0m\u001b[0;34m(\u001b[0m\u001b[0mstr\u001b[0m\u001b[0;34m(\u001b[0m\u001b[0;36m2\u001b[0m\u001b[0;34m)\u001b[0m \u001b[0;32min\u001b[0m \u001b[0mstr\u001b[0m\u001b[0;34m(\u001b[0m\u001b[0;36m2345\u001b[0m\u001b[0;34m)\u001b[0m\u001b[0;34m)\u001b[0m\u001b[0;34m\u001b[0m\u001b[0;34m\u001b[0m\u001b[0m\n\u001b[0;32m----> 3\u001b[0;31m \u001b[0mprint\u001b[0m\u001b[0;34m(\u001b[0m\u001b[0;36m2\u001b[0m \u001b[0;32min\u001b[0m \u001b[0;36m2345\u001b[0m\u001b[0;34m)\u001b[0m \u001b[0;31m# 이 경우에는 문자형이 맞지 않으므로 불가.\u001b[0m\u001b[0;34m\u001b[0m\u001b[0;34m\u001b[0m\u001b[0m\n\u001b[0m",
            "\u001b[0;31mTypeError\u001b[0m: argument of type 'int' is not iterable"
          ]
        }
      ]
    },
    {
      "cell_type": "markdown",
      "source": [
        "# 연산자 응용\n",
        "- 문자에도 연산자를 적용할 수 있다. 대표적으로 산술 연산자."
      ],
      "metadata": {
        "id": "9ZU-x1lOfOr4"
      }
    },
    {
      "cell_type": "code",
      "source": [
        "print('안녕' + '하세요') # 문자열에 더하기를 하면 두 개의 문자열이 그대로 이어진다.\n",
        "print('100' + '200') # 문자열 취급되는 숫자는 위와 같은 원리로 그냥 숫자가 이어지는 결과가 나온다. 이 문제를 해결하기 위해서는 문자열을 숫자로 형변환을 하면 됨.\n",
        "print(float('100') + float('200')) # 문자열을 숫자로 변환하니 이렇게 정상적인 사칙연산을 할 수 있다.\n",
        "print('안녕하세요 ' * 3) # 참고로 이렇게 문자열에 곱하기를 하면 같은 문자열을 반복한다."
      ],
      "metadata": {
        "colab": {
          "base_uri": "https://localhost:8080/"
        },
        "id": "wgRv0AiZfjJc",
        "outputId": "60f3eb6b-af49-4b11-b7ce-b74def664ad2"
      },
      "execution_count": null,
      "outputs": [
        {
          "output_type": "stream",
          "name": "stdout",
          "text": [
            "안녕하세요\n",
            "100200\n",
            "300.0\n",
            "안녕하세요 안녕하세요 안녕하세요 \n"
          ]
        }
      ]
    },
    {
      "cell_type": "markdown",
      "source": [
        "# 진수표현\n",
        "- 기본은 10진법.\n",
        "- 10진법을 2진법으로 : bin()\n",
        "- 10진법을 8진법으로 : oct()\n",
        "- 10진법을 16진법으로 : hex()\n",
        "\n",
        "## 다른 진법을 역으로 10진법으로 만들 수도 있다.\n",
        "- 2진법을 10진법으로 : 0b10001 = 17\n",
        "- 8진법을 10진법으로 : 0o21 = 17\n",
        "- 16진법을 10진법으로 : 0x11 = 17"
      ],
      "metadata": {
        "id": "gCbdx5iBcao2"
      }
    },
    {
      "cell_type": "code",
      "source": [
        "# 진법변환을 해보자.\n",
        "print('2진법을 10진법으로 : 0b10001 =')\n",
        "print(0b10001) # 2진법을 10진법으로\n",
        "print('8진법을 10진법으로 : 0o21 =')\n",
        "print(0o21) # 8진법을 10진법으로\n",
        "print('16진법을 10진법으로 : 0x11 =')\n",
        "print(0x11) # 16진법을 10진법으로"
      ],
      "metadata": {
        "colab": {
          "base_uri": "https://localhost:8080/"
        },
        "id": "GTwjfy_AdapH",
        "outputId": "7f9de317-5f50-4891-c606-cd075a7aa905"
      },
      "execution_count": null,
      "outputs": [
        {
          "output_type": "stream",
          "name": "stdout",
          "text": [
            "2진법을 10진법으로 : 0b10001 =\n",
            "17\n",
            "8진법을 10진법으로 : 0o21 =\n",
            "17\n",
            "16진법을 10진법으로 : 0x11 =\n",
            "17\n"
          ]
        }
      ]
    },
    {
      "cell_type": "code",
      "source": [
        "# 위의 진법 변환을 반대로도 해보자.\n",
        "print(bin(17)) # 10진법을 2진법으로\n",
        "print(oct(17)) # 10진법을 8진법으로\n",
        "print(hex(17)) # 10진법을 16진법으로"
      ],
      "metadata": {
        "colab": {
          "base_uri": "https://localhost:8080/"
        },
        "id": "aKLPHm9qeChn",
        "outputId": "0943c3b2-5265-4f58-8fb7-9ad6646f9b7a"
      },
      "execution_count": null,
      "outputs": [
        {
          "output_type": "stream",
          "name": "stdout",
          "text": [
            "0b10001\n",
            "0o21\n",
            "0x11\n"
          ]
        }
      ]
    },
    {
      "cell_type": "code",
      "source": [
        "# 비교연산자 연습\n",
        "print(1<2)\n",
        "print((1<2) and (2>5)) # 둘 다 True여야 결과가 True\n",
        "print((1<2) & (2>5)) # & 모양의 and도 똑같이 먹힌다.\n",
        "# 앞의 변수선언을 포함한 여러가지를 동시에 연습할 겸, 비교연산자에 위의 모든 사항들을 동원하여 연습해보자."
      ],
      "metadata": {
        "colab": {
          "base_uri": "https://localhost:8080/"
        },
        "id": "EhRqdQQOerbI",
        "outputId": "d386da44-6408-4b40-d159-f0236b1fbd49"
      },
      "execution_count": null,
      "outputs": [
        {
          "output_type": "stream",
          "name": "stdout",
          "text": [
            "True\n",
            "False\n",
            "False\n"
          ]
        }
      ]
    },
    {
      "cell_type": "markdown",
      "source": [
        "# 리스트\n",
        "- [1, 2, 3, 4, 5] 이런 형태의 값이 리스트."
      ],
      "metadata": {
        "id": "aEDi3I-Rj6Wk"
      }
    },
    {
      "cell_type": "code",
      "source": [
        "print(type([1, 2, 3, 4, 5])) # 타입이 리스트라고 나온다."
      ],
      "metadata": {
        "colab": {
          "base_uri": "https://localhost:8080/"
        },
        "id": "Q6YctA83j_2q",
        "outputId": "7e75de85-4383-4cbd-d0de-d286195025f8"
      },
      "execution_count": null,
      "outputs": [
        {
          "output_type": "stream",
          "name": "stdout",
          "text": [
            "<class 'list'>\n"
          ]
        }
      ]
    },
    {
      "cell_type": "markdown",
      "source": [
        "# 인덱스\n",
        "- 문자열이던 리스트던 순서대로 배열되는 값이 있을 때, 몇 번째인지 알려주는 것이 인덱스.\n",
        "- 인덱스는 0부터 시작.\n",
        "# 슬라이싱\n",
        "- 'python'[시작 인덱스:끝 인덱스+1] 이렇게 하면 원하는 끝 인덱스까지 python이라는 문자열을 잘라줌.\n",
        "- python[인덱스1:인덱스2] 이렇게 하면 변수 python에 해당되는 값에 대해서 해당 인덱스 만큼의 값을 잘라줌.\n",
        "- [:4] 이렇게 범위를 잡으면 처음부터 4번째 직전(그러니까 3번째) 인덱스 까지 잘라줌.\n",
        "- [4:] 이렇게 범위를 잡으면 4번 인덱스부터 끝까지 잘라줌.\n",
        "- 그러니까 슬라이싱은 그냥 대괄호로 범위를 잡아주면 끝이라는 것이네. 특별한 코드명이 따로 있는 것이 아니라.\n",
        "- 다시 말 해, 인덱스 값이 존재하는 모든 값을 해당 인덱스만큼 잘라준다.(문자열, 리스트, 배열 따위.)\n",
        "- 아래에 나오지만 숫자 자체를 자를 수는 없다. 생각 해보면, 숫자를 자르고자 할 때는 그냥 사칙연산을 이용하면 된다.\n",
        "- 문자열, 리스트, 그 외 파이썬 모든 자료형에 동일하게 적용."
      ],
      "metadata": {
        "id": "PQcWhi4okxpI"
      }
    },
    {
      "cell_type": "code",
      "source": [
        "print('apple'[:2]) # 이러면 ap까지만 출력한다.\n",
        "print(1234[:2]) # 숫자를 바로 넣는 것은 안된다.\n",
        "abc = 12345\n",
        "print('acb'[:2]) # 이것도 위와 마찬가지 이유로 오류가 남."
      ],
      "metadata": {
        "colab": {
          "base_uri": "https://localhost:8080/",
          "height": 328
        },
        "id": "Ie8D7Ydxl2E_",
        "outputId": "a8fa8952-ca7e-4f7b-b5a5-d1d3ae063c41"
      },
      "execution_count": null,
      "outputs": [
        {
          "output_type": "stream",
          "name": "stdout",
          "text": [
            "ap\n"
          ]
        },
        {
          "output_type": "stream",
          "name": "stderr",
          "text": [
            "<>:2: SyntaxWarning: 'int' object is not subscriptable; perhaps you missed a comma?\n",
            "<>:2: SyntaxWarning: 'int' object is not subscriptable; perhaps you missed a comma?\n",
            "<ipython-input-15-2d85a304e27c>:2: SyntaxWarning: 'int' object is not subscriptable; perhaps you missed a comma?\n",
            "  print(1234[:2]) # 숫자를 바로 넣는 것은 안된다.\n"
          ]
        },
        {
          "output_type": "error",
          "ename": "TypeError",
          "evalue": "'int' object is not subscriptable",
          "traceback": [
            "\u001b[0;31m---------------------------------------------------------------------------\u001b[0m",
            "\u001b[0;31mTypeError\u001b[0m                                 Traceback (most recent call last)",
            "\u001b[0;32m<ipython-input-15-2d85a304e27c>\u001b[0m in \u001b[0;36m<cell line: 2>\u001b[0;34m()\u001b[0m\n\u001b[1;32m      1\u001b[0m \u001b[0mprint\u001b[0m\u001b[0;34m(\u001b[0m\u001b[0;34m'apple'\u001b[0m\u001b[0;34m[\u001b[0m\u001b[0;34m:\u001b[0m\u001b[0;36m2\u001b[0m\u001b[0;34m]\u001b[0m\u001b[0;34m)\u001b[0m\u001b[0;34m\u001b[0m\u001b[0;34m\u001b[0m\u001b[0m\n\u001b[0;32m----> 2\u001b[0;31m \u001b[0mprint\u001b[0m\u001b[0;34m(\u001b[0m\u001b[0;36m1234\u001b[0m\u001b[0;34m[\u001b[0m\u001b[0;34m:\u001b[0m\u001b[0;36m2\u001b[0m\u001b[0;34m]\u001b[0m\u001b[0;34m)\u001b[0m \u001b[0;31m# 숫자를 바로 넣는 것은 안된다.\u001b[0m\u001b[0;34m\u001b[0m\u001b[0;34m\u001b[0m\u001b[0m\n\u001b[0m\u001b[1;32m      3\u001b[0m \u001b[0mabc\u001b[0m \u001b[0;34m=\u001b[0m \u001b[0;36m12345\u001b[0m\u001b[0;34m\u001b[0m\u001b[0;34m\u001b[0m\u001b[0m\n\u001b[1;32m      4\u001b[0m \u001b[0mprint\u001b[0m\u001b[0;34m(\u001b[0m\u001b[0;34m'acb'\u001b[0m\u001b[0;34m[\u001b[0m\u001b[0;34m:\u001b[0m\u001b[0;36m2\u001b[0m\u001b[0;34m]\u001b[0m\u001b[0;34m)\u001b[0m\u001b[0;34m\u001b[0m\u001b[0;34m\u001b[0m\u001b[0m\n",
            "\u001b[0;31mTypeError\u001b[0m: 'int' object is not subscriptable"
          ]
        }
      ]
    },
    {
      "cell_type": "code",
      "source": [
        "abc = [0, 1, 2, 3, 4, 5, 6, 7, 8, 9, 10]\n",
        "print(abc[::2]) # step이라 하는 기술. 매 2번째 원소를 출력\n",
        "print(abc[::3]) # 매 3번째 원소를 출력"
      ],
      "metadata": {
        "colab": {
          "base_uri": "https://localhost:8080/"
        },
        "id": "qqvNtU3BjOlR",
        "outputId": "b034affd-63d6-4ad2-c4cf-64bdcc6ed12f"
      },
      "execution_count": null,
      "outputs": [
        {
          "output_type": "stream",
          "name": "stdout",
          "text": [
            "[0, 2, 4, 6, 8, 10]\n",
            "[0, 3, 6, 9]\n"
          ]
        }
      ]
    },
    {
      "cell_type": "markdown",
      "source": [
        "# 인덱싱\n",
        "- 슬라이싱과 같은 개념으로 인덱싱을 할 수 있다.\n",
        "- 슬라이싱과 같은 개념이라 함은, 그저 대괄호 안에 인덱스 값을 넣는 것으로 해당 인덱스 값을 뽑을 수 있다는 것."
      ],
      "metadata": {
        "id": "dWg8kbe7R3dK"
      }
    },
    {
      "cell_type": "code",
      "source": [
        "# 인덱싱을 해보자.\n",
        "student1 = [80, 90, 95, 100] # 리스트\n",
        "print(student1[0]) # 0번 인덱싱\n",
        "print(student1[1]) # 1번 인덱싱\n",
        "print(student1[2]) # 2번 인덱싱\n",
        "print(student1[3]) # 3번 인덱싱"
      ],
      "metadata": {
        "colab": {
          "base_uri": "https://localhost:8080/"
        },
        "id": "JpS1EIUWR7xa",
        "outputId": "35e4d316-5b08-46d5-a984-07201e421d3b"
      },
      "execution_count": null,
      "outputs": [
        {
          "output_type": "stream",
          "name": "stdout",
          "text": [
            "80\n",
            "90\n",
            "95\n",
            "100\n"
          ]
        }
      ]
    },
    {
      "cell_type": "markdown",
      "source": [
        "# 리스트 값의 업데이트\n",
        "- 리스트의 특정 인덱싱 값을 뽑아서 수정 할 수 있다.\n",
        "- 리스트에 새로운 원소를 추가 할 수 있다. : 더하기, 혹은 .append()\n",
        "- 리스트에서 특정 원소를 뺄 수 있다. : 뺄셈?(이건 안된다.), 혹은 remove(빼려는 원소)"
      ],
      "metadata": {
        "id": "ZRmjb_8fkjv7"
      }
    },
    {
      "cell_type": "code",
      "source": [
        "# 앞서 사용했던 리스트 student1을 수정해보자.\n",
        "student1[0] = 100 # 먼저 수정하고자 하는 원소를 추출하고, 이것의 값을 새로 정의한다.\n",
        "print(student1) # 0번째 인덱스 값이 수정된 것을 확인 할 수 있다."
      ],
      "metadata": {
        "colab": {
          "base_uri": "https://localhost:8080/"
        },
        "id": "qI2AwjbWkuJr",
        "outputId": "447cbc54-9638-4231-95d3-3e4fc031dcb8"
      },
      "execution_count": null,
      "outputs": [
        {
          "output_type": "stream",
          "name": "stdout",
          "text": [
            "[100, 90, 95, 100]\n"
          ]
        }
      ]
    },
    {
      "cell_type": "code",
      "source": [
        "# 리스트에 덧셈, 곱셈 연산자 적용이 가능하다.\n",
        "myFriends = ['Michael', 'Sebastian', 'Kevin', 'Tina'] # 문자도 이렇게 리스트로 만들 수 있다.\n",
        "newFriends = ['Hanna']\n",
        "\n",
        "myFriends2 = myFriends + newFriends # 이렇게 덧셈을 적용 하면 뒤에 원소가 추가된다.\n",
        "print(myFriends2)\n",
        "myFriends2.append('Tomas') # append로 새 문자 추가.\n",
        "# 주의 : append()를 사용 할 때, 결과물 list는 새로운 리스트가 아니라, 기존의 리스트다.\n",
        "# 그러니까 myFriends3 = myFriends2.append('Tomas')이 아니라, myFriends2 = myFriends2.append('Tomas')로 여전히 myFriends2라는 의미. 이거 간과하면 바로 오류 뜬다.\n",
        "# 위와 같은 주의사항은 .append() 메소드를 이용하여 나온 결과가 기존의 리스트에 저장되는 형태로 처리가 되기 때문.\n",
        "# 그럼에도 조금 의아한 것은 사실. myFriends3 = myFriends2.append('Tomas') 이렇게 myFriend3을 새로 정의했는데도 정의 자체를 무시하는 결과니까.\n",
        "# 그런데 이거 바로 앞에서 했던 리스트값 수정과 같은 원리라고 생각하면 받아들일 수는 있다.\n",
        "# 이에 대해 정확히 말하자면, student1[0] = 100 이렇게 했을 때, 수정의 결과가 새로 정의될 수 있는게 아니라 그냥 student1에 바로 저장됨. append()와 remove()도 이렇게 받아들여야 할 듯.\n",
        "# 이렇게 열심히 정리해두긴 했는데, 수업때 정리해놓은 것을 보니 파이썬의 버그 혹은 한계 정도로 생각하면 된다 함...\n",
        "print(myFriends2)"
      ],
      "metadata": {
        "colab": {
          "base_uri": "https://localhost:8080/"
        },
        "id": "nAUlXKuPlm9E",
        "outputId": "8e549ef3-b3a1-464e-d540-7287b2c46af7"
      },
      "execution_count": null,
      "outputs": [
        {
          "output_type": "stream",
          "name": "stdout",
          "text": [
            "['Michael', 'Sebastian', 'Kevin', 'Tina', 'Hanna']\n",
            "['Michael', 'Sebastian', 'Kevin', 'Tina', 'Hanna', 'Tomas']\n"
          ]
        }
      ]
    },
    {
      "cell_type": "code",
      "source": [
        "# 원소 지우기도 해보자.\n",
        "myFriends2 - ['Tomas'] # 안된다."
      ],
      "metadata": {
        "colab": {
          "base_uri": "https://localhost:8080/",
          "height": 200
        },
        "id": "235KUOIz1hrB",
        "outputId": "de8b183c-6ade-4b41-ce69-e9a0f41302d5"
      },
      "execution_count": null,
      "outputs": [
        {
          "output_type": "error",
          "ename": "TypeError",
          "evalue": "unsupported operand type(s) for -: 'list' and 'list'",
          "traceback": [
            "\u001b[0;31m---------------------------------------------------------------------------\u001b[0m",
            "\u001b[0;31mTypeError\u001b[0m                                 Traceback (most recent call last)",
            "\u001b[0;32m<ipython-input-54-41cffdc9ed45>\u001b[0m in \u001b[0;36m<cell line: 2>\u001b[0;34m()\u001b[0m\n\u001b[1;32m      1\u001b[0m \u001b[0;31m# 원소 지우기도 해보자.\u001b[0m\u001b[0;34m\u001b[0m\u001b[0;34m\u001b[0m\u001b[0m\n\u001b[0;32m----> 2\u001b[0;31m \u001b[0mmyFriends2\u001b[0m \u001b[0;34m-\u001b[0m \u001b[0;34m[\u001b[0m\u001b[0;34m'Tomas'\u001b[0m\u001b[0;34m]\u001b[0m \u001b[0;31m# 안된다.\u001b[0m\u001b[0;34m\u001b[0m\u001b[0;34m\u001b[0m\u001b[0m\n\u001b[0m",
            "\u001b[0;31mTypeError\u001b[0m: unsupported operand type(s) for -: 'list' and 'list'"
          ]
        }
      ]
    },
    {
      "cell_type": "code",
      "source": [
        "# 뺄셈은 안되는 것 같으니, 메소드를 이용하여 원소를 빼보자.\n",
        "myFriends2.remove('Tomas') # 이건 된다.\n",
        "print(myFriends2)"
      ],
      "metadata": {
        "colab": {
          "base_uri": "https://localhost:8080/"
        },
        "id": "hTYVk86p1zhU",
        "outputId": "848a2e4d-16d7-48d5-c5a3-c50ff61db704"
      },
      "execution_count": null,
      "outputs": [
        {
          "output_type": "stream",
          "name": "stdout",
          "text": [
            "['Michael', 'Sebastian', 'Kevin', 'Tina', 'Hanna']\n"
          ]
        }
      ]
    },
    {
      "cell_type": "code",
      "source": [
        "myNumbers = [1]\n",
        "print(myNumbers * 3) # 이건 리스트에 곱하기 3을 한 것임. 숫자에 곱하기 3이 아님. 왜냐? myNumbers가 이미 리스트 값 취급이니까. [1] + [1] + [1]이라고 생각하면 편함.\n",
        "print(newFriends * 3) # 같은 원리로 문자열 리스트에도 곱셈이 적용된다."
      ],
      "metadata": {
        "colab": {
          "base_uri": "https://localhost:8080/"
        },
        "id": "rNNZBGiqmAqR",
        "outputId": "32bdad61-5eba-4729-bdca-29f1c8b33288"
      },
      "execution_count": null,
      "outputs": [
        {
          "output_type": "stream",
          "name": "stdout",
          "text": [
            "[1, 1, 1]\n",
            "['Hanna', 'Hanna', 'Hanna']\n"
          ]
        }
      ]
    },
    {
      "cell_type": "code",
      "source": [
        "# myFriends에서 Kevin의 K 추출하기\n",
        "print(myFriends[2]) # 일단 Kevin을 추출\n",
        "print(myFriends[2][0]) # Kevin의 K는 0번째 인덱스니까, 여기에 또 슬라이싱[0]을 적용. 다시 말 해, 리스트 2번 인덱스 값의 원소에서 0번 인덱스 값을 뽑는 것이다.\n",
        "# 이것으로 대괄호는 기본적으로 인덱싱 및 슬라이싱 기능을 갖고 있음을 알 수 있다.\n",
        "\n",
        "print(myFriends[1][1:4]) # 이렇게 하면 리스트의 1번 값의 1~3번 값을 뽑아낸다. 결과는 eba가 뽑힘."
      ],
      "metadata": {
        "colab": {
          "base_uri": "https://localhost:8080/"
        },
        "id": "YJqG_duhmSLY",
        "outputId": "d38a9d97-c649-4fda-c3d3-d47875780dab"
      },
      "execution_count": null,
      "outputs": [
        {
          "output_type": "stream",
          "name": "stdout",
          "text": [
            "Kevin\n",
            "K\n",
            "eba\n"
          ]
        }
      ]
    },
    {
      "cell_type": "code",
      "source": [
        "mixed = [0, 2, 3, 14, 'python', True, myFriends2] # 이렇게 숫자, 문자열, 불리언, 리스트를 또 리스트로 만들 수 있으며, 값은 섞여있어도 리스트가 만들어진다.\n",
        "mixed[-1] # 이렇게 하면 뒤에서부터 인덱싱을 한다. 뒤에서부터 앞으로 -1 = myFriends2, -2 = True, -3 = python 이렇게"
      ],
      "metadata": {
        "colab": {
          "base_uri": "https://localhost:8080/"
        },
        "id": "k11jA4HxpSWR",
        "outputId": "abf63216-ca33-4880-e73a-8f4369102bc6"
      },
      "execution_count": null,
      "outputs": [
        {
          "output_type": "execute_result",
          "data": {
            "text/plain": [
              "['Michael', 'Sebastian', 'Kevin', 'Tina', 'Hanna']"
            ]
          },
          "metadata": {},
          "execution_count": 30
        }
      ]
    },
    {
      "cell_type": "code",
      "source": [
        "mixed[-1][-1][0]"
      ],
      "metadata": {
        "colab": {
          "base_uri": "https://localhost:8080/",
          "height": 35
        },
        "id": "P-5pKWlppj13",
        "outputId": "58d35d79-c0ed-467f-a4ab-d0e1b8f27b4a"
      },
      "execution_count": null,
      "outputs": [
        {
          "output_type": "execute_result",
          "data": {
            "text/plain": [
              "'H'"
            ],
            "application/vnd.google.colaboratory.intrinsic+json": {
              "type": "string"
            }
          },
          "metadata": {},
          "execution_count": 15
        }
      ]
    },
    {
      "cell_type": "markdown",
      "source": [
        "- 리스트 안에 특정 원소가 존재하는지 찾을 수도 있다. : '문자열' in 리스트 이런 형태로 가능"
      ],
      "metadata": {
        "id": "wevXwnmHxznv"
      }
    },
    {
      "cell_type": "code",
      "source": [
        "print('Hanna' in myFriends2) # 결과는 불리언으로 출력.\n",
        "print(myFriends2 in mixed) # 리스트 안에 들어있는 리스트도 찾아낼 수 있다. 리스트도 리스트의 원소가 될 수 있기 때문."
      ],
      "metadata": {
        "colab": {
          "base_uri": "https://localhost:8080/"
        },
        "id": "I-5SoOneyFJI",
        "outputId": "4e237889-6fd7-47f6-e48e-51e0804f8df6"
      },
      "execution_count": null,
      "outputs": [
        {
          "output_type": "stream",
          "name": "stdout",
          "text": [
            "True\n",
            "True\n"
          ]
        }
      ]
    },
    {
      "cell_type": "markdown",
      "source": [
        "# 튜플\n",
        "- 튜플은 리스트와 유사함.(인덱싱, 슬라이싱이 동일하게 가능. 중복 원소도 허용)\n",
        "- 하지만 원소의 수정 및 삭제, 추가가 불가능하다는 점에서 다름.\n",
        "## 튜플의 기본 모양\n",
        "- 튜플 = (값1, 값2, 값3, ...)\n",
        "- 리스트 = [값1, 값2, 값3, ...]"
      ],
      "metadata": {
        "id": "1ZHmaDr639pL"
      }
    },
    {
      "cell_type": "code",
      "source": [
        "# 튜플의 인덱싱, 슬라이싱을 해보자.\n",
        "Tu1 = (1, 2, 3, 4, 5, 6, 7, 8, 9, 9, 9) # 중복원소 허용\n",
        "print(Tu1[0]) # 인덱싱\n",
        "print(Tu1[2:6]) # 슬라이싱\n",
        "print(Tu1[::2]) # 매 2번째 월소 뽑기(슬라이싱의 일종)"
      ],
      "metadata": {
        "colab": {
          "base_uri": "https://localhost:8080/"
        },
        "id": "giJ2mkwNZW6K",
        "outputId": "eb4ec033-2829-4c94-aeee-4aa18f60a8b6"
      },
      "execution_count": null,
      "outputs": [
        {
          "output_type": "stream",
          "name": "stdout",
          "text": [
            "1\n",
            "(3, 4, 5, 6)\n",
            "(1, 3, 5, 7, 9, 9)\n"
          ]
        }
      ]
    },
    {
      "cell_type": "code",
      "source": [
        "# 먼저 비교를 위해 리스트에 수정 및 삭제를 시도해본다.\n",
        "List1 = ['Michael', 'Sebastian', 'Kevin', 'Tina']\n",
        "print(List1)\n",
        "List2 = List1 + ['Hanna'] # 원소 추가\n",
        "print(List2)\n",
        "List2.append('Tomas') # 원소 추가. 그런데 .append()는 List3 = List2.append('Tomas')으로 정의하고 List3을 출력하면 결과가 None이 나온다. 분명 List3을 새로 정의했는데도...\n",
        "# 이건 그냥 조심하는 수 밖에...\n",
        "print(List2)\n",
        "List2.remove('Tomas')\n",
        "print(List2) # append()와 같은 원리로 이것도 List2를 결과로 출력해야 결과가 나온다."
      ],
      "metadata": {
        "colab": {
          "base_uri": "https://localhost:8080/"
        },
        "id": "4Dto55E0a_qG",
        "outputId": "17ee6c62-bccc-44ba-8a8a-2fc2a03b6613"
      },
      "execution_count": null,
      "outputs": [
        {
          "output_type": "stream",
          "name": "stdout",
          "text": [
            "['Michael', 'Sebastian', 'Kevin', 'Tina']\n",
            "['Michael', 'Sebastian', 'Kevin', 'Tina', 'Hanna']\n",
            "['Michael', 'Sebastian', 'Kevin', 'Tina', 'Hanna', 'Tomas']\n",
            "['Michael', 'Sebastian', 'Kevin', 'Tina', 'Hanna']\n"
          ]
        }
      ]
    },
    {
      "cell_type": "code",
      "source": [
        "# 그럼 이번에는 튜플의 원소 수정 및 삭제를 시도해보자.\n",
        "print(Tu1)\n",
        "Tu2 = Tu1 + (1) # 합 과정에 오류가 있다고 뜬다.\n",
        "print(Tu2)"
      ],
      "metadata": {
        "colab": {
          "base_uri": "https://localhost:8080/",
          "height": 255
        },
        "id": "8csI7aUadcpx",
        "outputId": "eb004f8f-9bba-4b8c-d88f-64f79cc7793a"
      },
      "execution_count": null,
      "outputs": [
        {
          "output_type": "stream",
          "name": "stdout",
          "text": [
            "(1, 2, 3, 4, 5, 6, 7, 8, 9, 9, 9)\n"
          ]
        },
        {
          "output_type": "error",
          "ename": "TypeError",
          "evalue": "can only concatenate tuple (not \"int\") to tuple",
          "traceback": [
            "\u001b[0;31m---------------------------------------------------------------------------\u001b[0m",
            "\u001b[0;31mTypeError\u001b[0m                                 Traceback (most recent call last)",
            "\u001b[0;32m<ipython-input-20-a74e50780f82>\u001b[0m in \u001b[0;36m<cell line: 3>\u001b[0;34m()\u001b[0m\n\u001b[1;32m      1\u001b[0m \u001b[0;31m# 그럼 이번에는 튜플의 원소 수정 및 삭제를 시도해보자.\u001b[0m\u001b[0;34m\u001b[0m\u001b[0;34m\u001b[0m\u001b[0m\n\u001b[1;32m      2\u001b[0m \u001b[0mprint\u001b[0m\u001b[0;34m(\u001b[0m\u001b[0mTu1\u001b[0m\u001b[0;34m)\u001b[0m\u001b[0;34m\u001b[0m\u001b[0;34m\u001b[0m\u001b[0m\n\u001b[0;32m----> 3\u001b[0;31m \u001b[0mTu2\u001b[0m \u001b[0;34m=\u001b[0m \u001b[0mTu1\u001b[0m \u001b[0;34m+\u001b[0m \u001b[0;34m(\u001b[0m\u001b[0;36m1\u001b[0m\u001b[0;34m)\u001b[0m \u001b[0;31m# 합 과정에 오류가 있다고 뜬다.\u001b[0m\u001b[0;34m\u001b[0m\u001b[0;34m\u001b[0m\u001b[0m\n\u001b[0m\u001b[1;32m      4\u001b[0m \u001b[0mprint\u001b[0m\u001b[0;34m(\u001b[0m\u001b[0mTu2\u001b[0m\u001b[0;34m)\u001b[0m\u001b[0;34m\u001b[0m\u001b[0;34m\u001b[0m\u001b[0m\n",
            "\u001b[0;31mTypeError\u001b[0m: can only concatenate tuple (not \"int\") to tuple"
          ]
        }
      ]
    },
    {
      "cell_type": "code",
      "source": [
        "print(Tu1)\n",
        "print(Tu1.append(1)) # 위와 마찬가지로 여기에 오류가 뜬다."
      ],
      "metadata": {
        "colab": {
          "base_uri": "https://localhost:8080/",
          "height": 219
        },
        "id": "95j3-wXAeCoo",
        "outputId": "62700daa-f002-4144-e1f6-eefb0eaa5bac"
      },
      "execution_count": null,
      "outputs": [
        {
          "output_type": "stream",
          "name": "stdout",
          "text": [
            "(1, 2, 3, 4, 5, 6, 7, 8, 9, 9, 9)\n"
          ]
        },
        {
          "output_type": "error",
          "ename": "AttributeError",
          "evalue": "'tuple' object has no attribute 'append'",
          "traceback": [
            "\u001b[0;31m---------------------------------------------------------------------------\u001b[0m",
            "\u001b[0;31mAttributeError\u001b[0m                            Traceback (most recent call last)",
            "\u001b[0;32m<ipython-input-22-37481b2bc5a6>\u001b[0m in \u001b[0;36m<cell line: 2>\u001b[0;34m()\u001b[0m\n\u001b[1;32m      1\u001b[0m \u001b[0mprint\u001b[0m\u001b[0;34m(\u001b[0m\u001b[0mTu1\u001b[0m\u001b[0;34m)\u001b[0m\u001b[0;34m\u001b[0m\u001b[0;34m\u001b[0m\u001b[0m\n\u001b[0;32m----> 2\u001b[0;31m \u001b[0mprint\u001b[0m\u001b[0;34m(\u001b[0m\u001b[0mTu1\u001b[0m\u001b[0;34m.\u001b[0m\u001b[0mappend\u001b[0m\u001b[0;34m(\u001b[0m\u001b[0;36m1\u001b[0m\u001b[0;34m)\u001b[0m\u001b[0;34m)\u001b[0m \u001b[0;31m# 위와 마찬가지로 여기에 오류가 뜬다.\u001b[0m\u001b[0;34m\u001b[0m\u001b[0;34m\u001b[0m\u001b[0m\n\u001b[0m",
            "\u001b[0;31mAttributeError\u001b[0m: 'tuple' object has no attribute 'append'"
          ]
        }
      ]
    },
    {
      "cell_type": "code",
      "source": [
        "# 이번에는 튜플 수정시도\n",
        "print(Tu1[3]) # 먼저 튜플 인덱싱.\n",
        "Tu1[3] = 1 # 리스트였다면 이 과정의 결과가 그대로 Tu1에 저장됨. 하지만 튜플은 여기서 오류가 난다.\n",
        "print(Tu1)"
      ],
      "metadata": {
        "colab": {
          "base_uri": "https://localhost:8080/",
          "height": 255
        },
        "id": "JE4BpmGAePCT",
        "outputId": "8b9a2e99-6aa4-494a-e097-0a842129373a"
      },
      "execution_count": null,
      "outputs": [
        {
          "output_type": "stream",
          "name": "stdout",
          "text": [
            "4\n"
          ]
        },
        {
          "output_type": "error",
          "ename": "TypeError",
          "evalue": "'tuple' object does not support item assignment",
          "traceback": [
            "\u001b[0;31m---------------------------------------------------------------------------\u001b[0m",
            "\u001b[0;31mTypeError\u001b[0m                                 Traceback (most recent call last)",
            "\u001b[0;32m<ipython-input-25-fb0631c969a9>\u001b[0m in \u001b[0;36m<cell line: 3>\u001b[0;34m()\u001b[0m\n\u001b[1;32m      1\u001b[0m \u001b[0;31m# 이번에는 튜플 수정시도\u001b[0m\u001b[0;34m\u001b[0m\u001b[0;34m\u001b[0m\u001b[0m\n\u001b[1;32m      2\u001b[0m \u001b[0mprint\u001b[0m\u001b[0;34m(\u001b[0m\u001b[0mTu1\u001b[0m\u001b[0;34m[\u001b[0m\u001b[0;36m3\u001b[0m\u001b[0;34m]\u001b[0m\u001b[0;34m)\u001b[0m \u001b[0;31m# 먼저 튜플 인덱싱.\u001b[0m\u001b[0;34m\u001b[0m\u001b[0;34m\u001b[0m\u001b[0m\n\u001b[0;32m----> 3\u001b[0;31m \u001b[0mTu1\u001b[0m\u001b[0;34m[\u001b[0m\u001b[0;36m3\u001b[0m\u001b[0;34m]\u001b[0m \u001b[0;34m=\u001b[0m \u001b[0;36m1\u001b[0m \u001b[0;31m# 리스트였다면 이 과정의 결과가 그대로 Tu1에 저장됨. 하지만 튜플은 여기서 오류가 난다.\u001b[0m\u001b[0;34m\u001b[0m\u001b[0;34m\u001b[0m\u001b[0m\n\u001b[0m\u001b[1;32m      4\u001b[0m \u001b[0mprint\u001b[0m\u001b[0;34m(\u001b[0m\u001b[0mTu1\u001b[0m\u001b[0;34m)\u001b[0m\u001b[0;34m\u001b[0m\u001b[0;34m\u001b[0m\u001b[0m\n",
            "\u001b[0;31mTypeError\u001b[0m: 'tuple' object does not support item assignment"
          ]
        }
      ]
    },
    {
      "cell_type": "markdown",
      "source": [
        "# 세트\n",
        "- 중괄호를 이용하여 값을 정의한다 : 세트1 = {값1, 값2, 값3, ...}\n",
        "- 세트의 특징은 중복원소를 허용하지 않으며, 순서를 보장하지 않는다. 순서가 보장되지 않기 때문에 인덱싱 불가.\n",
        "- 세트는 교집합 합집합을 얻을 때 유용하다.\n",
        "- 교집합, 합집합, 차집합 등등에 대해 별도의 메소드가 존재한다.\n",
        "- 세트는 그냥 이런게 있구나 하고만 알아두자."
      ],
      "metadata": {
        "id": "j4mMV3gpgHVf"
      }
    },
    {
      "cell_type": "markdown",
      "source": [
        "# 딕셔너리\n",
        "- 세트처럼 중괄호로 정의된다.\n",
        "- 딕셔너리의 원소는 항상 key와 value의 조합으로 이루어진다. 사전을 보면 단어와 뜻으로 정보가 구성된 것과 같다고 보면 됨.\n",
        "- 딕셔너리 = {key1:value1, key2:value2, ...}\n",
        "(예 : person = {'이름':'Amelia', '나이':7, '키':120, '몸무게':23})\n",
        "- key는 중복을 허용하지 않음."
      ],
      "metadata": {
        "id": "2iXvfzPFhAv-"
      }
    },
    {
      "cell_type": "code",
      "source": [
        "# 딕셔너리의 데이터에 접근해보자.\n",
        "Ameli = {'이름':'Amelia', '나이':7, '키':120, '몸무게':23}\n",
        "print(Ameli[0]) # 딕셔너리는 세트와 마찬가지로 인덱싱이 안된다."
      ],
      "metadata": {
        "colab": {
          "base_uri": "https://localhost:8080/",
          "height": 221
        },
        "id": "Wz5oCSHngRg7",
        "outputId": "853043e3-b642-4402-bc9a-6de5e155d0a8"
      },
      "execution_count": null,
      "outputs": [
        {
          "output_type": "error",
          "ename": "KeyError",
          "evalue": "0",
          "traceback": [
            "\u001b[0;31m---------------------------------------------------------------------------\u001b[0m",
            "\u001b[0;31mKeyError\u001b[0m                                  Traceback (most recent call last)",
            "\u001b[0;32m<ipython-input-2-ea0191de6edc>\u001b[0m in \u001b[0;36m<cell line: 3>\u001b[0;34m()\u001b[0m\n\u001b[1;32m      1\u001b[0m \u001b[0;31m# 딕셔너리의 데이터에 접근해보자.\u001b[0m\u001b[0;34m\u001b[0m\u001b[0;34m\u001b[0m\u001b[0m\n\u001b[1;32m      2\u001b[0m \u001b[0mAmeli\u001b[0m \u001b[0;34m=\u001b[0m \u001b[0;34m{\u001b[0m\u001b[0;34m'이름'\u001b[0m\u001b[0;34m:\u001b[0m\u001b[0;34m'Amelia'\u001b[0m\u001b[0;34m,\u001b[0m \u001b[0;34m'나이'\u001b[0m\u001b[0;34m:\u001b[0m\u001b[0;36m7\u001b[0m\u001b[0;34m,\u001b[0m \u001b[0;34m'키'\u001b[0m\u001b[0;34m:\u001b[0m\u001b[0;36m120\u001b[0m\u001b[0;34m,\u001b[0m \u001b[0;34m'몸무게'\u001b[0m\u001b[0;34m:\u001b[0m\u001b[0;36m23\u001b[0m\u001b[0;34m}\u001b[0m\u001b[0;34m\u001b[0m\u001b[0;34m\u001b[0m\u001b[0m\n\u001b[0;32m----> 3\u001b[0;31m \u001b[0mprint\u001b[0m\u001b[0;34m(\u001b[0m\u001b[0mAmeli\u001b[0m\u001b[0;34m[\u001b[0m\u001b[0;36m0\u001b[0m\u001b[0;34m]\u001b[0m\u001b[0;34m)\u001b[0m \u001b[0;31m# 딕셔너리는 세트와 마찬가지로 인덱싱이 안된다.\u001b[0m\u001b[0;34m\u001b[0m\u001b[0;34m\u001b[0m\u001b[0m\n\u001b[0m",
            "\u001b[0;31mKeyError\u001b[0m: 0"
          ]
        }
      ]
    },
    {
      "cell_type": "code",
      "source": [
        "# 딕셔너리의 원소를 뽑을 때는 인덱싱 대신 key값을 이용하여 원소를 얻을 수 있다.\n",
        "print(Ameli['이름'])\n",
        "print(Ameli['나이'])"
      ],
      "metadata": {
        "colab": {
          "base_uri": "https://localhost:8080/"
        },
        "id": "LMJpAjlrihAT",
        "outputId": "e956be20-1741-4f70-98f0-fcc75c0a484b"
      },
      "execution_count": null,
      "outputs": [
        {
          "output_type": "stream",
          "name": "stdout",
          "text": [
            "Amelia\n",
            "7\n"
          ]
        }
      ]
    },
    {
      "cell_type": "code",
      "source": [
        "# 딕셔너리에 새로운 원소 추가하기 : 리스트의 원소 수정과 같은 방법으로 원소 추가가 된다.\n",
        "print(Ameli['최종학력']) # key값이 없으면 이렇게 에러가 발생"
      ],
      "metadata": {
        "colab": {
          "base_uri": "https://localhost:8080/",
          "height": 203
        },
        "id": "cpf7QI-8i9-P",
        "outputId": "b41df3e2-eb00-4a95-d05e-0d3a904a47a2"
      },
      "execution_count": null,
      "outputs": [
        {
          "output_type": "error",
          "ename": "KeyError",
          "evalue": "'최종학력'",
          "traceback": [
            "\u001b[0;31m---------------------------------------------------------------------------\u001b[0m",
            "\u001b[0;31mKeyError\u001b[0m                                  Traceback (most recent call last)",
            "\u001b[0;32m<ipython-input-4-b9d5065c303d>\u001b[0m in \u001b[0;36m<cell line: 2>\u001b[0;34m()\u001b[0m\n\u001b[1;32m      1\u001b[0m \u001b[0;31m# 딕셔너리에 새로운 원소 추가하기 : 리스트의 원소 수정과 같은 방법으로 원소 추가가 된다.\u001b[0m\u001b[0;34m\u001b[0m\u001b[0;34m\u001b[0m\u001b[0m\n\u001b[0;32m----> 2\u001b[0;31m \u001b[0mprint\u001b[0m\u001b[0;34m(\u001b[0m\u001b[0mAmeli\u001b[0m\u001b[0;34m[\u001b[0m\u001b[0;34m'최종학력'\u001b[0m\u001b[0;34m]\u001b[0m\u001b[0;34m)\u001b[0m \u001b[0;31m# key값이 없으면 이렇게 에러가 발생\u001b[0m\u001b[0;34m\u001b[0m\u001b[0;34m\u001b[0m\u001b[0m\n\u001b[0m",
            "\u001b[0;31mKeyError\u001b[0m: '최종학력'"
          ]
        }
      ]
    },
    {
      "cell_type": "code",
      "source": [
        "print(Ameli.get('별명')) # key는 추가할 수 있는데, 그에 해당하는 value가 없음을 알 수 있다.\n",
        "Ameli['최종학력']='유치원' # .get 메소드 없이도 이렇게 바로 원소 추가가 가능. 그 모양은 리스트의 원소 수정 방법과 동일하다.\n",
        "print(Ameli)\n",
        "Ameli['키'] = 130 # 딕셔너리는 이렇게 원소 추가 방법으로 value 수정까지 할 수 있다.\n",
        "print(Ameli)"
      ],
      "metadata": {
        "colab": {
          "base_uri": "https://localhost:8080/"
        },
        "id": "vBD4cJMUjdTi",
        "outputId": "607b7f1b-12cd-4bda-c776-42cb9838d375"
      },
      "execution_count": null,
      "outputs": [
        {
          "output_type": "stream",
          "name": "stdout",
          "text": [
            "None\n",
            "{'이름': 'Amelia', '나이': 7, '키': 120, '몸무게': 23, '최종학력': '유치원'}\n",
            "{'이름': 'Amelia', '나이': 7, '키': 130, '몸무게': 23, '최종학력': '유치원'}\n"
          ]
        }
      ]
    },
    {
      "cell_type": "markdown",
      "source": [
        "## 추가적인 딕셔너리 메소드(기초문법231229 참조)\n",
        "- .keys() : 딕셔너리의 key값을 보여준다.\n",
        "- .values() : 딕셔너리의 value값을 보여준다.\n",
        "- .update() : 딕셔너리의 원소 추가는 .append()가 아니라 이걸 사용한다. 물론 앞서 했던 방법으로 새 원소를 정의하는 방법으로 원소 추가를 할 수도 있다.\n",
        "- .clear() : 빈 딕셔너리 생성"
      ],
      "metadata": {
        "id": "U6ipQx4BpKPe"
      }
    },
    {
      "cell_type": "code",
      "source": [
        "country_capital = {\n",
        "    \"대한민국\" : \"서울\",\n",
        "    \"프랑스\" : \"파리\",\n",
        "    \"미국\" : \"워싱턴\",\n",
        "    \"영국\" : \"런던\"\n",
        "}\n",
        "print(country_capital)\n",
        "print(country_capital.keys())\n",
        "print(type(country_capital)) # .key 메소드를 적용한 후에도 결과물은 여전히 딕셔너리임을 알 수 있다."
      ],
      "metadata": {
        "colab": {
          "base_uri": "https://localhost:8080/"
        },
        "id": "3iIXjLW4dvoQ",
        "outputId": "76efaf16-6d09-47a6-9a00-f90bc89ca79d"
      },
      "execution_count": null,
      "outputs": [
        {
          "output_type": "stream",
          "name": "stdout",
          "text": [
            "{'대한민국': '서울', '프랑스': '파리', '미국': '워싱턴', '영국': '런던'}\n",
            "dict_keys(['대한민국', '프랑스', '미국', '영국'])\n",
            "<class 'dict'>\n"
          ]
        }
      ]
    },
    {
      "cell_type": "code",
      "source": [
        "country_capital.keys().append('독일') # 오류가 난다. 딕셔너리에는 리스트에서 사용되는 append 사용 불가."
      ],
      "metadata": {
        "colab": {
          "base_uri": "https://localhost:8080/",
          "height": 184
        },
        "id": "lt1aLDlFeOiA",
        "outputId": "bf330e1c-4c7b-4f82-e220-e91c85a12c44"
      },
      "execution_count": null,
      "outputs": [
        {
          "output_type": "error",
          "ename": "AttributeError",
          "evalue": "'dict_keys' object has no attribute 'append'",
          "traceback": [
            "\u001b[0;31m---------------------------------------------------------------------------\u001b[0m",
            "\u001b[0;31mAttributeError\u001b[0m                            Traceback (most recent call last)",
            "\u001b[0;32m<ipython-input-9-15542dd9af73>\u001b[0m in \u001b[0;36m<cell line: 1>\u001b[0;34m()\u001b[0m\n\u001b[0;32m----> 1\u001b[0;31m \u001b[0mcountry_capital\u001b[0m\u001b[0;34m.\u001b[0m\u001b[0mkeys\u001b[0m\u001b[0;34m(\u001b[0m\u001b[0;34m)\u001b[0m\u001b[0;34m.\u001b[0m\u001b[0mappend\u001b[0m\u001b[0;34m(\u001b[0m\u001b[0;34m'독일'\u001b[0m\u001b[0;34m)\u001b[0m\u001b[0;34m\u001b[0m\u001b[0;34m\u001b[0m\u001b[0m\n\u001b[0m",
            "\u001b[0;31mAttributeError\u001b[0m: 'dict_keys' object has no attribute 'append'"
          ]
        }
      ]
    },
    {
      "cell_type": "code",
      "source": [
        "print(country_capital.values()) # 모든 value값을 보여주며, 결과물은 여전히 딕셔너리."
      ],
      "metadata": {
        "colab": {
          "base_uri": "https://localhost:8080/"
        },
        "id": "ZC0IF0kvetYA",
        "outputId": "49d1a6d8-41fc-4c19-91da-9a29ffcb77ff"
      },
      "execution_count": null,
      "outputs": [
        {
          "output_type": "stream",
          "name": "stdout",
          "text": [
            "dict_values(['서울', '파리', '워싱턴', '런던'])\n"
          ]
        }
      ]
    },
    {
      "cell_type": "code",
      "source": [
        "new_data = {\n",
        "    '중국' : '베이징', '필리핀' : '마닐라', '호주' : '캔버라'\n",
        "}\n",
        "print(new_data)\n",
        "country_capital.update(new_data)\n",
        "print(country_capital) # 이렇게 .update()를 이용하여 원소를 추가 할 수도 있다."
      ],
      "metadata": {
        "colab": {
          "base_uri": "https://localhost:8080/"
        },
        "id": "zDAne8tsfFZ4",
        "outputId": "6c026887-e134-46aa-e0c1-e03a3883acd9"
      },
      "execution_count": null,
      "outputs": [
        {
          "output_type": "stream",
          "name": "stdout",
          "text": [
            "{'중국': '베이징', '필리핀': '마닐라', '호주': '캔버라'}\n",
            "{'대한민국': '서울', '프랑스': '파리', '미국': '워싱턴', '영국': '런던', '중국': '베이징', '필리핀': '마닐라', '호주': '캔버라'}\n"
          ]
        }
      ]
    },
    {
      "cell_type": "code",
      "source": [
        "country_capital.update('서울':'우리집') # 이렇게 딕셔너리가 아닌 경우(중괄호 없음)에는 .update()는 이용 불가.\n",
        "print(country_capital)"
      ],
      "metadata": {
        "colab": {
          "base_uri": "https://localhost:8080/",
          "height": 147
        },
        "id": "YnkASjJ0fwFg",
        "outputId": "bcb61497-f3b7-426a-cb8c-909c7d1efd78"
      },
      "execution_count": null,
      "outputs": [
        {
          "output_type": "error",
          "ename": "SyntaxError",
          "evalue": "invalid syntax (<ipython-input-19-2659f7e8f1a3>, line 1)",
          "traceback": [
            "\u001b[0;36m  File \u001b[0;32m\"<ipython-input-19-2659f7e8f1a3>\"\u001b[0;36m, line \u001b[0;32m1\u001b[0m\n\u001b[0;31m    country_capital.update('서울':'우리집') # 이렇게 딕셔너리가 아닌 경우(중괄호 없음)에는 .update()는 이용 불가.\u001b[0m\n\u001b[0m                               ^\u001b[0m\n\u001b[0;31mSyntaxError\u001b[0m\u001b[0;31m:\u001b[0m invalid syntax\n"
          ]
        }
      ]
    },
    {
      "cell_type": "code",
      "source": [
        "country_capital.update({'서울':'우리집'}) # .update()는 괄호 안이 이렇게 딕셔너리여야 가능하다.\n",
        "print(country_capital)"
      ],
      "metadata": {
        "colab": {
          "base_uri": "https://localhost:8080/"
        },
        "id": "cZCRU4XDgZlx",
        "outputId": "69b5e8e2-3f62-4b3b-cd38-df124f5a1ad3"
      },
      "execution_count": null,
      "outputs": [
        {
          "output_type": "stream",
          "name": "stdout",
          "text": [
            "{'대한민국': '서울', '프랑스': '파리', '미국': '워싱턴', '영국': '런던', '중국': '베이징', '필리핀': '마닐라', '호주': '캔버라', '서울': '우리집'}\n"
          ]
        }
      ]
    },
    {
      "cell_type": "markdown",
      "source": [
        "# 문자열 관련 추가사항(문자열 처리)\n",
        "- 문자열의 갯수를 셀 수 있다.len()함수\n",
        "- len(문자 혹은 문자값을 갖는 변수) 이렇게 사용.\n",
        "- 그런데 리스트의 원소 갯수를 셀 수도 있나? 셀 수 있다!!"
      ],
      "metadata": {
        "id": "TlJRDdHaqWgc"
      }
    },
    {
      "cell_type": "code",
      "source": [
        "print(len('abcde')) # 갯수니까 결과는 5가 나온다.\n",
        "print(len(myFriends2)) # 리스트의 원소 갯수도 셀 수 있다!"
      ],
      "metadata": {
        "colab": {
          "base_uri": "https://localhost:8080/"
        },
        "id": "T_yQ1sJaqpxe",
        "outputId": "7a28db00-43b6-483e-c4dd-a9982f566250"
      },
      "execution_count": null,
      "outputs": [
        {
          "output_type": "stream",
          "name": "stdout",
          "text": [
            "5\n",
            "5\n"
          ]
        }
      ]
    },
    {
      "cell_type": "markdown",
      "source": [
        "# 문자열 메소드 몇 가지\n",
        "## (메소드는 문자열.메소드() 이런 식으로, 원하는 문자열에 마침표를 찍고 메소드를 붙여주는 방식으로 이용한다.)\n",
        "- 소문자 만들기(.lower)\n",
        "- 대문자 만들기(.upper)\n",
        "- 전체 문자열의 첫 글자만 대문자로(.capitalize())\n",
        "- 단어의 첫 글자만 대문자로(.title())\n",
        "- 대소문자를 뒤바꾸기(.swapcase())\n",
        "- 문자열을 나누고 싶으면(.split()) : 띄어쓰기를 기준으로 값을 나누어 리스트 형태로 반환한다 함.\n",
        "- split과 반대로 문자열을 합하고 싶으면(.join()) : .split()과 정확히 반대로, 리스트를 문자열로 만들어준다.\n",
        "- 특정 문자가 몇 번 쓰였는지 찾고자 하면(.count('찾고자 하는 문자'))"
      ],
      "metadata": {
        "id": "0THxYjTurcbV"
      }
    },
    {
      "cell_type": "code",
      "source": [
        "words = 'im fine THANK you'\n",
        "print(words.lower()) # 모든 문자를 소문자로 바꿔줌.\n",
        "print(words.upper()) # 모든 문자를 대문자로 바꿔줌.\n",
        "print(words.capitalize()) # 전체 문자열의 맨 앞에만 대문자로 바꿔줌.\n",
        "print(words.title()) # 문자열 내의 모든 단어에 대해 첫 글자를 대문자로 바꿔줌.\n",
        "print(words.swapcase()) # 대소문자를 서로 바꿔줌.\n",
        "print(words.split()) # 문자열의 띄어쓰기를 기준으로 나누어 리스트로 반환.\n",
        "print(words.count('TH')) # 해당 문자열이 몇 번 들어가는지 찾아줌."
      ],
      "metadata": {
        "colab": {
          "base_uri": "https://localhost:8080/"
        },
        "id": "iDbiuHPHs59M",
        "outputId": "b8c10c82-3cb5-4962-a0b0-2b908558ca0b"
      },
      "execution_count": null,
      "outputs": [
        {
          "output_type": "stream",
          "name": "stdout",
          "text": [
            "im fine thank you\n",
            "IM FINE THANK YOU\n",
            "Im fine thank you\n",
            "Im Fine Thank You\n",
            "IM FINE thank YOU\n",
            "['im', 'fine', 'THANK', 'you']\n",
            "1\n"
          ]
        }
      ]
    },
    {
      "cell_type": "code",
      "source": [
        "'안녕아하세요아문장에아오류가아있는것아같아요'.split('아') # 이렇게 split은 문자열을 나누는 기준을 설정해주면 그 기준대로 나누어 리스트값을 만듦을 알 수 있다."
      ],
      "metadata": {
        "colab": {
          "base_uri": "https://localhost:8080/"
        },
        "id": "AfeFCRW0lBkq",
        "outputId": "7d79893d-1a1e-4542-9a54-9d041db7064e"
      },
      "execution_count": null,
      "outputs": [
        {
          "output_type": "execute_result",
          "data": {
            "text/plain": [
              "['안녕', '하세요', '문장에', '오류가', '있는것', '같', '요']"
            ]
          },
          "metadata": {},
          "execution_count": 39
        }
      ]
    },
    {
      "cell_type": "code",
      "source": [
        "# 아래의 문자열에서 +82만 추출해보자.\n",
        "phone_number = '+82-01-2345-6789'\n",
        "print(phone_number.split('-')[0]) # 일단 - 기준으로 숫자를 나누어 리스트를 만들고, 거기서 0번째 인덱스 값을 뽑은 것."
      ],
      "metadata": {
        "colab": {
          "base_uri": "https://localhost:8080/"
        },
        "id": "7GamlF0ullE6",
        "outputId": "b75e23e6-4fd3-421d-fcf5-10b1ba4c08bf"
      },
      "execution_count": null,
      "outputs": [
        {
          "output_type": "stream",
          "name": "stdout",
          "text": [
            "+82\n"
          ]
        }
      ]
    },
    {
      "cell_type": "code",
      "source": [
        "# split의 매개변수(arguments, parameters)를 추가해보자 : maxsplit\n",
        "print(phone_number.split('-', maxsplit=2)) # 최대 스플릿 갯수를 2로 지정. 최대 2번만 분리한다는 의미. 그 결과 3개의 원소로 분리된다.\n",
        "print(phone_number.split('-', maxsplit=1)) # 최대 스플릿 갯수를 1로 지정. 최대 1번만 분리한다는 의미. 그 결과 2개의 원소로 분리된다."
      ],
      "metadata": {
        "colab": {
          "base_uri": "https://localhost:8080/"
        },
        "id": "_tXugbUlmOxj",
        "outputId": "a7fa08ab-d583-4aff-eed2-98016f5ad4db"
      },
      "execution_count": null,
      "outputs": [
        {
          "output_type": "stream",
          "name": "stdout",
          "text": [
            "['+82', '01', '2345-6789']\n",
            "['+82', '01-2345-6789']\n"
          ]
        }
      ]
    },
    {
      "cell_type": "markdown",
      "source": [
        "## 추가적인 문자열 메소드\n",
        "- 어떤 문자로 시작하는지 알고싶으면 : .startswith('시작문자열') (결과는 불리언)(그런데 이거 혹시 숫자열에도 적용 가능한가?)\n",
        "- 어떤 값으로 끝나는지 알고싶으면 : .endswith('끝나는 문자열') (사용법은 위와 동일)\n",
        "- 불필요한 문자열을 제거하고 싶으면 : .strip('제거하고자 하는 문자열') 괄호 안에 아무것도 넣지 않으면 문자간의 공백이 지워진다 함.\n",
        "- 문자열의 일부를 바꾸고 싶으면 : .replace('찾는 문자열', '교체 문자열')\n",
        "- 문자가 어디 있는지 찾고싶으면 : .find('찾고자 하는 문자') 결과는 해당 문자가 위치한 인덱스 값.\n",
        "- 문자를 다른 문자들 사이에 넣고 싶으면 : .center(총 문자의 수, '좌우에 추가하고 싶은 문자')\n",
        "\n",
        "- 위의 메소드들은 그냥 이런 것들이 있구나 하고 넘어가자."
      ],
      "metadata": {
        "id": "qe3xneWPvLbf"
      }
    },
    {
      "cell_type": "markdown",
      "source": [
        "# 문자열 포맷\n",
        "- {} {}.format('a', 'b') : format 뒤의 문자가 순서대로 중괄호 속에 들어간다.\n",
        "- {N}.format('a', 'b') : format 뒤의 문자 중 인덱스 N에 해당하는 문자가 중괄호 속에 들어간다.\n",
        "- f'{a}' : f-string. 중괄호 안에 변수 a를 넣으면 변수 a에 해당하는 문자열을 출력해줌. 그런데 이건 그냥 변수 문자열 출력 가능하지 않나? f 없이도?\n",
        "  + 아니다. f-string이 의미 없지는 않다. 아래 연습 코드의 비교 참조."
      ],
      "metadata": {
        "id": "fCEY7Ma3osmr"
      }
    },
    {
      "cell_type": "code",
      "source": [
        "# {}{}.format('a', 'b')\n",
        "print('우리집 {}는 {}강아지'.format('강아지', '복슬')) # 이렇게 하면 format 이하의 문자가 중괄호 안에 차례로 들어간다.\n",
        "print('우리집 {}는 {}{}}'.format('강아지', '복슬')) # 괄호는 셋인데 format문자는 2개 뿐인 경우. 세 번째 중괄호에 해당하는 2번 인덱스 문자열이 없기 때문에 오류가 남."
      ],
      "metadata": {
        "colab": {
          "base_uri": "https://localhost:8080/",
          "height": 237
        },
        "id": "Q9EPozcJpcdl",
        "outputId": "cd07c83c-d222-421c-b138-5a654918bcb9"
      },
      "execution_count": null,
      "outputs": [
        {
          "output_type": "stream",
          "name": "stdout",
          "text": [
            "우리집 강아지는 복슬강아지\n"
          ]
        },
        {
          "output_type": "error",
          "ename": "IndexError",
          "evalue": "Replacement index 2 out of range for positional args tuple",
          "traceback": [
            "\u001b[0;31m---------------------------------------------------------------------------\u001b[0m",
            "\u001b[0;31mIndexError\u001b[0m                                Traceback (most recent call last)",
            "\u001b[0;32m<ipython-input-7-bc50d09f093b>\u001b[0m in \u001b[0;36m<cell line: 3>\u001b[0;34m()\u001b[0m\n\u001b[1;32m      1\u001b[0m \u001b[0;31m# {}{} + format('a', 'b')\u001b[0m\u001b[0;34m\u001b[0m\u001b[0;34m\u001b[0m\u001b[0m\n\u001b[1;32m      2\u001b[0m \u001b[0mprint\u001b[0m\u001b[0;34m(\u001b[0m\u001b[0;34m'우리집 {}는 {}강아지'\u001b[0m\u001b[0;34m.\u001b[0m\u001b[0mformat\u001b[0m\u001b[0;34m(\u001b[0m\u001b[0;34m'강아지'\u001b[0m\u001b[0;34m,\u001b[0m \u001b[0;34m'복슬'\u001b[0m\u001b[0;34m)\u001b[0m\u001b[0;34m)\u001b[0m \u001b[0;31m# 이렇게 하면 format 이하의 문자가 중괄호 안에 차례로 들어간다.\u001b[0m\u001b[0;34m\u001b[0m\u001b[0;34m\u001b[0m\u001b[0m\n\u001b[0;32m----> 3\u001b[0;31m \u001b[0mprint\u001b[0m\u001b[0;34m(\u001b[0m\u001b[0;34m'우리집 {}는 {}{}}'\u001b[0m\u001b[0;34m.\u001b[0m\u001b[0mformat\u001b[0m\u001b[0;34m(\u001b[0m\u001b[0;34m'강아지'\u001b[0m\u001b[0;34m,\u001b[0m \u001b[0;34m'복슬'\u001b[0m\u001b[0;34m)\u001b[0m\u001b[0;34m)\u001b[0m\u001b[0;34m\u001b[0m\u001b[0;34m\u001b[0m\u001b[0m\n\u001b[0m",
            "\u001b[0;31mIndexError\u001b[0m: Replacement index 2 out of range for positional args tuple"
          ]
        }
      ]
    },
    {
      "cell_type": "code",
      "source": [
        "# {n}.format('a', 'b')\n",
        "print('우리집 {0}는 {1}{0}'.format('강아지', '복슬')) # 중괄호 안에 필요한 인덱스를 넣어주면 format 이하의 문자열 중 해당 인덱스 문자를 출력."
      ],
      "metadata": {
        "colab": {
          "base_uri": "https://localhost:8080/"
        },
        "id": "QwG2cZ47qsdM",
        "outputId": "a45eae93-9e7f-4d89-bf47-846fec16f228"
      },
      "execution_count": null,
      "outputs": [
        {
          "output_type": "stream",
          "name": "stdout",
          "text": [
            "우리집 강아지는 복슬강아지\n"
          ]
        }
      ]
    },
    {
      "cell_type": "code",
      "source": [
        "dog = '강아지'\n",
        "bok = '복슬'\n",
        "\n",
        "print(f'우리집 {dog}는 {bok}{dog}') # 일단 사용법은 알겠다.\n",
        "print('우리집 dog는 bokdog') # 비교 : f-string이 의미 없는 코드가 아님을 알 수 있다.\n",
        "# 그냥 문자열과 변수를 나열한다 생각하고 나열해보니, 변수도 따옴표 안에 있는 바람에 문자취급이 되어 변수로 쓸 수 없는 상황이 발생했다. f-string의 중요성1\n",
        "print('우리집 {dog}는 {bok}{dog}') # f-string의 코드를 갖추지 않으면 중괄호를 그저 문자로만 인식하여, 의도한대로 출력되지 않음을 알 수 있다. f-string의 중요성2"
      ],
      "metadata": {
        "colab": {
          "base_uri": "https://localhost:8080/"
        },
        "id": "rCQ2lMlaryQq",
        "outputId": "439d2be3-fb24-4aca-c05d-c4dcd497fc85"
      },
      "execution_count": null,
      "outputs": [
        {
          "output_type": "stream",
          "name": "stdout",
          "text": [
            "우리집 강아지는 복슬강아지\n",
            "우리집 dog는 bokdog\n",
            "우리집 {dog}는 {bok}{dog}\n"
          ]
        }
      ]
    },
    {
      "cell_type": "markdown",
      "source": [
        "# 탈출문자\n",
        "- 특수문자를 문자로 출력하고 싶은데 코드에 인식되어 엉켜버리는 경우(예 : 따옴표, 역슬래시 따위) 역슬래시 탈출문자를 이용하면 코드에 엉키지 않고 표현해줄 수 있다.\n",
        "  + 큰 따옴표 : \\\"\n",
        "  + 작은 따옴표 : \\'\n",
        "  + 역슬래시 : \\\\"
      ],
      "metadata": {
        "id": "Y3p0zR6jtRiL"
      }
    },
    {
      "cell_type": "code",
      "source": [
        "# 친구가 \"뽀삐는 어디 있어?\" 하고 물었다. 이 문장을 출력해보자.\n",
        "print('친구가 \"뽀삐는 어디 있어?\" 하고 물었다.') # 문제 없이 출력된다. 작은 따옴표로 문자열이 어디까지인지 구별."
      ],
      "metadata": {
        "colab": {
          "base_uri": "https://localhost:8080/"
        },
        "id": "-kinTCsbtqBv",
        "outputId": "4664827e-ef6d-4745-89fa-9c097361cac6"
      },
      "execution_count": null,
      "outputs": [
        {
          "output_type": "stream",
          "name": "stdout",
          "text": [
            "친구가 \"뽀삐는 어디 있어?\" 하고 물었다.\n"
          ]
        }
      ]
    },
    {
      "cell_type": "code",
      "source": [
        "# 나는 '미국 갔는데...' 하고 생각했다. 이 문장을 출력해보자.\n",
        "print('나는 '미국 갔는데...' 하고 생각했다.') # 이렇게 하면 오류가 남. 작은 따옴표가 문자열로 묶어준 부분은, '나는 ', ' 하고 생각했다.' 부분 뿐이기 때문임.\n",
        "# 미국 갔는데... 를 알 수 없는 코드로 인식하여 발생하는 문제."
      ],
      "metadata": {
        "colab": {
          "base_uri": "https://localhost:8080/",
          "height": 146
        },
        "id": "g5p2vMp7vMKQ",
        "outputId": "93b5cce6-7755-4c6b-af8f-9dc02cc72154"
      },
      "execution_count": null,
      "outputs": [
        {
          "output_type": "error",
          "ename": "SyntaxError",
          "evalue": "invalid syntax. Perhaps you forgot a comma? (<ipython-input-16-c2f7fea78230>, line 2)",
          "traceback": [
            "\u001b[0;36m  File \u001b[0;32m\"<ipython-input-16-c2f7fea78230>\"\u001b[0;36m, line \u001b[0;32m2\u001b[0m\n\u001b[0;31m    print('나는 '미국 갔는데...' 하고 생각했다.') # 이렇게 하면 오류가 남. 작은 따옴표가 문자열로 묶어준 부분은, '나는 ', ' 하고 생각했다.' 부분 뿐이기 때문임.\u001b[0m\n\u001b[0m          ^\u001b[0m\n\u001b[0;31mSyntaxError\u001b[0m\u001b[0;31m:\u001b[0m invalid syntax. Perhaps you forgot a comma?\n"
          ]
        }
      ]
    },
    {
      "cell_type": "code",
      "source": [
        "# 위의 문제는 큰 따옴표로 구별하면 해결된다.\n",
        "print(\"나는 '미국 갔는데...' 하고 생각했다.\")"
      ],
      "metadata": {
        "colab": {
          "base_uri": "https://localhost:8080/"
        },
        "id": "b_Su2_tjvO2g",
        "outputId": "02e4eb3e-4b1f-4c5c-a6e4-19021dc0eae3"
      },
      "execution_count": null,
      "outputs": [
        {
          "output_type": "stream",
          "name": "stdout",
          "text": [
            "나는 '미국 갔는데...' 하고 생각했다.\n"
          ]
        }
      ]
    },
    {
      "cell_type": "code",
      "source": [
        "# 하지만 '사실을 말 할 순 없지.' 하는 생각에 \"내 방에 있어.\"라고 했다. 라는 문장은 어떻게 출력할까? 따옴표, 쌍따옴표 무엇을 쓰던 오류가 발생한다!\n",
        "# 이 경우에 탈출문자를 이용한다.\n",
        "print('하지만 \\'사실을 말 할 순 없지.\\' 하는 생각에 \\\"내 방에 있어\\\"라고 했다.') # 잘 출력 된다."
      ],
      "metadata": {
        "colab": {
          "base_uri": "https://localhost:8080/"
        },
        "id": "nCaQHhp3vkDZ",
        "outputId": "121151d0-bab0-4dc2-c4f0-8ad24b7239e0"
      },
      "execution_count": null,
      "outputs": [
        {
          "output_type": "stream",
          "name": "stdout",
          "text": [
            "하지만 '사실을 말 할 순 없지.' 하는 생각에 \"내 방에 있어\"라고 했다.\n"
          ]
        }
      ]
    },
    {
      "cell_type": "code",
      "source": [
        "# 파일 경로를 쓸 때 필요한 역슬래시도 출력해보자.\n",
        " print('c:\\\\aaa\\\\bbb') # 그래도 에러가 발생하는데? 역슬래시는 안되나보다."
      ],
      "metadata": {
        "colab": {
          "base_uri": "https://localhost:8080/",
          "height": 146
        },
        "id": "RB5TvbsUwLTR",
        "outputId": "9f55e5ca-34a2-42f6-ee2c-c0e286a7536a"
      },
      "execution_count": null,
      "outputs": [
        {
          "output_type": "error",
          "ename": "IndentationError",
          "evalue": "unexpected indent (<ipython-input-24-d317a71d89b3>, line 2)",
          "traceback": [
            "\u001b[0;36m  File \u001b[0;32m\"<ipython-input-24-d317a71d89b3>\"\u001b[0;36m, line \u001b[0;32m2\u001b[0m\n\u001b[0;31m    print('c:\\\\aaa\\\\bbb')\u001b[0m\n\u001b[0m    ^\u001b[0m\n\u001b[0;31mIndentationError\u001b[0m\u001b[0;31m:\u001b[0m unexpected indent\n"
          ]
        }
      ]
    },
    {
      "cell_type": "markdown",
      "source": [
        "# 여기 아래에는 클래스를 정리해보자(기초문법231228 참조)\n",
        "# 그 다음에는 if 정리(기초문법231229 참조)"
      ],
      "metadata": {
        "id": "zMun3r82pVjE"
      }
    }
  ]
}