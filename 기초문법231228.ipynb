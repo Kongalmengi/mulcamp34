{
  "nbformat": 4,
  "nbformat_minor": 0,
  "metadata": {
    "colab": {
      "provenance": [],
      "toc_visible": true,
      "authorship_tag": "ABX9TyN5NDmgmx3MLsl0NCPqNawF",
      "include_colab_link": true
    },
    "kernelspec": {
      "name": "python3",
      "display_name": "Python 3"
    },
    "language_info": {
      "name": "python"
    }
  },
  "cells": [
    {
      "cell_type": "markdown",
      "metadata": {
        "id": "view-in-github",
        "colab_type": "text"
      },
      "source": [
        "<a href=\"https://colab.research.google.com/github/Kongalmengi/mulcamp34/blob/main/%EA%B8%B0%EC%B4%88%EB%AC%B8%EB%B2%95231228.ipynb\" target=\"_parent\"><img src=\"https://colab.research.google.com/assets/colab-badge.svg\" alt=\"Open In Colab\"/></a>"
      ]
    },
    {
      "cell_type": "markdown",
      "source": [
        "# 문자열 함수 (p.158)\n",
        "- 영어 : function, method"
      ],
      "metadata": {
        "id": "QXhxYLKrxDz2"
      }
    },
    {
      "cell_type": "markdown",
      "source": [
        "## split() : 문자열 분리"
      ],
      "metadata": {
        "id": "2tsWbmqU2rIX"
      }
    },
    {
      "cell_type": "code",
      "source": [
        "coffee_menu_str = '에스프레소,아메리카노,카페라테,카푸치노' # 이것을 콤마 기준으로 분리하고 싶을 때, 어떻게 할 것인가?\n",
        "coffee_menu_str.split(',') # 이렇게 하면 된다. 결과는 list형 결과가 나오는구나!\n",
        "\n",
        "# 결과해석\n",
        "# 내가 원하는 대로 결과가 나왔는가?\n",
        "# 반환값, 리턴 자료형 확인"
      ],
      "metadata": {
        "colab": {
          "base_uri": "https://localhost:8080/"
        },
        "id": "NP6oUBFgx-cP",
        "outputId": "bbf5dc86-9f01-4675-ca9a-001f075556f4"
      },
      "execution_count": null,
      "outputs": [
        {
          "output_type": "execute_result",
          "data": {
            "text/plain": [
              "['에스프레소', '아메리카노', '카페라테', '카푸치노']"
            ]
          },
          "metadata": {},
          "execution_count": 3
        }
      ]
    },
    {
      "cell_type": "code",
      "source": [
        "'에스프레소,아메리카노,카페라테,카푸치노'.split(',') # 이렇게 문자열에 바로 split을 직접 이용 할 수도 있다."
      ],
      "metadata": {
        "colab": {
          "base_uri": "https://localhost:8080/"
        },
        "id": "1G_UQJcfzgQ2",
        "outputId": "171e66b7-b11e-49f1-fb4a-1e1e2b0842f3"
      },
      "execution_count": null,
      "outputs": [
        {
          "output_type": "execute_result",
          "data": {
            "text/plain": [
              "['에스프레소', '아메리카노', '카페라테', '카푸치노']"
            ]
          },
          "metadata": {},
          "execution_count": 2
        }
      ]
    },
    {
      "cell_type": "code",
      "source": [
        "'에스프레소 아메리카노 카페라테 카푸치노'.split(' ') # 원소 분리 기준을 이렇게 공백으로 둘 수도 있다."
      ],
      "metadata": {
        "colab": {
          "base_uri": "https://localhost:8080/"
        },
        "id": "aIsPqK11zvom",
        "outputId": "9cfc7898-a0e9-47f0-b13f-3a361bda66ae"
      },
      "execution_count": null,
      "outputs": [
        {
          "output_type": "execute_result",
          "data": {
            "text/plain": [
              "['에스프레소', '아메리카노', '카페라테', '카푸치노']"
            ]
          },
          "metadata": {},
          "execution_count": 4
        }
      ]
    },
    {
      "cell_type": "code",
      "source": [
        "phone_number = '+82-01-2345-6789'\n",
        "\n",
        "# +82만 추출하기\n",
        "print(phone_number.split('-')[0])\n",
        "\n",
        "# 혹은 다음과 같이도 가능함.\n",
        "result = phone_number.split('-')\n",
        "print(result[0])"
      ],
      "metadata": {
        "colab": {
          "base_uri": "https://localhost:8080/"
        },
        "id": "iWSakZvx0hQO",
        "outputId": "3501ef04-92fb-4b04-ca0d-67dbf33a1bcc"
      },
      "execution_count": null,
      "outputs": [
        {
          "output_type": "stream",
          "name": "stdout",
          "text": [
            "+82\n",
            "+82\n"
          ]
        }
      ]
    },
    {
      "cell_type": "code",
      "source": [
        "# maxsplit, 매개변수(arguments, parameters)\n",
        "phone_number.split('-', maxsplit=2) # 최대 스플릿 갯수를 규정할 수 있다. maxsplit=2는 최대 3개의 원소로 분리한다는 의미."
      ],
      "metadata": {
        "colab": {
          "base_uri": "https://localhost:8080/"
        },
        "id": "8y014Wur2Qnf",
        "outputId": "da051ce1-ebef-4f3e-ad34-2882b46f83b7"
      },
      "execution_count": null,
      "outputs": [
        {
          "output_type": "execute_result",
          "data": {
            "text/plain": [
              "['+82', '01', '2345-6789']"
            ]
          },
          "metadata": {},
          "execution_count": 13
        }
      ]
    },
    {
      "cell_type": "markdown",
      "source": [
        "## 문자열 삭제 : strip() : 필요 없는 문자열 삭제\n",
        "- 앞 뒤 공백 혹은 개행문자와 같이 불필요한 부분을 삭제하고 싶은 경우에 사용"
      ],
      "metadata": {
        "id": "h5gj92H62xgo"
      }
    },
    {
      "cell_type": "code",
      "source": [
        "tempText = 'Python '\n",
        "tempText.strip( ) # 이렇게 하면 결과값에서 공백을 없앨 수 있다."
      ],
      "metadata": {
        "colab": {
          "base_uri": "https://localhost:8080/",
          "height": 35
        },
        "id": "PIFpRZ0l3f55",
        "outputId": "78474280-fc8b-4426-fa1d-df6dd0e1be5c"
      },
      "execution_count": null,
      "outputs": [
        {
          "output_type": "execute_result",
          "data": {
            "text/plain": [
              "'Python'"
            ],
            "application/vnd.google.colaboratory.intrinsic+json": {
              "type": "string"
            }
          },
          "metadata": {},
          "execution_count": 18
        }
      ]
    },
    {
      "cell_type": "code",
      "source": [
        "tempText2 = 'aaPythonaaa'\n",
        "tempText2.strip('a') # 콤마 넣어주는 것을 잊지 말자. 문자열이라는 것을 확실히 넣어줘야 함. 안그럼 오류난다. a가 정의되지 않았다는 이유로."
      ],
      "metadata": {
        "colab": {
          "base_uri": "https://localhost:8080/",
          "height": 35
        },
        "id": "bp0NluMB33v3",
        "outputId": "32d6e6b8-741d-4592-e6c1-2b24bf75b3c8"
      },
      "execution_count": null,
      "outputs": [
        {
          "output_type": "execute_result",
          "data": {
            "text/plain": [
              "'Python'"
            ],
            "application/vnd.google.colaboratory.intrinsic+json": {
              "type": "string"
            }
          },
          "metadata": {},
          "execution_count": 24
        }
      ]
    },
    {
      "cell_type": "code",
      "source": [
        "tempText2 = 'aabbPythonbbaaa'\n",
        "result = tempText2.strip('a')\n",
        "result.strip('b') # 이렇게 2번 거쳐 제거할 수 있음."
      ],
      "metadata": {
        "colab": {
          "base_uri": "https://localhost:8080/",
          "height": 35
        },
        "id": "pepp3j7r4hP4",
        "outputId": "ac95f67c-87d7-4377-c936-9d5733cc793a"
      },
      "execution_count": null,
      "outputs": [
        {
          "output_type": "execute_result",
          "data": {
            "text/plain": [
              "'Python'"
            ],
            "application/vnd.google.colaboratory.intrinsic+json": {
              "type": "string"
            }
          },
          "metadata": {},
          "execution_count": 25
        }
      ]
    },
    {
      "cell_type": "code",
      "source": [
        "tempText2 = 'aabbPythonbbaaa'\n",
        "tempText2.strip('ab') # 이렇게도 된다. 그냥 지우고자 하는 문자를 단순히 나열하면 되는구나.\n",
        "# 추가로 strip은 특수문자도 가능"
      ],
      "metadata": {
        "colab": {
          "base_uri": "https://localhost:8080/",
          "height": 35
        },
        "id": "LWA30Yxk4-k5",
        "outputId": "c876a4a8-b305-46ac-ece6-b1bd0685b3aa"
      },
      "execution_count": null,
      "outputs": [
        {
          "output_type": "execute_result",
          "data": {
            "text/plain": [
              "'Python'"
            ],
            "application/vnd.google.colaboratory.intrinsic+json": {
              "type": "string"
            }
          },
          "metadata": {},
          "execution_count": 27
        }
      ]
    },
    {
      "cell_type": "code",
      "source": [
        "tempText3 = '\\n Python\\n\\n'\n",
        "tempText3.strip(' \\n') # 공백, \\, n 모두 제거가 된다.\n",
        "\n",
        "# lstrip() : 해당 텍스트의 왼쪽만 처리.\n",
        "# rstrip() : 해당 텍스트의 오른쪽만 처리."
      ],
      "metadata": {
        "colab": {
          "base_uri": "https://localhost:8080/",
          "height": 35
        },
        "id": "lry8b-xB89g7",
        "outputId": "0fcb97e6-6951-4a0c-b275-dac904e8fed5"
      },
      "execution_count": null,
      "outputs": [
        {
          "output_type": "execute_result",
          "data": {
            "text/plain": [
              "'Python'"
            ],
            "application/vnd.google.colaboratory.intrinsic+json": {
              "type": "string"
            }
          },
          "metadata": {},
          "execution_count": 29
        }
      ]
    },
    {
      "cell_type": "markdown",
      "source": [
        "## join() : 문자열 연결\n",
        "- 더하기(+)연산자도 두 문자열 연결 가능."
      ],
      "metadata": {
        "id": "e2f8_07B9_ZT"
      }
    },
    {
      "cell_type": "code",
      "source": [
        "name1 = 'Miri'\n",
        "name2 = 'Kevin'\n",
        "\n",
        "hello = '님, 주소와 전화번호를 입력해 주세요.'\n",
        "print(name1 + hello)\n",
        "print(name2 + hello) # 이렇게 덧셈으로 직관적인 연결이 가능. 하지만 join 연산자를 활용할 수도 있음."
      ],
      "metadata": {
        "colab": {
          "base_uri": "https://localhost:8080/"
        },
        "id": "yTTAmJSp-QSj",
        "outputId": "af3065f3-fe43-49ef-9195-89e154005a94"
      },
      "execution_count": null,
      "outputs": [
        {
          "output_type": "stream",
          "name": "stdout",
          "text": [
            "Miri님, 주소와 전화번호를 입력해 주세요.\n",
            "Kevin님, 주소와 전화번호를 입력해 주세요.\n"
          ]
        }
      ]
    },
    {
      "cell_type": "code",
      "source": [
        "address_list = ['서울시', '중랑구', '용마산로', '111(우리집)']\n",
        "#위의 리스트를 하나로 연결하여 하나의 텍스트로 만들고 싶음.\n",
        "a = ' ' # 문자열에 공백을 넣은 것은, 문자열 중간중간에 빈 공간을 넣기 위함임.\n",
        "a.join(address_list)"
      ],
      "metadata": {
        "colab": {
          "base_uri": "https://localhost:8080/",
          "height": 35
        },
        "id": "f1E4SEIr-yVk",
        "outputId": "5a807ccc-cbc3-4504-9c65-5296bee9e88d"
      },
      "execution_count": null,
      "outputs": [
        {
          "output_type": "execute_result",
          "data": {
            "text/plain": [
              "'서울시 중랑구 용마산로 111(우리집)'"
            ],
            "application/vnd.google.colaboratory.intrinsic+json": {
              "type": "string"
            }
          },
          "metadata": {},
          "execution_count": 34
        }
      ]
    },
    {
      "cell_type": "markdown",
      "source": [
        "- join을 활용할 때, '.'.join 이런 식으로 사용해도 된다. 정확히 말 하자면, 매개할만한 요소를 앞에 넣는 것이 포인트라는 것. 위에서처럼 꼭 변수를 지정하는 것이 필수는 아니라는 소리."
      ],
      "metadata": {
        "id": "ME0tAnDGAXjy"
      }
    },
    {
      "cell_type": "markdown",
      "source": [
        "## find() : 문자열 찾기\n",
        "- 문자열의 위치 값을 반환."
      ],
      "metadata": {
        "id": "KSfV_IBpAE8U"
      }
    },
    {
      "cell_type": "code",
      "source": [
        "str_f = 'Python code.'\n",
        "print('찾는 문자열의 위치 :', str_f.find('n')) # 인덱스 위치값을 보여줌\n",
        "print('찾는 문자열의 위치 :', str_f.find('Java')) # 결과값으로 -1이 나오는데, 이 경우는 해당 사항이 없다는 의미임."
      ],
      "metadata": {
        "colab": {
          "base_uri": "https://localhost:8080/"
        },
        "id": "F7iZChDgAve0",
        "outputId": "3bc23f59-0d35-4b96-cb61-361054fe163a"
      },
      "execution_count": null,
      "outputs": [
        {
          "output_type": "stream",
          "name": "stdout",
          "text": [
            "찾는 문자열의 위치 : 5\n",
            "찾는 문자열의 위치 : -1\n"
          ]
        }
      ]
    },
    {
      "cell_type": "markdown",
      "source": [
        "- 과제 : find 위의 예시와 같은 결과물을 보여주는 다른 code를 짜볼 것.\n",
        "- 점프 투 파이썬 - 문자열 포메팅 참조. 특히 11. format 함수를 사용한 포매팅, 12.f문자열 포매팅 마스터 할 것."
      ],
      "metadata": {
        "id": "m-w-6530BiME"
      }
    },
    {
      "cell_type": "markdown",
      "source": [
        "## count() : 찾고자 하는 문자열의 횟수 출력.\n",
        "- 만약, 찾을 문자열이 없으면 0 출력"
      ],
      "metadata": {
        "id": "FktbomMIDHYE"
      }
    },
    {
      "cell_type": "code",
      "source": [
        "str_c = 'Python is powerful. Python is easy to learn. Python is open.'\n",
        "print(\"Python의 갯수는?\", str_c.count('Python'))\n",
        "print(\"Python의 갯수는?\", str_c.count('powerful'))\n",
        "print(\"Python의 갯수는?\", str_c.count('Java'))"
      ],
      "metadata": {
        "colab": {
          "base_uri": "https://localhost:8080/"
        },
        "id": "FB3txPt4DXnQ",
        "outputId": "3a0e820b-c854-4c8d-ba6d-bddbae6ff799"
      },
      "execution_count": null,
      "outputs": [
        {
          "output_type": "stream",
          "name": "stdout",
          "text": [
            "Python의 갯수는? 3\n",
            "Python의 갯수는? 1\n",
            "Python의 갯수는? 0\n"
          ]
        }
      ]
    },
    {
      "cell_type": "markdown",
      "source": [
        "## startswith, endswith\n",
        "- 각 문자열이 지정된 문자로 시작하는지, 끝나는지 검사할 때 사용."
      ],
      "metadata": {
        "id": "BXazUYbWD66-"
      }
    },
    {
      "cell_type": "code",
      "source": [
        "str_c = 'Python is powerful. Python is easy to learn. Python is open.'\n",
        "print('Python으로 시작?', str_c.startswith('Python'))\n",
        "print('Python으로 시작?', str_c.startswith('easy'))\n",
        "print('Python으로 시작?', str_c.endswith('.'))\n",
        "print('Python으로 시작?', str_c.endswith('!'))"
      ],
      "metadata": {
        "colab": {
          "base_uri": "https://localhost:8080/"
        },
        "id": "KT2UGeILEGZN",
        "outputId": "db9a3bb4-586d-42b6-be80-86f97a107702"
      },
      "execution_count": null,
      "outputs": [
        {
          "output_type": "stream",
          "name": "stdout",
          "text": [
            "Python으로 시작? True\n",
            "Python으로 시작? False\n",
            "Python으로 시작? True\n",
            "Python으로 시작? False\n"
          ]
        }
      ]
    },
    {
      "cell_type": "markdown",
      "source": [
        "## replace() : 문자열 바꾸기\n",
        "- 지정한 문자열을 찾아서 바꾸는 메서드"
      ],
      "metadata": {
        "id": "NsCc84DUE49t"
      }
    },
    {
      "cell_type": "code",
      "source": [
        "str_a = 'Python is fast. Python is friendly. Python is open.'\n",
        "#Python을 IPython으로 변경\n",
        "print(str_a.replace('Python', 'IPython'))"
      ],
      "metadata": {
        "colab": {
          "base_uri": "https://localhost:8080/"
        },
        "id": "yYLYiQHFFB8F",
        "outputId": "20c9231b-00fe-4430-f850-e9ecdf176662"
      },
      "execution_count": null,
      "outputs": [
        {
          "output_type": "stream",
          "name": "stdout",
          "text": [
            "IPython is fast. IPython is friendly. IPython is open.\n"
          ]
        }
      ]
    },
    {
      "cell_type": "code",
      "source": [
        "str_b = '[Python][is][fast]'\n",
        "str_b1 = str_b.replace('[', '')\n",
        "str_b2 = str_b1.replace(']', ' ')\n",
        "result = str_b2.rstrip() # rstrip이 왜 들어갔지? 공백 제거를 위함이라 함. rstrip이 없으면 공백이 나타난다고 함.\n",
        "print(result)"
      ],
      "metadata": {
        "colab": {
          "base_uri": "https://localhost:8080/"
        },
        "id": "FKEkEd31FmKt",
        "outputId": "1e1f1d01-80a2-4729-c5a9-4e355e66dee8"
      },
      "execution_count": null,
      "outputs": [
        {
          "output_type": "stream",
          "name": "stdout",
          "text": [
            "Python is fast\n"
          ]
        }
      ]
    },
    {
      "cell_type": "markdown",
      "source": [
        "# 리스트 함수 (p.54)\n",
        "- 처음에 프로그래밍 공부할 때,\n",
        "  + 1차는 교재 확인\n",
        "  + 프로젝트 진행시 공식문서를 봐야 함.\n",
        "- matplotlib에서 제공하는 코드 목록이 있다.(여기 참조하면 좋다 함.)\n",
        "- Python에서 제공하는 data structure도 있고.(https://docs.python.org/3/tutorial/datastructures.html)"
      ],
      "metadata": {
        "id": "aQ4Il-UuxHvG"
      }
    },
    {
      "cell_type": "markdown",
      "source": [
        "## append()\n",
        "- 리스트에서 항목 하나를 맨 마지막에 추가."
      ],
      "metadata": {
        "id": "s5CjTgXQN3Qp"
      }
    },
    {
      "cell_type": "code",
      "source": [
        "myFriends = ['Michael', 'Hanna', 'Kevin', 'Miri']\n",
        "myFriends.append('Thomas')\n",
        "print(myFriends)\n",
        "\n",
        "# 위 문법과 비교\n",
        "result = myFriends.append('Thomas')\n",
        "print(result) # 이 부분은 none이 출력되는데, 문제가 있는 것은 아니다. 물론 이유가 확인된 바는 아닌데, Python의 한계 혹은 버그 정도로 여기면 됨."
      ],
      "metadata": {
        "colab": {
          "base_uri": "https://localhost:8080/"
        },
        "id": "G59mIgYAN8sC",
        "outputId": "fca2f22d-b804-4819-fd77-98c230104eb8"
      },
      "execution_count": null,
      "outputs": [
        {
          "output_type": "stream",
          "name": "stdout",
          "text": [
            "['Michael', 'Hanna', 'Kevin', 'Miri', 'Thomas']\n"
          ]
        }
      ]
    },
    {
      "cell_type": "markdown",
      "source": [
        "## extend()\n",
        "- 리스트에서 항목 여러 개를 맨 마지막에 추가."
      ],
      "metadata": {
        "id": "VxhWPn9IP-aJ"
      }
    },
    {
      "cell_type": "code",
      "source": [
        "myFriends = ['Michael', 'Hanna', 'Kevin', 'Miri']\n",
        "myFriends.append('Thomas')\n",
        "\n",
        "newFriends = ['A', 'B', 'C']\n",
        "#myFriends.append(newFriends) 이렇게 하면 각각의 항목이 원소로 추가가 되는게 아니라, 아예 저 리스트 통째로 하나의 항목이 되어 추가됨.\n",
        "myFriends.extend(newFriends)\n",
        "myFriends"
      ],
      "metadata": {
        "colab": {
          "base_uri": "https://localhost:8080/"
        },
        "id": "wu9pSCs6Pfeh",
        "outputId": "6f03b12d-32fa-4390-8e8a-948ac69b3f4d"
      },
      "execution_count": null,
      "outputs": [
        {
          "output_type": "execute_result",
          "data": {
            "text/plain": [
              "['Michael', 'Hanna', 'Kevin', 'Miri', 'Thomas', 'A', 'B', 'C']"
            ]
          },
          "metadata": {},
          "execution_count": 55
        }
      ]
    },
    {
      "cell_type": "markdown",
      "source": [
        "## insert()\n",
        "- 항목의 위치를 나타내는 인덱스 i에 data를 삽입"
      ],
      "metadata": {
        "id": "l3oG1wBYQOTw"
      }
    },
    {
      "cell_type": "code",
      "source": [
        "myFriends = ['Michael', 'Hanna', 'Kevin', 'Miri']\n",
        "myFriends.insert(1, \"Sebastian\") # 만약 숫자에 -1을 넣으면 맨 마지막에 삽입됨. 그런데 그렇게 하지 않더라도 맨 마지막에 삽입하고 싶으면 append()를 사용하면 됨.\n",
        "print(myFriends)"
      ],
      "metadata": {
        "colab": {
          "base_uri": "https://localhost:8080/"
        },
        "id": "muJZvDSmQNgx",
        "outputId": "5281f26a-84ed-4a56-9c3b-684da56f5144"
      },
      "execution_count": null,
      "outputs": [
        {
          "output_type": "stream",
          "name": "stdout",
          "text": [
            "['Michael', 'Sebastian', 'Hanna', 'Kevin', 'Miri']\n"
          ]
        }
      ]
    },
    {
      "cell_type": "markdown",
      "source": [
        "# 클래스"
      ],
      "metadata": {
        "id": "lJs4cbtexKCl"
      }
    },
    {
      "cell_type": "markdown",
      "source": [
        "## 함수\n",
        "- 지금까지는 기존에 만들어진 함수만 이용.\n",
        "- 이번에는 직접 함수를 만들어봄.\n",
        "  + 의미있는 함수를 만드는 것이 프로젝트.\n",
        "- 프로그래밍을 한다 = 프로그래밍 된 코드를 언제든지 재실행 할 수 있도록 준비하는 과정.\n",
        "- 언제 함수를 만드는가?\n",
        "  + 뭔가 반복적인 알고리즘이 있을 때, 이것을 함수화 하면 됨."
      ],
      "metadata": {
        "id": "4PP2o4rRnbnW"
      }
    },
    {
      "cell_type": "code",
      "execution_count": null,
      "metadata": {
        "id": "XcGXDOxVqtJJ"
      },
      "outputs": [],
      "source": [
        "# 함수의 구조 (p.116)\n",
        "# 매개변수 = 인자\n",
        "def 함수명([인자1, 인자2, ..., 인자n]):\n",
        "  # 코드 블록 (코드블록 앞에 2칸 공백이 있어야 함. 이거 꼭 지켜야 함. 이 공백을 indentation이라 함. 공백 없으면 indentation error가 뜸.)\n",
        "  return 값(결과값)"
      ]
    },
    {
      "cell_type": "code",
      "source": [
        "def mySum(a, b):\n",
        "  c = a + b\n",
        "  return c\n",
        "\n",
        "a = 1\n",
        "b = 1\n",
        "\n",
        "result = mySum(a,b)\n",
        "print(result) # 이런 코드 앞에 공백이 있으면 결과가 안나온다. 위의 함수 만들기에서 처럼 공백이 필요한 경우가 아니라면 공백이 없어야 함."
      ],
      "metadata": {
        "colab": {
          "base_uri": "https://localhost:8080/"
        },
        "id": "wP7n6sz_qJr3",
        "outputId": "88fd07c6-52ef-4690-97d7-3f15248b1ebc"
      },
      "execution_count": 7,
      "outputs": [
        {
          "output_type": "stream",
          "name": "stdout",
          "text": [
            "2\n"
          ]
        }
      ]
    },
    {
      "cell_type": "markdown",
      "source": [
        "- 미션 : 뺄셈 함수 만들기"
      ],
      "metadata": {
        "id": "JFmn_-JkroTw"
      }
    },
    {
      "cell_type": "code",
      "source": [
        "def mySubtract(e, f) :\n",
        "  g = e - f\n",
        "  return g\n",
        "\n",
        "e = 3\n",
        "f = 1\n",
        "\n",
        "result = mySubtract(e,f)\n",
        "print(result)"
      ],
      "metadata": {
        "colab": {
          "base_uri": "https://localhost:8080/"
        },
        "id": "dtqPVhqBrs8I",
        "outputId": "eaa2e215-1983-4fef-eaca-ede03964141b"
      },
      "execution_count": 9,
      "outputs": [
        {
          "output_type": "stream",
          "name": "stdout",
          "text": [
            "2\n"
          ]
        }
      ]
    },
    {
      "cell_type": "code",
      "source": [
        "def mySubtract2(l, m):\n",
        "  n = l - m\n",
        "  return n"
      ],
      "metadata": {
        "id": "y4Dzoxl_tOng"
      },
      "execution_count": 10,
      "outputs": []
    },
    {
      "cell_type": "code",
      "source": [
        "k = 1\n",
        "result = mySubtract2(k) # 이렇게 하면 에러가 뜬다. m에 해당하는 변수가 갖춰지지 않았다는 에러.\n",
        "print(result)"
      ],
      "metadata": {
        "colab": {
          "base_uri": "https://localhost:8080/",
          "height": 221
        },
        "id": "_dTrmWWstclo",
        "outputId": "510a6bcb-68cf-42f7-8108-0115c3232f73"
      },
      "execution_count": 11,
      "outputs": [
        {
          "output_type": "error",
          "ename": "TypeError",
          "evalue": "ignored",
          "traceback": [
            "\u001b[0;31m---------------------------------------------------------------------------\u001b[0m",
            "\u001b[0;31mTypeError\u001b[0m                                 Traceback (most recent call last)",
            "\u001b[0;32m<ipython-input-11-907da83ed75a>\u001b[0m in \u001b[0;36m<cell line: 2>\u001b[0;34m()\u001b[0m\n\u001b[1;32m      1\u001b[0m \u001b[0mk\u001b[0m \u001b[0;34m=\u001b[0m \u001b[0;36m1\u001b[0m\u001b[0;34m\u001b[0m\u001b[0;34m\u001b[0m\u001b[0m\n\u001b[0;32m----> 2\u001b[0;31m \u001b[0mresult\u001b[0m \u001b[0;34m=\u001b[0m \u001b[0mmySubtract2\u001b[0m\u001b[0;34m(\u001b[0m\u001b[0mk\u001b[0m\u001b[0;34m)\u001b[0m\u001b[0;34m\u001b[0m\u001b[0;34m\u001b[0m\u001b[0m\n\u001b[0m\u001b[1;32m      3\u001b[0m \u001b[0mprint\u001b[0m\u001b[0;34m(\u001b[0m\u001b[0mresult\u001b[0m\u001b[0;34m)\u001b[0m\u001b[0;34m\u001b[0m\u001b[0;34m\u001b[0m\u001b[0m\n",
            "\u001b[0;31mTypeError\u001b[0m: mySubtract2() missing 1 required positional argument: 'm'"
          ]
        }
      ]
    },
    {
      "cell_type": "code",
      "source": [
        "def mySubtract3(h, i=0) : # i의 초기값이 정해졌으므로 이 함수의 필요 입력값(변수)은 h 1개 뿐이다. 만약 i를 0으로 정하고 싶으면 0을 넣어도 되는데, 보통은 i=None으로 넣는다.\n",
        "  j = h - i\n",
        "  return j\n",
        "i = 10\n",
        "result = mySubtract3(i)\n",
        "print(result)"
      ],
      "metadata": {
        "colab": {
          "base_uri": "https://localhost:8080/"
        },
        "id": "vX8xzWqhvFUZ",
        "outputId": "00d2f00d-da24-48db-905c-b88b9e1b6e8b"
      },
      "execution_count": 13,
      "outputs": [
        {
          "output_type": "stream",
          "name": "stdout",
          "text": [
            "10\n"
          ]
        }
      ]
    },
    {
      "cell_type": "code",
      "source": [
        "# return값 없는 함수 만들기\n",
        "def my_func():\n",
        "  print('My first function')\n",
        "  print('This is a function!')"
      ],
      "metadata": {
        "id": "YWzFKu8Vz8Au"
      },
      "execution_count": 15,
      "outputs": []
    },
    {
      "cell_type": "code",
      "source": [
        "my_func()"
      ],
      "metadata": {
        "colab": {
          "base_uri": "https://localhost:8080/"
        },
        "id": "BbCgoFzN0Poz",
        "outputId": "c7568501-ecaa-45dd-d25a-ea1333739a9c"
      },
      "execution_count": 16,
      "outputs": [
        {
          "output_type": "stream",
          "name": "stdout",
          "text": [
            "My first function\n",
            "This is a function!\n"
          ]
        }
      ]
    },
    {
      "cell_type": "code",
      "source": [
        "result = my_func()\n",
        "print(result) # 이렇게 결과를 정의하고 프린트하면 none으로 나오는데, 이는 해당 함수의 출력값이 없기 때문에 발생하는 현상. 쉽게 말 하면, a+b=c에서 c가 없는 함수인 것임. 그때문에 출력할 result가 없다."
      ],
      "metadata": {
        "colab": {
          "base_uri": "https://localhost:8080/"
        },
        "id": "6pxZw4Ff1bss",
        "outputId": "fdc1fbf7-9489-468d-a300-1b516f088906"
      },
      "execution_count": 17,
      "outputs": [
        {
          "output_type": "stream",
          "name": "stdout",
          "text": [
            "My first function\n",
            "This is a function!\n",
            "None\n"
          ]
        }
      ]
    },
    {
      "cell_type": "markdown",
      "source": [
        "### 변수의 유효 범위 p.121\n",
        "- 지역변수 & 전역변수\n",
        "- Local Variable, Global Variable"
      ],
      "metadata": {
        "id": "oO2b-sH62AgL"
      }
    },
    {
      "cell_type": "code",
      "source": [
        "aa = 5 # 전역 변수\n",
        "def func1():\n",
        "  aa = 1 # 지역 변수\n",
        "  print(f'func1 지역 변수 aa = {aa}') # f 문자열 포메팅에 대해 알아볼 것.\n",
        "def func2():\n",
        "  aa = 4 # 지역 변수\n",
        "  print(f'func2 지역 변수 aa = {aa}')\n",
        "def func3():\n",
        "  print(f'func3 지역 변수 aa = {aa}')\n",
        "\n",
        "print(f'변경 전 전역 변수 aa = {aa}') # 1번 프린트\n",
        "# 랩뷰같은 경우에는 루프 같은 것으로 변수를 한정시켜줄 수 있는데, 여기서는 그런 경계가 어떻게 설정되는지?\n",
        "# 함수를 거치지 않고 바로 aa를 호출했으니 aa=5가 나오는 것. 그러니까 함수를 새로 정의해주는 것으로 지역변수를 설정하는 것이다.\n",
        "# 그런데 요 프린트 사항은 왜 아래에 안나오는거지? 나왔음. 결과물 제일 위에. 잘 살며보면 결과물이 이거 프린트 순서대로 나옴. 표시 순서를 주석으로 달겠음.\n",
        "\n",
        "def func4():\n",
        "  global aa # 함수 내 전역변수를 변경하기 위함 (aa를 전역변수로 만들겠다는 의미)\n",
        "  aa = 500 # 지역 변수\n",
        "  print(f'func4 지역 변수 aa = {aa}')\n",
        "\n",
        "\n",
        "func1() # 2번 프린트\n",
        "func2() # 3번 프린트\n",
        "func3() # 4번 프린트\n",
        "func4() # 5번 프린트\n",
        "print(f'전역 변수 aa = {aa}') # 6번 프린트"
      ],
      "metadata": {
        "colab": {
          "base_uri": "https://localhost:8080/"
        },
        "id": "cSRKsYrx2KjL",
        "outputId": "22563e7e-9930-4ef3-9252-796f22d9148c"
      },
      "execution_count": 33,
      "outputs": [
        {
          "output_type": "stream",
          "name": "stdout",
          "text": [
            "변경 전 전역 변수 aa = 5\n",
            "func1 지역 변수 aa = 1\n",
            "func2 지역 변수 aa = 4\n",
            "func3 지역 변수 aa = 5\n",
            "func4 지역 변수 aa = 500\n",
            "전역 변수 aa = 500\n"
          ]
        }
      ]
    },
    {
      "cell_type": "markdown",
      "source": [
        "### 람다 함수\n",
        "- def 함수 같은 경우에는 복잡한 함수로 로직을 만들 때 주로 사용\n",
        "- 단순 기능을 수행할 때 lambda 함수\n",
        "  + 함수를 한 줄로 처리"
      ],
      "metadata": {
        "id": "jUylMs6I6xud"
      }
    },
    {
      "cell_type": "code",
      "source": [
        "(lambda x : x ** 2)(3)"
      ],
      "metadata": {
        "colab": {
          "base_uri": "https://localhost:8080/"
        },
        "id": "hCG9LHpm7cLc",
        "outputId": "20da80d1-e955-46eb-baaf-f2fe9d90ae6b"
      },
      "execution_count": 35,
      "outputs": [
        {
          "output_type": "execute_result",
          "data": {
            "text/plain": [
              "9"
            ]
          },
          "metadata": {},
          "execution_count": 35
        }
      ]
    },
    {
      "cell_type": "markdown",
      "source": [
        "- (lambda 인자(=매개변수) : 인자를 활용한 코드)(원하는 인자 코드 입력)"
      ],
      "metadata": {
        "id": "oVRGUy4o72EW"
      }
    },
    {
      "cell_type": "code",
      "source": [
        "mySquare = lambda x : x ** 2\n",
        "mySquare(5)"
      ],
      "metadata": {
        "colab": {
          "base_uri": "https://localhost:8080/"
        },
        "id": "YxdexTlU8Nhu",
        "outputId": "d604682f-a254-40c7-b453-08a08d763da5"
      },
      "execution_count": 38,
      "outputs": [
        {
          "output_type": "execute_result",
          "data": {
            "text/plain": [
              "25"
            ]
          },
          "metadata": {},
          "execution_count": 38
        }
      ]
    },
    {
      "cell_type": "code",
      "source": [
        "def myPower(x):\n",
        "  y = x ** 2\n",
        "  print(y)\n",
        "\n",
        "myPower(3)"
      ],
      "metadata": {
        "colab": {
          "base_uri": "https://localhost:8080/"
        },
        "id": "NkTCD4Qy7kpk",
        "outputId": "be4d7072-b13b-4936-f804-3f8e540ae00d"
      },
      "execution_count": 37,
      "outputs": [
        {
          "output_type": "stream",
          "name": "stdout",
          "text": [
            "9\n"
          ]
        }
      ]
    },
    {
      "cell_type": "markdown",
      "source": [
        "## 클래스 선언과 객체 생성\n",
        "- 교재 p.135\n",
        "- 함수의 확장\n",
        "- 함수와 클래스 비유적으로 비교\n",
        "  + 함수 : 각 덧셈함수, 뺄셈함수, 곱셈함수 등...\n",
        "  + 클래스 : 사칙연산 클래스. 예)계산기\n",
        "  + 라이브러리 : 클래스들의 묶음.\n",
        "    + 사칙연산 클래스\n",
        "    + 미적분 클래스 등등...\n",
        "    + 이것들을 묶으면 수학 라이브러리."
      ],
      "metadata": {
        "id": "eNaBcNTzBZUX"
      }
    },
    {
      "cell_type": "code",
      "source": [
        "# 자전거의 속성 : data (바퀴의 크기, 자전거 색상 등등...)\n",
        "# 자전거의 동작 : method (= function), 지정된 속도로 이동, 좌/우 회전, 브레이크 기능 등등..."
      ],
      "metadata": {
        "id": "pmXEeZnCDiNY"
      },
      "execution_count": null,
      "outputs": []
    },
    {
      "cell_type": "code",
      "source": [
        "class Bicycle() : # 클래스 선언\n",
        "  # 클래스 변수\n",
        "  데이터1 = 바퀴의 크기\n",
        "  데이터2 = 자전거의 색상\n",
        "\n",
        "  # 클래스 메서드\n",
        "  def 속도():\n",
        "    pass\n",
        "\n",
        "  def 방향():\n",
        "    pass\n",
        "\n",
        "  def 정지():\n",
        "    pass\n",
        "# 이것이 기본 구조.\n",
        "\n",
        "객체명 = Bicycle(데이터1, 데이터2) # 입력한 형태로 새로운 객체가 생김.\n",
        "\n",
        "# 상상\n",
        "벤츠자전거 = Bicycle(데이터1, 데이터2) # 매장 옵션\n",
        "\n",
        "# 문의\n",
        "# 벤츠자전거 하늘로 비행하나요? 불가합니다."
      ],
      "metadata": {
        "id": "moluvfc8EAcv"
      },
      "execution_count": null,
      "outputs": []
    },
    {
      "cell_type": "code",
      "source": [
        "fruits = [1, 2, 3, 4, 5, 6, 7]\n",
        "# count() 동작을 만듬.\n",
        "fruits.count(4)\n",
        "\n",
        "# 리스트에 숫자가 있음.\n",
        "# 숫자를 모두 더하고 싶어요.\n",
        "# 리스트에는 숫자 더하기 기능이 없습니다."
      ],
      "metadata": {
        "id": "DtaJmVuYF-lQ"
      },
      "execution_count": null,
      "outputs": []
    },
    {
      "cell_type": "markdown",
      "source": [
        "## 리스트에 덧셈함수를 넣고싶다.\n",
        "- 오픈소스 컨트리뷰터.\n",
        "- 쉽게 말하면 유용한 소스 만드는 사람. 직접적인 개발자가 되는 것임."
      ],
      "metadata": {
        "id": "FMhJBKuGHB4g"
      }
    },
    {
      "cell_type": "markdown",
      "source": [
        "### why Class? 프로그래밍 관점"
      ],
      "metadata": {
        "id": "WZmPi86yJTJx"
      }
    },
    {
      "cell_type": "code",
      "source": [
        "result = 0\n",
        "def add(num):\n",
        "  global result\n",
        "\n",
        "  result = result + num # 결과값(result)에 입력값(num) 더하기\n",
        "  return result\n",
        "\n",
        "print(add(3)) # +5 >> 8\n",
        "print(add(5))\n",
        "\n",
        "# 그런데 위와 같은 기능이 반복적으로 필요할 때는? 같은 기능을 수행하는 함수가 중복될 수 있다. / 코드의 가독성이 매우 급격하게 떨어지기 시작."
      ],
      "metadata": {
        "colab": {
          "base_uri": "https://localhost:8080/"
        },
        "id": "z3pM9UMGJW9y",
        "outputId": "6ee09a70-e943-4a7f-af67-11eb9305b904"
      },
      "execution_count": 41,
      "outputs": [
        {
          "output_type": "stream",
          "name": "stdout",
          "text": [
            "3\n",
            "8\n"
          ]
        }
      ]
    },
    {
      "cell_type": "code",
      "source": [
        "class Calculator :\n",
        "\n",
        "  def __init__(self):\n",
        "    self.result = 0 # result 값을 초기화\n",
        "\n",
        "  # 클래스 메서드\n",
        "  def add(self, num):\n",
        "    self.result = self.result + num\n",
        "    return self.result # 이렇게 완성된 코드는 랩뷰의 루프와 같은 기능을 함.\n",
        "\n",
        "cal1 = Calculator() #인스턴트화, 계산기 번호1. 추가로 빈 괄호로 두는 경우에 대해서도 좀 생각해보자.\n",
        "\n",
        "print(cal1.add(3))\n",
        "print(cal1.add(5))\n",
        "# 이거 전체적으로 코드가 무슨 의미인지 다시 한 번 읽어보자."
      ],
      "metadata": {
        "colab": {
          "base_uri": "https://localhost:8080/"
        },
        "id": "jkIUtA95PNs0",
        "outputId": "efa3c8e2-ead2-4919-edc1-014a918f9c1e"
      },
      "execution_count": 43,
      "outputs": [
        {
          "output_type": "stream",
          "name": "stdout",
          "text": [
            "3\n",
            "8\n"
          ]
        }
      ]
    },
    {
      "cell_type": "code",
      "source": [
        "class Calculator :\n",
        "\n",
        "  def __init__(self):\n",
        "    self.result = 0 # result 값을 초기화\n",
        "\n",
        "  # 클래스 메서드\n",
        "  def add(self, num):\n",
        "    self.result = self.result + num\n",
        "    return self.result # 이렇게 완성된 코드는 랩뷰의 루프와 같은 기능을 함.\n",
        "\n",
        "cal1 = Calculator() #인스턴트화, 계산기 번호1. 추가로 빈 괄호로 두는 경우에 대해서도 좀 생각해보자.\n",
        "cal2 = Calculator() #인스턴트화, 계산기 번호2\n",
        "\n",
        "# 코드가 독립적으로 구현되면서 동시에 실행이 되고 있음.\n",
        "# 코드를 연속적으로 만들 필요 없이, 설정한 class를 불러오는 것으로 간단하게 반복 구현 가능.\n",
        "# 기능은 덧셈기능\n",
        "# 더 설명하자면, 함수 디파인과 같은 기능인데, 디파인을 이용한 경우에는 코드가 길어짐. 그리하여 한 번만 디파인을 해놓고 class로 설정해놓으면 간단하게 불러올 수 있다는 의미.\n",
        "\n",
        "print(cal1.add(3))\n",
        "print(cal1.add(5))\n",
        "# 이거 전체적으로 코드가 무슨 의미인지 다시 한 번 읽어보자.\n",
        "# 참고로 라이브러리 문서를 여기서는 attribute라고 한다."
      ],
      "metadata": {
        "colab": {
          "base_uri": "https://localhost:8080/"
        },
        "outputId": "a8dd690a-d814-4c19-8c36-35f7ce07a066",
        "id": "_ys0PKtQR56P"
      },
      "execution_count": 44,
      "outputs": [
        {
          "output_type": "stream",
          "name": "stdout",
          "text": [
            "3\n",
            "8\n"
          ]
        }
      ]
    },
    {
      "cell_type": "markdown",
      "source": [
        "### 객체 초기화\n",
        "- `__int__()` : 객체 생성과 동시에 속성값을 지정할 수 있다.\n",
        "  + 주로 클래스 선언시 변수 초기화"
      ],
      "metadata": {
        "id": "9vF1BgJEVAR-"
      }
    },
    {
      "cell_type": "code",
      "source": [
        "class Bicycle():\n",
        "  # 변수 초기화\n",
        "  def __init__(self, wheel_size, color):\n",
        "    self.wheel_size = wheel_size\n",
        "    self.color = color\n",
        "\n",
        "  def stop(self):\n",
        "    print('자전거{0}, {1}) : 정지'.format(self.wheel_size, self.color))"
      ],
      "metadata": {
        "id": "UBNpghQJVZDl"
      },
      "execution_count": 46,
      "outputs": []
    },
    {
      "cell_type": "code",
      "source": [
        "my_bicycle = Bicycle(26, 'black')\n",
        "ur_bicycle = Bicycle(30, 'pink')\n",
        "\n",
        "my_bicycle.stop()\n",
        "ur_bicycle.stop()"
      ],
      "metadata": {
        "id": "TIYfYwxQWKpe"
      },
      "execution_count": 47,
      "outputs": []
    }
  ]
}